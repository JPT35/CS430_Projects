{
  "nbformat": 4,
  "nbformat_minor": 0,
  "metadata": {
    "colab": {
      "provenance": [],
      "authorship_tag": "ABX9TyP/ueKiUsdJRgCyWErMn0Vg",
      "include_colab_link": true
    },
    "kernelspec": {
      "name": "python3",
      "display_name": "Python 3"
    },
    "language_info": {
      "name": "python"
    }
  },
  "cells": [
    {
      "cell_type": "markdown",
      "metadata": {
        "id": "view-in-github",
        "colab_type": "text"
      },
      "source": [
        "<a href=\"https://colab.research.google.com/github/JPT35/CS430_Projects/blob/main/MLA_JPT.ipynb\" target=\"_parent\"><img src=\"https://colab.research.google.com/assets/colab-badge.svg\" alt=\"Open In Colab\"/></a>"
      ]
    },
    {
      "cell_type": "markdown",
      "source": [
        "Machine Learning Assignment 1\n",
        "\n",
        "John Paul Thomas\n",
        "\n",
        "CS430-ON\n",
        "\n",
        "Machine Learning in the Cloud"
      ],
      "metadata": {
        "id": "2QKHG3dL5Idy"
      }
    },
    {
      "cell_type": "code",
      "source": [
        "from ast import increment_lineno\n",
        "import pandas as pd\n",
        "import numpy as np \n",
        "import matplotlib.pyplot as plt\n",
        "import seaborn as sns\n",
        "%matplotlib inline"
      ],
      "metadata": {
        "id": "xjc71mWmgJnf"
      },
      "execution_count": null,
      "outputs": []
    },
    {
      "cell_type": "code",
      "source": [
        "from google.colab import drive\n",
        "drive.mount('content/gdrive')\n"
      ],
      "metadata": {
        "id": "l3jITjchgl1w"
      },
      "execution_count": null,
      "outputs": []
    },
    {
      "cell_type": "code",
      "source": [
        "df = pd.read_csv('/content/gdrive/MyDrive/CS-430/weather_2012.csv')"
      ],
      "metadata": {
        "id": "xaXVy7JngvwU"
      },
      "execution_count": null,
      "outputs": []
    },
    {
      "cell_type": "code",
      "source": [
        "df.head()"
      ],
      "metadata": {
        "colab": {
          "base_uri": "https://localhost:8080/",
          "height": 206
        },
        "id": "FhIZlhZyhMTC",
        "outputId": "c5b457e8-b6db-4bd1-fba8-cbbef4483cf0"
      },
      "execution_count": null,
      "outputs": [
        {
          "output_type": "execute_result",
          "data": {
            "text/plain": [
              "             Date/Time  Temp (C)  Dew Point Temp (C)  Rel Hum (%)  \\\n",
              "0  2012-01-01 00:00:00      -1.8                -3.9           86   \n",
              "1  2012-01-01 01:00:00      -1.8                -3.7           87   \n",
              "2  2012-01-01 02:00:00      -1.8                -3.4           89   \n",
              "3  2012-01-01 03:00:00      -1.5                -3.2           88   \n",
              "4  2012-01-01 04:00:00      -1.5                -3.3           88   \n",
              "\n",
              "   Wind Spd (km/h)  Visibility (km)  Stn Press (kPa)               Weather  \n",
              "0                4              8.0           101.24                   Fog  \n",
              "1                4              8.0           101.24                   Fog  \n",
              "2                7              4.0           101.26  Freezing Drizzle,Fog  \n",
              "3                6              4.0           101.27  Freezing Drizzle,Fog  \n",
              "4                7              4.8           101.23                   Fog  "
            ],
            "text/html": [
              "\n",
              "  <div id=\"df-cc08cf23-4cdf-449a-a3e6-07cdd81f3048\">\n",
              "    <div class=\"colab-df-container\">\n",
              "      <div>\n",
              "<style scoped>\n",
              "    .dataframe tbody tr th:only-of-type {\n",
              "        vertical-align: middle;\n",
              "    }\n",
              "\n",
              "    .dataframe tbody tr th {\n",
              "        vertical-align: top;\n",
              "    }\n",
              "\n",
              "    .dataframe thead th {\n",
              "        text-align: right;\n",
              "    }\n",
              "</style>\n",
              "<table border=\"1\" class=\"dataframe\">\n",
              "  <thead>\n",
              "    <tr style=\"text-align: right;\">\n",
              "      <th></th>\n",
              "      <th>Date/Time</th>\n",
              "      <th>Temp (C)</th>\n",
              "      <th>Dew Point Temp (C)</th>\n",
              "      <th>Rel Hum (%)</th>\n",
              "      <th>Wind Spd (km/h)</th>\n",
              "      <th>Visibility (km)</th>\n",
              "      <th>Stn Press (kPa)</th>\n",
              "      <th>Weather</th>\n",
              "    </tr>\n",
              "  </thead>\n",
              "  <tbody>\n",
              "    <tr>\n",
              "      <th>0</th>\n",
              "      <td>2012-01-01 00:00:00</td>\n",
              "      <td>-1.8</td>\n",
              "      <td>-3.9</td>\n",
              "      <td>86</td>\n",
              "      <td>4</td>\n",
              "      <td>8.0</td>\n",
              "      <td>101.24</td>\n",
              "      <td>Fog</td>\n",
              "    </tr>\n",
              "    <tr>\n",
              "      <th>1</th>\n",
              "      <td>2012-01-01 01:00:00</td>\n",
              "      <td>-1.8</td>\n",
              "      <td>-3.7</td>\n",
              "      <td>87</td>\n",
              "      <td>4</td>\n",
              "      <td>8.0</td>\n",
              "      <td>101.24</td>\n",
              "      <td>Fog</td>\n",
              "    </tr>\n",
              "    <tr>\n",
              "      <th>2</th>\n",
              "      <td>2012-01-01 02:00:00</td>\n",
              "      <td>-1.8</td>\n",
              "      <td>-3.4</td>\n",
              "      <td>89</td>\n",
              "      <td>7</td>\n",
              "      <td>4.0</td>\n",
              "      <td>101.26</td>\n",
              "      <td>Freezing Drizzle,Fog</td>\n",
              "    </tr>\n",
              "    <tr>\n",
              "      <th>3</th>\n",
              "      <td>2012-01-01 03:00:00</td>\n",
              "      <td>-1.5</td>\n",
              "      <td>-3.2</td>\n",
              "      <td>88</td>\n",
              "      <td>6</td>\n",
              "      <td>4.0</td>\n",
              "      <td>101.27</td>\n",
              "      <td>Freezing Drizzle,Fog</td>\n",
              "    </tr>\n",
              "    <tr>\n",
              "      <th>4</th>\n",
              "      <td>2012-01-01 04:00:00</td>\n",
              "      <td>-1.5</td>\n",
              "      <td>-3.3</td>\n",
              "      <td>88</td>\n",
              "      <td>7</td>\n",
              "      <td>4.8</td>\n",
              "      <td>101.23</td>\n",
              "      <td>Fog</td>\n",
              "    </tr>\n",
              "  </tbody>\n",
              "</table>\n",
              "</div>\n",
              "      <button class=\"colab-df-convert\" onclick=\"convertToInteractive('df-cc08cf23-4cdf-449a-a3e6-07cdd81f3048')\"\n",
              "              title=\"Convert this dataframe to an interactive table.\"\n",
              "              style=\"display:none;\">\n",
              "        \n",
              "  <svg xmlns=\"http://www.w3.org/2000/svg\" height=\"24px\"viewBox=\"0 0 24 24\"\n",
              "       width=\"24px\">\n",
              "    <path d=\"M0 0h24v24H0V0z\" fill=\"none\"/>\n",
              "    <path d=\"M18.56 5.44l.94 2.06.94-2.06 2.06-.94-2.06-.94-.94-2.06-.94 2.06-2.06.94zm-11 1L8.5 8.5l.94-2.06 2.06-.94-2.06-.94L8.5 2.5l-.94 2.06-2.06.94zm10 10l.94 2.06.94-2.06 2.06-.94-2.06-.94-.94-2.06-.94 2.06-2.06.94z\"/><path d=\"M17.41 7.96l-1.37-1.37c-.4-.4-.92-.59-1.43-.59-.52 0-1.04.2-1.43.59L10.3 9.45l-7.72 7.72c-.78.78-.78 2.05 0 2.83L4 21.41c.39.39.9.59 1.41.59.51 0 1.02-.2 1.41-.59l7.78-7.78 2.81-2.81c.8-.78.8-2.07 0-2.86zM5.41 20L4 18.59l7.72-7.72 1.47 1.35L5.41 20z\"/>\n",
              "  </svg>\n",
              "      </button>\n",
              "      \n",
              "  <style>\n",
              "    .colab-df-container {\n",
              "      display:flex;\n",
              "      flex-wrap:wrap;\n",
              "      gap: 12px;\n",
              "    }\n",
              "\n",
              "    .colab-df-convert {\n",
              "      background-color: #E8F0FE;\n",
              "      border: none;\n",
              "      border-radius: 50%;\n",
              "      cursor: pointer;\n",
              "      display: none;\n",
              "      fill: #1967D2;\n",
              "      height: 32px;\n",
              "      padding: 0 0 0 0;\n",
              "      width: 32px;\n",
              "    }\n",
              "\n",
              "    .colab-df-convert:hover {\n",
              "      background-color: #E2EBFA;\n",
              "      box-shadow: 0px 1px 2px rgba(60, 64, 67, 0.3), 0px 1px 3px 1px rgba(60, 64, 67, 0.15);\n",
              "      fill: #174EA6;\n",
              "    }\n",
              "\n",
              "    [theme=dark] .colab-df-convert {\n",
              "      background-color: #3B4455;\n",
              "      fill: #D2E3FC;\n",
              "    }\n",
              "\n",
              "    [theme=dark] .colab-df-convert:hover {\n",
              "      background-color: #434B5C;\n",
              "      box-shadow: 0px 1px 3px 1px rgba(0, 0, 0, 0.15);\n",
              "      filter: drop-shadow(0px 1px 2px rgba(0, 0, 0, 0.3));\n",
              "      fill: #FFFFFF;\n",
              "    }\n",
              "  </style>\n",
              "\n",
              "      <script>\n",
              "        const buttonEl =\n",
              "          document.querySelector('#df-cc08cf23-4cdf-449a-a3e6-07cdd81f3048 button.colab-df-convert');\n",
              "        buttonEl.style.display =\n",
              "          google.colab.kernel.accessAllowed ? 'block' : 'none';\n",
              "\n",
              "        async function convertToInteractive(key) {\n",
              "          const element = document.querySelector('#df-cc08cf23-4cdf-449a-a3e6-07cdd81f3048');\n",
              "          const dataTable =\n",
              "            await google.colab.kernel.invokeFunction('convertToInteractive',\n",
              "                                                     [key], {});\n",
              "          if (!dataTable) return;\n",
              "\n",
              "          const docLinkHtml = 'Like what you see? Visit the ' +\n",
              "            '<a target=\"_blank\" href=https://colab.research.google.com/notebooks/data_table.ipynb>data table notebook</a>'\n",
              "            + ' to learn more about interactive tables.';\n",
              "          element.innerHTML = '';\n",
              "          dataTable['output_type'] = 'display_data';\n",
              "          await google.colab.output.renderOutput(dataTable, element);\n",
              "          const docLink = document.createElement('div');\n",
              "          docLink.innerHTML = docLinkHtml;\n",
              "          element.appendChild(docLink);\n",
              "        }\n",
              "      </script>\n",
              "    </div>\n",
              "  </div>\n",
              "  "
            ]
          },
          "metadata": {},
          "execution_count": 3
        }
      ]
    },
    {
      "cell_type": "code",
      "source": [
        "df.head(5)"
      ],
      "metadata": {
        "colab": {
          "base_uri": "https://localhost:8080/",
          "height": 206
        },
        "id": "AFdwK_Jfheyr",
        "outputId": "d78201c6-5c89-464a-b76b-f075ef519d8a"
      },
      "execution_count": null,
      "outputs": [
        {
          "output_type": "execute_result",
          "data": {
            "text/plain": [
              "             Date/Time  Temp (C)  Dew Point Temp (C)  Rel Hum (%)  \\\n",
              "0  2012-01-01 00:00:00      -1.8                -3.9           86   \n",
              "1  2012-01-01 01:00:00      -1.8                -3.7           87   \n",
              "2  2012-01-01 02:00:00      -1.8                -3.4           89   \n",
              "3  2012-01-01 03:00:00      -1.5                -3.2           88   \n",
              "4  2012-01-01 04:00:00      -1.5                -3.3           88   \n",
              "\n",
              "   Wind Spd (km/h)  Visibility (km)  Stn Press (kPa)               Weather  \n",
              "0                4              8.0           101.24                   Fog  \n",
              "1                4              8.0           101.24                   Fog  \n",
              "2                7              4.0           101.26  Freezing Drizzle,Fog  \n",
              "3                6              4.0           101.27  Freezing Drizzle,Fog  \n",
              "4                7              4.8           101.23                   Fog  "
            ],
            "text/html": [
              "\n",
              "  <div id=\"df-44aaaa03-462d-4966-9a28-830d81e72d77\">\n",
              "    <div class=\"colab-df-container\">\n",
              "      <div>\n",
              "<style scoped>\n",
              "    .dataframe tbody tr th:only-of-type {\n",
              "        vertical-align: middle;\n",
              "    }\n",
              "\n",
              "    .dataframe tbody tr th {\n",
              "        vertical-align: top;\n",
              "    }\n",
              "\n",
              "    .dataframe thead th {\n",
              "        text-align: right;\n",
              "    }\n",
              "</style>\n",
              "<table border=\"1\" class=\"dataframe\">\n",
              "  <thead>\n",
              "    <tr style=\"text-align: right;\">\n",
              "      <th></th>\n",
              "      <th>Date/Time</th>\n",
              "      <th>Temp (C)</th>\n",
              "      <th>Dew Point Temp (C)</th>\n",
              "      <th>Rel Hum (%)</th>\n",
              "      <th>Wind Spd (km/h)</th>\n",
              "      <th>Visibility (km)</th>\n",
              "      <th>Stn Press (kPa)</th>\n",
              "      <th>Weather</th>\n",
              "    </tr>\n",
              "  </thead>\n",
              "  <tbody>\n",
              "    <tr>\n",
              "      <th>0</th>\n",
              "      <td>2012-01-01 00:00:00</td>\n",
              "      <td>-1.8</td>\n",
              "      <td>-3.9</td>\n",
              "      <td>86</td>\n",
              "      <td>4</td>\n",
              "      <td>8.0</td>\n",
              "      <td>101.24</td>\n",
              "      <td>Fog</td>\n",
              "    </tr>\n",
              "    <tr>\n",
              "      <th>1</th>\n",
              "      <td>2012-01-01 01:00:00</td>\n",
              "      <td>-1.8</td>\n",
              "      <td>-3.7</td>\n",
              "      <td>87</td>\n",
              "      <td>4</td>\n",
              "      <td>8.0</td>\n",
              "      <td>101.24</td>\n",
              "      <td>Fog</td>\n",
              "    </tr>\n",
              "    <tr>\n",
              "      <th>2</th>\n",
              "      <td>2012-01-01 02:00:00</td>\n",
              "      <td>-1.8</td>\n",
              "      <td>-3.4</td>\n",
              "      <td>89</td>\n",
              "      <td>7</td>\n",
              "      <td>4.0</td>\n",
              "      <td>101.26</td>\n",
              "      <td>Freezing Drizzle,Fog</td>\n",
              "    </tr>\n",
              "    <tr>\n",
              "      <th>3</th>\n",
              "      <td>2012-01-01 03:00:00</td>\n",
              "      <td>-1.5</td>\n",
              "      <td>-3.2</td>\n",
              "      <td>88</td>\n",
              "      <td>6</td>\n",
              "      <td>4.0</td>\n",
              "      <td>101.27</td>\n",
              "      <td>Freezing Drizzle,Fog</td>\n",
              "    </tr>\n",
              "    <tr>\n",
              "      <th>4</th>\n",
              "      <td>2012-01-01 04:00:00</td>\n",
              "      <td>-1.5</td>\n",
              "      <td>-3.3</td>\n",
              "      <td>88</td>\n",
              "      <td>7</td>\n",
              "      <td>4.8</td>\n",
              "      <td>101.23</td>\n",
              "      <td>Fog</td>\n",
              "    </tr>\n",
              "  </tbody>\n",
              "</table>\n",
              "</div>\n",
              "      <button class=\"colab-df-convert\" onclick=\"convertToInteractive('df-44aaaa03-462d-4966-9a28-830d81e72d77')\"\n",
              "              title=\"Convert this dataframe to an interactive table.\"\n",
              "              style=\"display:none;\">\n",
              "        \n",
              "  <svg xmlns=\"http://www.w3.org/2000/svg\" height=\"24px\"viewBox=\"0 0 24 24\"\n",
              "       width=\"24px\">\n",
              "    <path d=\"M0 0h24v24H0V0z\" fill=\"none\"/>\n",
              "    <path d=\"M18.56 5.44l.94 2.06.94-2.06 2.06-.94-2.06-.94-.94-2.06-.94 2.06-2.06.94zm-11 1L8.5 8.5l.94-2.06 2.06-.94-2.06-.94L8.5 2.5l-.94 2.06-2.06.94zm10 10l.94 2.06.94-2.06 2.06-.94-2.06-.94-.94-2.06-.94 2.06-2.06.94z\"/><path d=\"M17.41 7.96l-1.37-1.37c-.4-.4-.92-.59-1.43-.59-.52 0-1.04.2-1.43.59L10.3 9.45l-7.72 7.72c-.78.78-.78 2.05 0 2.83L4 21.41c.39.39.9.59 1.41.59.51 0 1.02-.2 1.41-.59l7.78-7.78 2.81-2.81c.8-.78.8-2.07 0-2.86zM5.41 20L4 18.59l7.72-7.72 1.47 1.35L5.41 20z\"/>\n",
              "  </svg>\n",
              "      </button>\n",
              "      \n",
              "  <style>\n",
              "    .colab-df-container {\n",
              "      display:flex;\n",
              "      flex-wrap:wrap;\n",
              "      gap: 12px;\n",
              "    }\n",
              "\n",
              "    .colab-df-convert {\n",
              "      background-color: #E8F0FE;\n",
              "      border: none;\n",
              "      border-radius: 50%;\n",
              "      cursor: pointer;\n",
              "      display: none;\n",
              "      fill: #1967D2;\n",
              "      height: 32px;\n",
              "      padding: 0 0 0 0;\n",
              "      width: 32px;\n",
              "    }\n",
              "\n",
              "    .colab-df-convert:hover {\n",
              "      background-color: #E2EBFA;\n",
              "      box-shadow: 0px 1px 2px rgba(60, 64, 67, 0.3), 0px 1px 3px 1px rgba(60, 64, 67, 0.15);\n",
              "      fill: #174EA6;\n",
              "    }\n",
              "\n",
              "    [theme=dark] .colab-df-convert {\n",
              "      background-color: #3B4455;\n",
              "      fill: #D2E3FC;\n",
              "    }\n",
              "\n",
              "    [theme=dark] .colab-df-convert:hover {\n",
              "      background-color: #434B5C;\n",
              "      box-shadow: 0px 1px 3px 1px rgba(0, 0, 0, 0.15);\n",
              "      filter: drop-shadow(0px 1px 2px rgba(0, 0, 0, 0.3));\n",
              "      fill: #FFFFFF;\n",
              "    }\n",
              "  </style>\n",
              "\n",
              "      <script>\n",
              "        const buttonEl =\n",
              "          document.querySelector('#df-44aaaa03-462d-4966-9a28-830d81e72d77 button.colab-df-convert');\n",
              "        buttonEl.style.display =\n",
              "          google.colab.kernel.accessAllowed ? 'block' : 'none';\n",
              "\n",
              "        async function convertToInteractive(key) {\n",
              "          const element = document.querySelector('#df-44aaaa03-462d-4966-9a28-830d81e72d77');\n",
              "          const dataTable =\n",
              "            await google.colab.kernel.invokeFunction('convertToInteractive',\n",
              "                                                     [key], {});\n",
              "          if (!dataTable) return;\n",
              "\n",
              "          const docLinkHtml = 'Like what you see? Visit the ' +\n",
              "            '<a target=\"_blank\" href=https://colab.research.google.com/notebooks/data_table.ipynb>data table notebook</a>'\n",
              "            + ' to learn more about interactive tables.';\n",
              "          element.innerHTML = '';\n",
              "          dataTable['output_type'] = 'display_data';\n",
              "          await google.colab.output.renderOutput(dataTable, element);\n",
              "          const docLink = document.createElement('div');\n",
              "          docLink.innerHTML = docLinkHtml;\n",
              "          element.appendChild(docLink);\n",
              "        }\n",
              "      </script>\n",
              "    </div>\n",
              "  </div>\n",
              "  "
            ]
          },
          "metadata": {},
          "execution_count": 6
        }
      ]
    },
    {
      "cell_type": "code",
      "source": [
        "df.tail(5)"
      ],
      "metadata": {
        "colab": {
          "base_uri": "https://localhost:8080/",
          "height": 206
        },
        "id": "dAZ9iE_aiYF-",
        "outputId": "93fcd0b3-c27e-4e39-ea9e-07bdd2f8e541"
      },
      "execution_count": null,
      "outputs": [
        {
          "output_type": "execute_result",
          "data": {
            "text/plain": [
              "                Date/Time  Temp (C)  Dew Point Temp (C)  Rel Hum (%)  \\\n",
              "8779  2012-12-31 19:00:00       0.1                -2.7           81   \n",
              "8780  2012-12-31 20:00:00       0.2                -2.4           83   \n",
              "8781  2012-12-31 21:00:00      -0.5                -1.5           93   \n",
              "8782  2012-12-31 22:00:00      -0.2                -1.8           89   \n",
              "8783  2012-12-31 23:00:00       0.0                -2.1           86   \n",
              "\n",
              "      Wind Spd (km/h)  Visibility (km)  Stn Press (kPa) Weather  \n",
              "8779               30              9.7           100.13    Snow  \n",
              "8780               24              9.7           100.03    Snow  \n",
              "8781               28              4.8            99.95    Snow  \n",
              "8782               28              9.7            99.91    Snow  \n",
              "8783               30             11.3            99.89    Snow  "
            ],
            "text/html": [
              "\n",
              "  <div id=\"df-3e907d72-dd6f-4793-858c-9c097bd3e5fb\">\n",
              "    <div class=\"colab-df-container\">\n",
              "      <div>\n",
              "<style scoped>\n",
              "    .dataframe tbody tr th:only-of-type {\n",
              "        vertical-align: middle;\n",
              "    }\n",
              "\n",
              "    .dataframe tbody tr th {\n",
              "        vertical-align: top;\n",
              "    }\n",
              "\n",
              "    .dataframe thead th {\n",
              "        text-align: right;\n",
              "    }\n",
              "</style>\n",
              "<table border=\"1\" class=\"dataframe\">\n",
              "  <thead>\n",
              "    <tr style=\"text-align: right;\">\n",
              "      <th></th>\n",
              "      <th>Date/Time</th>\n",
              "      <th>Temp (C)</th>\n",
              "      <th>Dew Point Temp (C)</th>\n",
              "      <th>Rel Hum (%)</th>\n",
              "      <th>Wind Spd (km/h)</th>\n",
              "      <th>Visibility (km)</th>\n",
              "      <th>Stn Press (kPa)</th>\n",
              "      <th>Weather</th>\n",
              "    </tr>\n",
              "  </thead>\n",
              "  <tbody>\n",
              "    <tr>\n",
              "      <th>8779</th>\n",
              "      <td>2012-12-31 19:00:00</td>\n",
              "      <td>0.1</td>\n",
              "      <td>-2.7</td>\n",
              "      <td>81</td>\n",
              "      <td>30</td>\n",
              "      <td>9.7</td>\n",
              "      <td>100.13</td>\n",
              "      <td>Snow</td>\n",
              "    </tr>\n",
              "    <tr>\n",
              "      <th>8780</th>\n",
              "      <td>2012-12-31 20:00:00</td>\n",
              "      <td>0.2</td>\n",
              "      <td>-2.4</td>\n",
              "      <td>83</td>\n",
              "      <td>24</td>\n",
              "      <td>9.7</td>\n",
              "      <td>100.03</td>\n",
              "      <td>Snow</td>\n",
              "    </tr>\n",
              "    <tr>\n",
              "      <th>8781</th>\n",
              "      <td>2012-12-31 21:00:00</td>\n",
              "      <td>-0.5</td>\n",
              "      <td>-1.5</td>\n",
              "      <td>93</td>\n",
              "      <td>28</td>\n",
              "      <td>4.8</td>\n",
              "      <td>99.95</td>\n",
              "      <td>Snow</td>\n",
              "    </tr>\n",
              "    <tr>\n",
              "      <th>8782</th>\n",
              "      <td>2012-12-31 22:00:00</td>\n",
              "      <td>-0.2</td>\n",
              "      <td>-1.8</td>\n",
              "      <td>89</td>\n",
              "      <td>28</td>\n",
              "      <td>9.7</td>\n",
              "      <td>99.91</td>\n",
              "      <td>Snow</td>\n",
              "    </tr>\n",
              "    <tr>\n",
              "      <th>8783</th>\n",
              "      <td>2012-12-31 23:00:00</td>\n",
              "      <td>0.0</td>\n",
              "      <td>-2.1</td>\n",
              "      <td>86</td>\n",
              "      <td>30</td>\n",
              "      <td>11.3</td>\n",
              "      <td>99.89</td>\n",
              "      <td>Snow</td>\n",
              "    </tr>\n",
              "  </tbody>\n",
              "</table>\n",
              "</div>\n",
              "      <button class=\"colab-df-convert\" onclick=\"convertToInteractive('df-3e907d72-dd6f-4793-858c-9c097bd3e5fb')\"\n",
              "              title=\"Convert this dataframe to an interactive table.\"\n",
              "              style=\"display:none;\">\n",
              "        \n",
              "  <svg xmlns=\"http://www.w3.org/2000/svg\" height=\"24px\"viewBox=\"0 0 24 24\"\n",
              "       width=\"24px\">\n",
              "    <path d=\"M0 0h24v24H0V0z\" fill=\"none\"/>\n",
              "    <path d=\"M18.56 5.44l.94 2.06.94-2.06 2.06-.94-2.06-.94-.94-2.06-.94 2.06-2.06.94zm-11 1L8.5 8.5l.94-2.06 2.06-.94-2.06-.94L8.5 2.5l-.94 2.06-2.06.94zm10 10l.94 2.06.94-2.06 2.06-.94-2.06-.94-.94-2.06-.94 2.06-2.06.94z\"/><path d=\"M17.41 7.96l-1.37-1.37c-.4-.4-.92-.59-1.43-.59-.52 0-1.04.2-1.43.59L10.3 9.45l-7.72 7.72c-.78.78-.78 2.05 0 2.83L4 21.41c.39.39.9.59 1.41.59.51 0 1.02-.2 1.41-.59l7.78-7.78 2.81-2.81c.8-.78.8-2.07 0-2.86zM5.41 20L4 18.59l7.72-7.72 1.47 1.35L5.41 20z\"/>\n",
              "  </svg>\n",
              "      </button>\n",
              "      \n",
              "  <style>\n",
              "    .colab-df-container {\n",
              "      display:flex;\n",
              "      flex-wrap:wrap;\n",
              "      gap: 12px;\n",
              "    }\n",
              "\n",
              "    .colab-df-convert {\n",
              "      background-color: #E8F0FE;\n",
              "      border: none;\n",
              "      border-radius: 50%;\n",
              "      cursor: pointer;\n",
              "      display: none;\n",
              "      fill: #1967D2;\n",
              "      height: 32px;\n",
              "      padding: 0 0 0 0;\n",
              "      width: 32px;\n",
              "    }\n",
              "\n",
              "    .colab-df-convert:hover {\n",
              "      background-color: #E2EBFA;\n",
              "      box-shadow: 0px 1px 2px rgba(60, 64, 67, 0.3), 0px 1px 3px 1px rgba(60, 64, 67, 0.15);\n",
              "      fill: #174EA6;\n",
              "    }\n",
              "\n",
              "    [theme=dark] .colab-df-convert {\n",
              "      background-color: #3B4455;\n",
              "      fill: #D2E3FC;\n",
              "    }\n",
              "\n",
              "    [theme=dark] .colab-df-convert:hover {\n",
              "      background-color: #434B5C;\n",
              "      box-shadow: 0px 1px 3px 1px rgba(0, 0, 0, 0.15);\n",
              "      filter: drop-shadow(0px 1px 2px rgba(0, 0, 0, 0.3));\n",
              "      fill: #FFFFFF;\n",
              "    }\n",
              "  </style>\n",
              "\n",
              "      <script>\n",
              "        const buttonEl =\n",
              "          document.querySelector('#df-3e907d72-dd6f-4793-858c-9c097bd3e5fb button.colab-df-convert');\n",
              "        buttonEl.style.display =\n",
              "          google.colab.kernel.accessAllowed ? 'block' : 'none';\n",
              "\n",
              "        async function convertToInteractive(key) {\n",
              "          const element = document.querySelector('#df-3e907d72-dd6f-4793-858c-9c097bd3e5fb');\n",
              "          const dataTable =\n",
              "            await google.colab.kernel.invokeFunction('convertToInteractive',\n",
              "                                                     [key], {});\n",
              "          if (!dataTable) return;\n",
              "\n",
              "          const docLinkHtml = 'Like what you see? Visit the ' +\n",
              "            '<a target=\"_blank\" href=https://colab.research.google.com/notebooks/data_table.ipynb>data table notebook</a>'\n",
              "            + ' to learn more about interactive tables.';\n",
              "          element.innerHTML = '';\n",
              "          dataTable['output_type'] = 'display_data';\n",
              "          await google.colab.output.renderOutput(dataTable, element);\n",
              "          const docLink = document.createElement('div');\n",
              "          docLink.innerHTML = docLinkHtml;\n",
              "          element.appendChild(docLink);\n",
              "        }\n",
              "      </script>\n",
              "    </div>\n",
              "  </div>\n",
              "  "
            ]
          },
          "metadata": {},
          "execution_count": 7
        }
      ]
    },
    {
      "cell_type": "code",
      "source": [
        "df.sample(5)"
      ],
      "metadata": {
        "colab": {
          "base_uri": "https://localhost:8080/",
          "height": 206
        },
        "id": "lwVv0r0UibdS",
        "outputId": "689a4bd6-004a-4f5d-e7c0-cb3209a77b83"
      },
      "execution_count": null,
      "outputs": [
        {
          "output_type": "execute_result",
          "data": {
            "text/plain": [
              "                Date/Time  Temp (C)  Dew Point Temp (C)  Rel Hum (%)  \\\n",
              "8492  2012-12-19 20:00:00       0.7                 0.1           96   \n",
              "957   2012-02-09 21:00:00       0.2                -5.5           65   \n",
              "7750  2012-11-18 22:00:00      -1.3                -6.9           66   \n",
              "2909  2012-05-01 05:00:00       7.8                 5.1           83   \n",
              "3128  2012-05-10 08:00:00       9.0                 5.6           79   \n",
              "\n",
              "      Wind Spd (km/h)  Visibility (km)  Stn Press (kPa)   Weather  \n",
              "8492               11              6.4           101.32  Snow,Fog  \n",
              "957                22             25.0           101.13     Clear  \n",
              "7750               11             25.0           103.25    Cloudy  \n",
              "2909               24             11.3           101.13      Rain  \n",
              "3128               20             24.1            99.51    Cloudy  "
            ],
            "text/html": [
              "\n",
              "  <div id=\"df-5ab9ac61-1710-45ca-9d94-e23fde098ee9\">\n",
              "    <div class=\"colab-df-container\">\n",
              "      <div>\n",
              "<style scoped>\n",
              "    .dataframe tbody tr th:only-of-type {\n",
              "        vertical-align: middle;\n",
              "    }\n",
              "\n",
              "    .dataframe tbody tr th {\n",
              "        vertical-align: top;\n",
              "    }\n",
              "\n",
              "    .dataframe thead th {\n",
              "        text-align: right;\n",
              "    }\n",
              "</style>\n",
              "<table border=\"1\" class=\"dataframe\">\n",
              "  <thead>\n",
              "    <tr style=\"text-align: right;\">\n",
              "      <th></th>\n",
              "      <th>Date/Time</th>\n",
              "      <th>Temp (C)</th>\n",
              "      <th>Dew Point Temp (C)</th>\n",
              "      <th>Rel Hum (%)</th>\n",
              "      <th>Wind Spd (km/h)</th>\n",
              "      <th>Visibility (km)</th>\n",
              "      <th>Stn Press (kPa)</th>\n",
              "      <th>Weather</th>\n",
              "    </tr>\n",
              "  </thead>\n",
              "  <tbody>\n",
              "    <tr>\n",
              "      <th>8492</th>\n",
              "      <td>2012-12-19 20:00:00</td>\n",
              "      <td>0.7</td>\n",
              "      <td>0.1</td>\n",
              "      <td>96</td>\n",
              "      <td>11</td>\n",
              "      <td>6.4</td>\n",
              "      <td>101.32</td>\n",
              "      <td>Snow,Fog</td>\n",
              "    </tr>\n",
              "    <tr>\n",
              "      <th>957</th>\n",
              "      <td>2012-02-09 21:00:00</td>\n",
              "      <td>0.2</td>\n",
              "      <td>-5.5</td>\n",
              "      <td>65</td>\n",
              "      <td>22</td>\n",
              "      <td>25.0</td>\n",
              "      <td>101.13</td>\n",
              "      <td>Clear</td>\n",
              "    </tr>\n",
              "    <tr>\n",
              "      <th>7750</th>\n",
              "      <td>2012-11-18 22:00:00</td>\n",
              "      <td>-1.3</td>\n",
              "      <td>-6.9</td>\n",
              "      <td>66</td>\n",
              "      <td>11</td>\n",
              "      <td>25.0</td>\n",
              "      <td>103.25</td>\n",
              "      <td>Cloudy</td>\n",
              "    </tr>\n",
              "    <tr>\n",
              "      <th>2909</th>\n",
              "      <td>2012-05-01 05:00:00</td>\n",
              "      <td>7.8</td>\n",
              "      <td>5.1</td>\n",
              "      <td>83</td>\n",
              "      <td>24</td>\n",
              "      <td>11.3</td>\n",
              "      <td>101.13</td>\n",
              "      <td>Rain</td>\n",
              "    </tr>\n",
              "    <tr>\n",
              "      <th>3128</th>\n",
              "      <td>2012-05-10 08:00:00</td>\n",
              "      <td>9.0</td>\n",
              "      <td>5.6</td>\n",
              "      <td>79</td>\n",
              "      <td>20</td>\n",
              "      <td>24.1</td>\n",
              "      <td>99.51</td>\n",
              "      <td>Cloudy</td>\n",
              "    </tr>\n",
              "  </tbody>\n",
              "</table>\n",
              "</div>\n",
              "      <button class=\"colab-df-convert\" onclick=\"convertToInteractive('df-5ab9ac61-1710-45ca-9d94-e23fde098ee9')\"\n",
              "              title=\"Convert this dataframe to an interactive table.\"\n",
              "              style=\"display:none;\">\n",
              "        \n",
              "  <svg xmlns=\"http://www.w3.org/2000/svg\" height=\"24px\"viewBox=\"0 0 24 24\"\n",
              "       width=\"24px\">\n",
              "    <path d=\"M0 0h24v24H0V0z\" fill=\"none\"/>\n",
              "    <path d=\"M18.56 5.44l.94 2.06.94-2.06 2.06-.94-2.06-.94-.94-2.06-.94 2.06-2.06.94zm-11 1L8.5 8.5l.94-2.06 2.06-.94-2.06-.94L8.5 2.5l-.94 2.06-2.06.94zm10 10l.94 2.06.94-2.06 2.06-.94-2.06-.94-.94-2.06-.94 2.06-2.06.94z\"/><path d=\"M17.41 7.96l-1.37-1.37c-.4-.4-.92-.59-1.43-.59-.52 0-1.04.2-1.43.59L10.3 9.45l-7.72 7.72c-.78.78-.78 2.05 0 2.83L4 21.41c.39.39.9.59 1.41.59.51 0 1.02-.2 1.41-.59l7.78-7.78 2.81-2.81c.8-.78.8-2.07 0-2.86zM5.41 20L4 18.59l7.72-7.72 1.47 1.35L5.41 20z\"/>\n",
              "  </svg>\n",
              "      </button>\n",
              "      \n",
              "  <style>\n",
              "    .colab-df-container {\n",
              "      display:flex;\n",
              "      flex-wrap:wrap;\n",
              "      gap: 12px;\n",
              "    }\n",
              "\n",
              "    .colab-df-convert {\n",
              "      background-color: #E8F0FE;\n",
              "      border: none;\n",
              "      border-radius: 50%;\n",
              "      cursor: pointer;\n",
              "      display: none;\n",
              "      fill: #1967D2;\n",
              "      height: 32px;\n",
              "      padding: 0 0 0 0;\n",
              "      width: 32px;\n",
              "    }\n",
              "\n",
              "    .colab-df-convert:hover {\n",
              "      background-color: #E2EBFA;\n",
              "      box-shadow: 0px 1px 2px rgba(60, 64, 67, 0.3), 0px 1px 3px 1px rgba(60, 64, 67, 0.15);\n",
              "      fill: #174EA6;\n",
              "    }\n",
              "\n",
              "    [theme=dark] .colab-df-convert {\n",
              "      background-color: #3B4455;\n",
              "      fill: #D2E3FC;\n",
              "    }\n",
              "\n",
              "    [theme=dark] .colab-df-convert:hover {\n",
              "      background-color: #434B5C;\n",
              "      box-shadow: 0px 1px 3px 1px rgba(0, 0, 0, 0.15);\n",
              "      filter: drop-shadow(0px 1px 2px rgba(0, 0, 0, 0.3));\n",
              "      fill: #FFFFFF;\n",
              "    }\n",
              "  </style>\n",
              "\n",
              "      <script>\n",
              "        const buttonEl =\n",
              "          document.querySelector('#df-5ab9ac61-1710-45ca-9d94-e23fde098ee9 button.colab-df-convert');\n",
              "        buttonEl.style.display =\n",
              "          google.colab.kernel.accessAllowed ? 'block' : 'none';\n",
              "\n",
              "        async function convertToInteractive(key) {\n",
              "          const element = document.querySelector('#df-5ab9ac61-1710-45ca-9d94-e23fde098ee9');\n",
              "          const dataTable =\n",
              "            await google.colab.kernel.invokeFunction('convertToInteractive',\n",
              "                                                     [key], {});\n",
              "          if (!dataTable) return;\n",
              "\n",
              "          const docLinkHtml = 'Like what you see? Visit the ' +\n",
              "            '<a target=\"_blank\" href=https://colab.research.google.com/notebooks/data_table.ipynb>data table notebook</a>'\n",
              "            + ' to learn more about interactive tables.';\n",
              "          element.innerHTML = '';\n",
              "          dataTable['output_type'] = 'display_data';\n",
              "          await google.colab.output.renderOutput(dataTable, element);\n",
              "          const docLink = document.createElement('div');\n",
              "          docLink.innerHTML = docLinkHtml;\n",
              "          element.appendChild(docLink);\n",
              "        }\n",
              "      </script>\n",
              "    </div>\n",
              "  </div>\n",
              "  "
            ]
          },
          "metadata": {},
          "execution_count": 8
        }
      ]
    },
    {
      "cell_type": "code",
      "source": [
        "df.columns"
      ],
      "metadata": {
        "colab": {
          "base_uri": "https://localhost:8080/"
        },
        "id": "hnG59z1uiv35",
        "outputId": "2b2b2471-98e3-45ab-b288-8dc014ceeca7"
      },
      "execution_count": null,
      "outputs": [
        {
          "output_type": "execute_result",
          "data": {
            "text/plain": [
              "Index(['Date/Time', 'Temp (C)', 'Dew Point Temp (C)', 'Rel Hum (%)',\n",
              "       'Wind Spd (km/h)', 'Visibility (km)', 'Stn Press (kPa)', 'Weather'],\n",
              "      dtype='object')"
            ]
          },
          "metadata": {},
          "execution_count": 9
        }
      ]
    },
    {
      "cell_type": "code",
      "source": [
        "df = df.rename(columns={'Date/Time':'date_time','Temp (C)':'temp_c','Dew Point Temp (C)':'dew_point', 'Rel Hum (%)':'relative_humidity', 'Wind Spd (km/h)':'wind_speed', 'Visibility (km)':'visibility','Stn Press (kPa)':'pressure','Weather':'weather'})"
      ],
      "metadata": {
        "id": "agtBj0Mri_tb"
      },
      "execution_count": null,
      "outputs": []
    },
    {
      "cell_type": "code",
      "source": [
        "print(df)"
      ],
      "metadata": {
        "colab": {
          "base_uri": "https://localhost:8080/"
        },
        "id": "-YEwhOa9k_9Y",
        "outputId": "f4a78942-7e79-44cc-f1d8-78805c85d5dd"
      },
      "execution_count": null,
      "outputs": [
        {
          "output_type": "stream",
          "name": "stdout",
          "text": [
            "                date_time  temp_c  dew_point  relative_humidity  wind_speed  \\\n",
            "0     2012-01-01 00:00:00    -1.8       -3.9                 86           4   \n",
            "1     2012-01-01 01:00:00    -1.8       -3.7                 87           4   \n",
            "2     2012-01-01 02:00:00    -1.8       -3.4                 89           7   \n",
            "3     2012-01-01 03:00:00    -1.5       -3.2                 88           6   \n",
            "4     2012-01-01 04:00:00    -1.5       -3.3                 88           7   \n",
            "...                   ...     ...        ...                ...         ...   \n",
            "8779  2012-12-31 19:00:00     0.1       -2.7                 81          30   \n",
            "8780  2012-12-31 20:00:00     0.2       -2.4                 83          24   \n",
            "8781  2012-12-31 21:00:00    -0.5       -1.5                 93          28   \n",
            "8782  2012-12-31 22:00:00    -0.2       -1.8                 89          28   \n",
            "8783  2012-12-31 23:00:00     0.0       -2.1                 86          30   \n",
            "\n",
            "      visibility  pressure               weather  \n",
            "0            8.0    101.24                   Fog  \n",
            "1            8.0    101.24                   Fog  \n",
            "2            4.0    101.26  Freezing Drizzle,Fog  \n",
            "3            4.0    101.27  Freezing Drizzle,Fog  \n",
            "4            4.8    101.23                   Fog  \n",
            "...          ...       ...                   ...  \n",
            "8779         9.7    100.13                  Snow  \n",
            "8780         9.7    100.03                  Snow  \n",
            "8781         4.8     99.95                  Snow  \n",
            "8782         9.7     99.91                  Snow  \n",
            "8783        11.3     99.89                  Snow  \n",
            "\n",
            "[8784 rows x 8 columns]\n"
          ]
        }
      ]
    },
    {
      "cell_type": "code",
      "source": [
        "stats = df.describe()"
      ],
      "metadata": {
        "id": "DypHwXAGlD3s"
      },
      "execution_count": null,
      "outputs": []
    },
    {
      "cell_type": "code",
      "source": [
        "print(stats)"
      ],
      "metadata": {
        "colab": {
          "base_uri": "https://localhost:8080/"
        },
        "id": "iTHdU47hlMhQ",
        "outputId": "243fedf2-42c9-4b32-957b-a15eaacdac91"
      },
      "execution_count": null,
      "outputs": [
        {
          "output_type": "stream",
          "name": "stdout",
          "text": [
            "            temp_f    dew_point  relative_humidity   wind_speed   visibility  \\\n",
            "count  8784.000000  8784.000000        8784.000000  8784.000000  8784.000000   \n",
            "mean     47.836660     2.555294          67.431694    14.945469    27.664447   \n",
            "std      21.038189    10.883072          16.918881     8.688696    12.622688   \n",
            "min      -9.940000   -28.500000          18.000000     0.000000     0.200000   \n",
            "25%      32.180000    -5.900000          56.000000     9.000000    24.100000   \n",
            "50%      48.740000     3.300000          68.000000    13.000000    25.000000   \n",
            "75%      65.840000    11.800000          81.000000    20.000000    25.000000   \n",
            "max      91.400000    24.400000         100.000000    83.000000    48.300000   \n",
            "\n",
            "          pressure       temp_c        month  \n",
            "count  8784.000000  8784.000000  8784.000000  \n",
            "mean    101.051623     8.798144     6.513661  \n",
            "std       0.844005    11.687883     3.451430  \n",
            "min      97.520000   -23.300000     1.000000  \n",
            "25%     100.560000     0.100000     4.000000  \n",
            "50%     101.070000     9.300000     7.000000  \n",
            "75%     101.590000    18.800000    10.000000  \n",
            "max     103.650000    33.000000    12.000000  \n"
          ]
        }
      ]
    },
    {
      "cell_type": "code",
      "source": [
        "df['temp_f'] = df['temp_c'] * 9/5 + 32"
      ],
      "metadata": {
        "id": "B3xA6mXRlRBJ"
      },
      "execution_count": null,
      "outputs": []
    },
    {
      "cell_type": "code",
      "source": [
        "print(df)"
      ],
      "metadata": {
        "colab": {
          "base_uri": "https://localhost:8080/"
        },
        "id": "1hQhA_O-llPb",
        "outputId": "63d0b794-bcba-4e1f-ed1a-2e87a997d4a6"
      },
      "execution_count": null,
      "outputs": [
        {
          "output_type": "stream",
          "name": "stdout",
          "text": [
            "                date_time  temp_c  dew_point  relative_humidity  wind_speed  \\\n",
            "0     2012-01-01 00:00:00    -1.8       -3.9                 86           4   \n",
            "1     2012-01-01 01:00:00    -1.8       -3.7                 87           4   \n",
            "2     2012-01-01 02:00:00    -1.8       -3.4                 89           7   \n",
            "3     2012-01-01 03:00:00    -1.5       -3.2                 88           6   \n",
            "4     2012-01-01 04:00:00    -1.5       -3.3                 88           7   \n",
            "...                   ...     ...        ...                ...         ...   \n",
            "8779  2012-12-31 19:00:00     0.1       -2.7                 81          30   \n",
            "8780  2012-12-31 20:00:00     0.2       -2.4                 83          24   \n",
            "8781  2012-12-31 21:00:00    -0.5       -1.5                 93          28   \n",
            "8782  2012-12-31 22:00:00    -0.2       -1.8                 89          28   \n",
            "8783  2012-12-31 23:00:00     0.0       -2.1                 86          30   \n",
            "\n",
            "      visibility  pressure               weather  temp_f  \n",
            "0            8.0    101.24                   Fog   28.76  \n",
            "1            8.0    101.24                   Fog   28.76  \n",
            "2            4.0    101.26  Freezing Drizzle,Fog   28.76  \n",
            "3            4.0    101.27  Freezing Drizzle,Fog   29.30  \n",
            "4            4.8    101.23                   Fog   29.30  \n",
            "...          ...       ...                   ...     ...  \n",
            "8779         9.7    100.13                  Snow   32.18  \n",
            "8780         9.7    100.03                  Snow   32.36  \n",
            "8781         4.8     99.95                  Snow   31.10  \n",
            "8782         9.7     99.91                  Snow   31.64  \n",
            "8783        11.3     99.89                  Snow   32.00  \n",
            "\n",
            "[8784 rows x 9 columns]\n"
          ]
        }
      ]
    },
    {
      "cell_type": "code",
      "source": [
        "cols = list(df.columns)\n",
        "date_time_index = cols.index('date_time')\n",
        "dew_point_index = cols.index('dew_point')\n",
        "temp_f_index = cols.index('temp_f')\n",
        "temp_c_index = cols.index('temp_c')\n",
        "relative_humidity_index = cols.index('relative_humidity')\n",
        "wind_speed_index = cols.index('wind_speed')\n",
        "visibility_index = cols.index('visibility')\n",
        "pressure_index = cols.index('pressure')\n",
        "weather_index = cols.index('weather')\n",
        "\n",
        "\n",
        "\n",
        "\n",
        "df = df[cols]\n"
      ],
      "metadata": {
        "id": "Kc8Q7bBllqZX"
      },
      "execution_count": null,
      "outputs": []
    },
    {
      "cell_type": "code",
      "source": [
        "print(df)"
      ],
      "metadata": {
        "colab": {
          "base_uri": "https://localhost:8080/"
        },
        "id": "IFi9vxNFl8sn",
        "outputId": "ad11a6d9-ef6e-4c74-84aa-2d7f6aa2b2a6"
      },
      "execution_count": null,
      "outputs": [
        {
          "output_type": "stream",
          "name": "stdout",
          "text": [
            "               date_time  temp_f  temp_c  relative_humidity  wind_speed  \\\n",
            "0    2012-01-01 00:00:00   28.76    -1.8                 86           4   \n",
            "1    2012-01-01 01:00:00   28.76    -1.8                 87           4   \n",
            "2    2012-01-01 02:00:00   28.76    -1.8                 89           7   \n",
            "3    2012-01-01 03:00:00   29.30    -1.5                 88           6   \n",
            "4    2012-01-01 04:00:00   29.30    -1.5                 88           7   \n",
            "...                  ...     ...     ...                ...         ...   \n",
            "8779 2012-12-31 19:00:00   32.18     0.1                 81          30   \n",
            "8780 2012-12-31 20:00:00   32.36     0.2                 83          24   \n",
            "8781 2012-12-31 21:00:00   31.10    -0.5                 93          28   \n",
            "8782 2012-12-31 22:00:00   31.64    -0.2                 89          28   \n",
            "8783 2012-12-31 23:00:00   32.00     0.0                 86          30   \n",
            "\n",
            "      visibility  pressure               weather  dew_point  month  \n",
            "0            8.0    101.24                   Fog       -3.9      1  \n",
            "1            8.0    101.24                   Fog       -3.7      1  \n",
            "2            4.0    101.26  Freezing Drizzle,Fog       -3.4      1  \n",
            "3            4.0    101.27  Freezing Drizzle,Fog       -3.2      1  \n",
            "4            4.8    101.23                   Fog       -3.3      1  \n",
            "...          ...       ...                   ...        ...    ...  \n",
            "8779         9.7    100.13                  Snow       -2.7     12  \n",
            "8780         9.7    100.03                  Snow       -2.4     12  \n",
            "8781         4.8     99.95                  Snow       -1.5     12  \n",
            "8782         9.7     99.91                  Snow       -1.8     12  \n",
            "8783        11.3     99.89                  Snow       -2.1     12  \n",
            "\n",
            "[8784 rows x 10 columns]\n"
          ]
        }
      ]
    },
    {
      "cell_type": "code",
      "source": [
        "print(df.dtypes)"
      ],
      "metadata": {
        "colab": {
          "base_uri": "https://localhost:8080/"
        },
        "id": "aYVhUF6-mu9M",
        "outputId": "94d38d5a-f174-4235-fa3a-ca56b2f9b242"
      },
      "execution_count": null,
      "outputs": [
        {
          "output_type": "stream",
          "name": "stdout",
          "text": [
            "date_time             object\n",
            "temp_f               float64\n",
            "dew_point            float64\n",
            "relative_humidity      int64\n",
            "wind_speed             int64\n",
            "visibility           float64\n",
            "pressure             float64\n",
            "weather               object\n",
            "temp_c               float64\n",
            "dtype: object\n"
          ]
        }
      ]
    },
    {
      "cell_type": "code",
      "source": [
        "df['date_time'] = pd.to_datetime(df['date_time'])"
      ],
      "metadata": {
        "id": "UZQB2FC7m_5Z"
      },
      "execution_count": null,
      "outputs": []
    },
    {
      "cell_type": "code",
      "source": [
        "print(df.dtypes)"
      ],
      "metadata": {
        "colab": {
          "base_uri": "https://localhost:8080/"
        },
        "id": "tQTkb0E9nFmp",
        "outputId": "d974c6cc-2a1f-40fd-a933-f59faa1d6524"
      },
      "execution_count": null,
      "outputs": [
        {
          "output_type": "stream",
          "name": "stdout",
          "text": [
            "date_time            datetime64[ns]\n",
            "temp_f                      float64\n",
            "dew_point                   float64\n",
            "relative_humidity             int64\n",
            "wind_speed                    int64\n",
            "visibility                  float64\n",
            "pressure                    float64\n",
            "weather                      object\n",
            "temp_c                      float64\n",
            "dtype: object\n"
          ]
        }
      ]
    },
    {
      "cell_type": "code",
      "source": [
        "df['month'] = df['date_time'].dt.month\n",
        "monthly_avg = df.groupby('month')['temp_f'].mean()\n"
      ],
      "metadata": {
        "id": "PYouBFjznMbg"
      },
      "execution_count": null,
      "outputs": []
    },
    {
      "cell_type": "code",
      "source": [
        "print(df)"
      ],
      "metadata": {
        "colab": {
          "base_uri": "https://localhost:8080/"
        },
        "id": "UoSjtx12nqrx",
        "outputId": "10e0b859-b26f-4f97-ff59-80c9247c4512"
      },
      "execution_count": null,
      "outputs": [
        {
          "output_type": "stream",
          "name": "stdout",
          "text": [
            "               date_time  temp_f  dew_point  relative_humidity  wind_speed  \\\n",
            "0    2012-01-01 00:00:00   28.76       -3.9                 86           4   \n",
            "1    2012-01-01 01:00:00   28.76       -3.7                 87           4   \n",
            "2    2012-01-01 02:00:00   28.76       -3.4                 89           7   \n",
            "3    2012-01-01 03:00:00   29.30       -3.2                 88           6   \n",
            "4    2012-01-01 04:00:00   29.30       -3.3                 88           7   \n",
            "...                  ...     ...        ...                ...         ...   \n",
            "8779 2012-12-31 19:00:00   32.18       -2.7                 81          30   \n",
            "8780 2012-12-31 20:00:00   32.36       -2.4                 83          24   \n",
            "8781 2012-12-31 21:00:00   31.10       -1.5                 93          28   \n",
            "8782 2012-12-31 22:00:00   31.64       -1.8                 89          28   \n",
            "8783 2012-12-31 23:00:00   32.00       -2.1                 86          30   \n",
            "\n",
            "      visibility  pressure               weather  temp_c  month  \n",
            "0            8.0    101.24                   Fog    -1.8      1  \n",
            "1            8.0    101.24                   Fog    -1.8      1  \n",
            "2            4.0    101.26  Freezing Drizzle,Fog    -1.8      1  \n",
            "3            4.0    101.27  Freezing Drizzle,Fog    -1.5      1  \n",
            "4            4.8    101.23                   Fog    -1.5      1  \n",
            "...          ...       ...                   ...     ...    ...  \n",
            "8779         9.7    100.13                  Snow     0.1     12  \n",
            "8780         9.7    100.03                  Snow     0.2     12  \n",
            "8781         4.8     99.95                  Snow    -0.5     12  \n",
            "8782         9.7     99.91                  Snow    -0.2     12  \n",
            "8783        11.3     99.89                  Snow     0.0     12  \n",
            "\n",
            "[8784 rows x 10 columns]\n"
          ]
        }
      ]
    },
    {
      "cell_type": "code",
      "source": [
        "plt.figure(figsize=(20, 10))\n",
        "plt.scatter(df['temp_f'], df['relative_humidity'], color = 'green')\n",
        "plt.xlabel('Temperature (F)')\n",
        "plt.ylabel('Relative Humidity')\n",
        "plt.show()"
      ],
      "metadata": {
        "colab": {
          "base_uri": "https://localhost:8080/",
          "height": 606
        },
        "id": "miDzC5KPn_Fy",
        "outputId": "2051f76d-11d1-435d-a880-656486e1aa0e"
      },
      "execution_count": null,
      "outputs": [
        {
          "output_type": "display_data",
          "data": {
            "text/plain": [
              "<Figure size 1440x720 with 1 Axes>"
            ],
            "image/png": "[encoded data removed]"
          },
          "metadata": {
            "needs_background": "light"
          }
        }
      ]
    },
    {
      "cell_type": "code",
      "source": [
        "df['month'] = df['date_time'].dt.month\n",
        "monthly_avg = df.groupby('month')['temp_f'].mean()\n",
        "\n",
        "plt.figure(figsize=(20, 10))\n",
        "monthly_avg.plot(kind='line', color = 'red')\n",
        "plt.xlabel('Month')\n",
        "plt.ylabel('Temperature (F)')\n",
        "plt.title('Average Temperature per Month')\n",
        "plt.show()"
      ],
      "metadata": {
        "colab": {
          "base_uri": "https://localhost:8080/",
          "height": 621
        },
        "id": "9N2BtYNfoYc-",
        "outputId": "abb46da0-5e0d-4e7c-b569-419aba7b3c9f"
      },
      "execution_count": null,
      "outputs": [
        {
          "output_type": "display_data",
          "data": {
            "text/plain": [
              "<Figure size 1440x720 with 1 Axes>"
            ],
            "image/png": "[encoded data removed]"
          },
          "metadata": {
            "needs_background": "light"
          }
        }
      ]
    },
    {
      "cell_type": "code",
      "source": [
        "plt.figure(figsize=(20,10))\n",
        "df.boxplot(column=['temp_f', 'temp_c', 'dew_point', 'relative_humidity', 'wind_speed', 'visibility', 'pressure'])\n",
        "plt.ylim(-20, 100)\n",
        "plt.show()\n"
      ],
      "metadata": {
        "colab": {
          "base_uri": "https://localhost:8080/",
          "height": 596
        },
        "id": "9JzJvIkyous7",
        "outputId": "5b41ddb2-42a5-47f5-a6be-591dead2545a"
      },
      "execution_count": null,
      "outputs": [
        {
          "output_type": "display_data",
          "data": {
            "text/plain": [
              "<Figure size 1440x720 with 1 Axes>"
            ],
            "image/png": "[encoded data removed]"
          },
          "metadata": {
            "needs_background": "light"
          }
        }
      ]
    }
  ]
}