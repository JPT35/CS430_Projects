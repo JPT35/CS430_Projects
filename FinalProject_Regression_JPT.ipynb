{
  "nbformat": 4,
  "nbformat_minor": 0,
  "metadata": {
    "colab": {
      "provenance": [],
      "authorship_tag": "ABX9TyMIIeRRriV6s+tAElu4hJas",
      "include_colab_link": true
    },
    "kernelspec": {
      "name": "python3",
      "display_name": "Python 3"
    },
    "language_info": {
      "name": "python"
    }
  },
  "cells": [
    {
      "cell_type": "markdown",
      "metadata": {
        "id": "view-in-github",
        "colab_type": "text"
      },
      "source": [
        "<a href=\"https://colab.research.google.com/github/JPT35/CS430_Projects/blob/main/FinalProject_Regression_JPT.ipynb\" target=\"_parent\"><img src=\"https://colab.research.google.com/assets/colab-badge.svg\" alt=\"Open In Colab\"/></a>"
      ]
    },
    {
      "cell_type": "markdown",
      "source": [
        "# Linear Regression and SVM Models"
      ],
      "metadata": {
        "id": "SkPz-WFtgQhd"
      }
    },
    {
      "cell_type": "markdown",
      "source": [
        "# Imports:"
      ],
      "metadata": {
        "id": "xIze-KDtgYaP"
      }
    },
    {
      "cell_type": "code",
      "execution_count": 1,
      "metadata": {
        "id": "w27jRAaQf9vC"
      },
      "outputs": [],
      "source": [
        "import pandas as pd\n",
        "import numpy as np\n",
        "import matplotlib.pyplot as plt\n",
        "import seaborn as sns\n",
        "%matplotlib inline"
      ]
    },
    {
      "cell_type": "code",
      "source": [
        "from google.colab import drive\n",
        "drive.mount('/content/gdrive')"
      ],
      "metadata": {
        "colab": {
          "base_uri": "https://localhost:8080/"
        },
        "id": "fvJKiQgWgcj5",
        "outputId": "bc696b98-9b8c-41e4-f6ca-d9b12843bc81"
      },
      "execution_count": 2,
      "outputs": [
        {
          "output_type": "stream",
          "name": "stdout",
          "text": [
            "Mounted at /content/gdrive\n"
          ]
        }
      ]
    },
    {
      "cell_type": "code",
      "source": [
        "from sklearn.model_selection import train_test_split\n",
        "from sklearn.svm import SVC, SVR, LinearSVC, LinearSVR\n",
        "\n",
        "from sklearn.pipeline import Pipeline\n",
        "from sklearn import set_config\n",
        "set_config(display='diagram')\n",
        "\n",
        "from sklearn.compose import ColumnTransformer\n",
        "from sklearn.preprocessing import MinMaxScaler\n",
        "from sklearn.preprocessing import OneHotEncoder"
      ],
      "metadata": {
        "id": "x8gGDMwCgjHG"
      },
      "execution_count": 3,
      "outputs": []
    },
    {
      "cell_type": "code",
      "source": [
        "from sklearn.metrics import confusion_matrix\n",
        "from sklearn.metrics import precision_score, recall_score, f1_score\n",
        "from sklearn.metrics import roc_curve\n",
        "from sklearn.metrics import roc_auc_score\n",
        "from sklearn.metrics import r2_score\n",
        "from sklearn.metrics import mean_squared_error\n",
        "from sklearn.metrics import precision_recall_curve\n",
        "from sklearn.metrics import auc"
      ],
      "metadata": {
        "id": "V61vpktOgj_0"
      },
      "execution_count": 4,
      "outputs": []
    },
    {
      "cell_type": "markdown",
      "source": [
        "# Function used to plot the confusion matrix:"
      ],
      "metadata": {
        "id": "WJ4MREkUgpfp"
      }
    },
    {
      "cell_type": "code",
      "source": [
        "def plot_cm(y_test, y_pred):\n",
        "    cm = confusion_matrix(y_test,y_pred)\n",
        "    fig = plt.figure(figsize=(10,10))\n",
        "    heatmap = sns.heatmap(cm, annot=True, fmt='.2f', cmap='RdYlGn')\n",
        "    plt.ylabel('True label')\n",
        "    plt.xlabel('Predicted Label')"
      ],
      "metadata": {
        "id": "LYnzAKoagpOT"
      },
      "execution_count": 5,
      "outputs": []
    },
    {
      "cell_type": "markdown",
      "source": [
        "# Function for plotting the roc_curve:"
      ],
      "metadata": {
        "id": "GUY5Ahf7gu79"
      }
    },
    {
      "cell_type": "code",
      "source": [
        "def plot_roc_curve(fpr,tpr):\n",
        "  plt.plot(fpr, tpr, linewidth=2)\n",
        "  plt.plot([0,1],[0,1], 'k--')\n",
        "  plt.xlim([0.0, 1.0])\n",
        "  plt.ylim([0.0, 1.0])"
      ],
      "metadata": {
        "id": "9jRS4fLqgxQS"
      },
      "execution_count": 6,
      "outputs": []
    },
    {
      "cell_type": "markdown",
      "source": [
        "# Linear Regression"
      ],
      "metadata": {
        "id": "sc9NmeGViJcC"
      }
    },
    {
      "cell_type": "code",
      "source": [
        "from sklearn.linear_model import LinearRegression"
      ],
      "metadata": {
        "id": "d1AXhI1WiMn-"
      },
      "execution_count": 16,
      "outputs": []
    },
    {
      "cell_type": "code",
      "source": [
        "df = pd.read_csv('/content/gdrive/MyDrive/CS-430/regseason2223clean.csv')"
      ],
      "metadata": {
        "id": "am-JzEUbiTVk"
      },
      "execution_count": 17,
      "outputs": []
    },
    {
      "cell_type": "code",
      "source": [
        "df.head()"
      ],
      "metadata": {
        "colab": {
          "base_uri": "https://localhost:8080/",
          "height": 436
        },
        "id": "NRL-JcC2iZJr",
        "outputId": "4e18ca02-e5e0-4614-b418-d64dca15e012"
      },
      "execution_count": 18,
      "outputs": [
        {
          "output_type": "execute_result",
          "data": {
            "text/plain": [
              "                                  Matchup  HomeSpread   Pdmargin  Pdspread  \\\n",
              "0             #6 Gonzaga vs. #15 St Marys         3.5  -1.719617  1.780383   \n",
              "1         #127 Notre Dame vs. #56 VA Tech        -6.5   4.992462 -1.507538   \n",
              "2  #158 NC-Wilmgton vs. #71 Col Charlestn       -10.0  11.470956  1.470956   \n",
              "3        #130 GA Tech vs. #154 Florida St         2.0  -6.560043 -4.560043   \n",
              "4           #164 U Mass vs. #145 Richmond        -2.5  -5.439945 -7.939945   \n",
              "\n",
              "   Osmarg  Osspread  Kpmar  Kpsp  Tomarg  blocks  ...   fta  orbs    NF  BPI  \\\n",
              "0    -3.8      -0.3      1   4.5    0.35   -0.55  ... -2.05  0.60 -0.29 -1.7   \n",
              "1    19.1      12.6      7   0.5   -0.75    0.10  ...  2.25  1.10  7.47  7.7   \n",
              "2    11.3       1.3      8  -2.0    0.65    0.00  ...  2.40  1.85  7.76  7.0   \n",
              "3    -2.1      -0.1     -2   0.0    1.75    0.50  ...  3.30 -1.85 -2.60 -0.9   \n",
              "4     4.0       1.5      1  -1.5   -0.50   -1.00  ...  1.45 -1.55  0.72  1.2   \n",
              "\n",
              "    TR    OSP    Nfp   BPIp   Kpp  marg  \n",
              "0 -5.0  -5.29  0.496  0.441  51.0   -26  \n",
              "1  4.8  30.88  0.783  0.827  75.0     3  \n",
              "2  7.2  26.73  0.716  0.794  76.0     5  \n",
              "3  0.6 -33.35  0.418  0.448  42.0    -1  \n",
              "4 -3.5  -9.16  0.552  0.552  53.0    33  \n",
              "\n",
              "[5 rows x 22 columns]"
            ],
            "text/html": [
              "\n",
              "  <div id=\"df-2cfd83e7-f4c4-41e8-90af-6490c35e7ac8\">\n",
              "    <div class=\"colab-df-container\">\n",
              "      <div>\n",
              "<style scoped>\n",
              "    .dataframe tbody tr th:only-of-type {\n",
              "        vertical-align: middle;\n",
              "    }\n",
              "\n",
              "    .dataframe tbody tr th {\n",
              "        vertical-align: top;\n",
              "    }\n",
              "\n",
              "    .dataframe thead th {\n",
              "        text-align: right;\n",
              "    }\n",
              "</style>\n",
              "<table border=\"1\" class=\"dataframe\">\n",
              "  <thead>\n",
              "    <tr style=\"text-align: right;\">\n",
              "      <th></th>\n",
              "      <th>Matchup</th>\n",
              "      <th>HomeSpread</th>\n",
              "      <th>Pdmargin</th>\n",
              "      <th>Pdspread</th>\n",
              "      <th>Osmarg</th>\n",
              "      <th>Osspread</th>\n",
              "      <th>Kpmar</th>\n",
              "      <th>Kpsp</th>\n",
              "      <th>Tomarg</th>\n",
              "      <th>blocks</th>\n",
              "      <th>...</th>\n",
              "      <th>fta</th>\n",
              "      <th>orbs</th>\n",
              "      <th>NF</th>\n",
              "      <th>BPI</th>\n",
              "      <th>TR</th>\n",
              "      <th>OSP</th>\n",
              "      <th>Nfp</th>\n",
              "      <th>BPIp</th>\n",
              "      <th>Kpp</th>\n",
              "      <th>marg</th>\n",
              "    </tr>\n",
              "  </thead>\n",
              "  <tbody>\n",
              "    <tr>\n",
              "      <th>0</th>\n",
              "      <td>#6 Gonzaga vs. #15 St Marys</td>\n",
              "      <td>3.5</td>\n",
              "      <td>-1.719617</td>\n",
              "      <td>1.780383</td>\n",
              "      <td>-3.8</td>\n",
              "      <td>-0.3</td>\n",
              "      <td>1</td>\n",
              "      <td>4.5</td>\n",
              "      <td>0.35</td>\n",
              "      <td>-0.55</td>\n",
              "      <td>...</td>\n",
              "      <td>-2.05</td>\n",
              "      <td>0.60</td>\n",
              "      <td>-0.29</td>\n",
              "      <td>-1.7</td>\n",
              "      <td>-5.0</td>\n",
              "      <td>-5.29</td>\n",
              "      <td>0.496</td>\n",
              "      <td>0.441</td>\n",
              "      <td>51.0</td>\n",
              "      <td>-26</td>\n",
              "    </tr>\n",
              "    <tr>\n",
              "      <th>1</th>\n",
              "      <td>#127 Notre Dame vs. #56 VA Tech</td>\n",
              "      <td>-6.5</td>\n",
              "      <td>4.992462</td>\n",
              "      <td>-1.507538</td>\n",
              "      <td>19.1</td>\n",
              "      <td>12.6</td>\n",
              "      <td>7</td>\n",
              "      <td>0.5</td>\n",
              "      <td>-0.75</td>\n",
              "      <td>0.10</td>\n",
              "      <td>...</td>\n",
              "      <td>2.25</td>\n",
              "      <td>1.10</td>\n",
              "      <td>7.47</td>\n",
              "      <td>7.7</td>\n",
              "      <td>4.8</td>\n",
              "      <td>30.88</td>\n",
              "      <td>0.783</td>\n",
              "      <td>0.827</td>\n",
              "      <td>75.0</td>\n",
              "      <td>3</td>\n",
              "    </tr>\n",
              "    <tr>\n",
              "      <th>2</th>\n",
              "      <td>#158 NC-Wilmgton vs. #71 Col Charlestn</td>\n",
              "      <td>-10.0</td>\n",
              "      <td>11.470956</td>\n",
              "      <td>1.470956</td>\n",
              "      <td>11.3</td>\n",
              "      <td>1.3</td>\n",
              "      <td>8</td>\n",
              "      <td>-2.0</td>\n",
              "      <td>0.65</td>\n",
              "      <td>0.00</td>\n",
              "      <td>...</td>\n",
              "      <td>2.40</td>\n",
              "      <td>1.85</td>\n",
              "      <td>7.76</td>\n",
              "      <td>7.0</td>\n",
              "      <td>7.2</td>\n",
              "      <td>26.73</td>\n",
              "      <td>0.716</td>\n",
              "      <td>0.794</td>\n",
              "      <td>76.0</td>\n",
              "      <td>5</td>\n",
              "    </tr>\n",
              "    <tr>\n",
              "      <th>3</th>\n",
              "      <td>#130 GA Tech vs. #154 Florida St</td>\n",
              "      <td>2.0</td>\n",
              "      <td>-6.560043</td>\n",
              "      <td>-4.560043</td>\n",
              "      <td>-2.1</td>\n",
              "      <td>-0.1</td>\n",
              "      <td>-2</td>\n",
              "      <td>0.0</td>\n",
              "      <td>1.75</td>\n",
              "      <td>0.50</td>\n",
              "      <td>...</td>\n",
              "      <td>3.30</td>\n",
              "      <td>-1.85</td>\n",
              "      <td>-2.60</td>\n",
              "      <td>-0.9</td>\n",
              "      <td>0.6</td>\n",
              "      <td>-33.35</td>\n",
              "      <td>0.418</td>\n",
              "      <td>0.448</td>\n",
              "      <td>42.0</td>\n",
              "      <td>-1</td>\n",
              "    </tr>\n",
              "    <tr>\n",
              "      <th>4</th>\n",
              "      <td>#164 U Mass vs. #145 Richmond</td>\n",
              "      <td>-2.5</td>\n",
              "      <td>-5.439945</td>\n",
              "      <td>-7.939945</td>\n",
              "      <td>4.0</td>\n",
              "      <td>1.5</td>\n",
              "      <td>1</td>\n",
              "      <td>-1.5</td>\n",
              "      <td>-0.50</td>\n",
              "      <td>-1.00</td>\n",
              "      <td>...</td>\n",
              "      <td>1.45</td>\n",
              "      <td>-1.55</td>\n",
              "      <td>0.72</td>\n",
              "      <td>1.2</td>\n",
              "      <td>-3.5</td>\n",
              "      <td>-9.16</td>\n",
              "      <td>0.552</td>\n",
              "      <td>0.552</td>\n",
              "      <td>53.0</td>\n",
              "      <td>33</td>\n",
              "    </tr>\n",
              "  </tbody>\n",
              "</table>\n",
              "<p>5 rows × 22 columns</p>\n",
              "</div>\n",
              "      <button class=\"colab-df-convert\" onclick=\"convertToInteractive('df-2cfd83e7-f4c4-41e8-90af-6490c35e7ac8')\"\n",
              "              title=\"Convert this dataframe to an interactive table.\"\n",
              "              style=\"display:none;\">\n",
              "        \n",
              "  <svg xmlns=\"http://www.w3.org/2000/svg\" height=\"24px\"viewBox=\"0 0 24 24\"\n",
              "       width=\"24px\">\n",
              "    <path d=\"M0 0h24v24H0V0z\" fill=\"none\"/>\n",
              "    <path d=\"M18.56 5.44l.94 2.06.94-2.06 2.06-.94-2.06-.94-.94-2.06-.94 2.06-2.06.94zm-11 1L8.5 8.5l.94-2.06 2.06-.94-2.06-.94L8.5 2.5l-.94 2.06-2.06.94zm10 10l.94 2.06.94-2.06 2.06-.94-2.06-.94-.94-2.06-.94 2.06-2.06.94z\"/><path d=\"M17.41 7.96l-1.37-1.37c-.4-.4-.92-.59-1.43-.59-.52 0-1.04.2-1.43.59L10.3 9.45l-7.72 7.72c-.78.78-.78 2.05 0 2.83L4 21.41c.39.39.9.59 1.41.59.51 0 1.02-.2 1.41-.59l7.78-7.78 2.81-2.81c.8-.78.8-2.07 0-2.86zM5.41 20L4 18.59l7.72-7.72 1.47 1.35L5.41 20z\"/>\n",
              "  </svg>\n",
              "      </button>\n",
              "      \n",
              "  <style>\n",
              "    .colab-df-container {\n",
              "      display:flex;\n",
              "      flex-wrap:wrap;\n",
              "      gap: 12px;\n",
              "    }\n",
              "\n",
              "    .colab-df-convert {\n",
              "      background-color: #E8F0FE;\n",
              "      border: none;\n",
              "      border-radius: 50%;\n",
              "      cursor: pointer;\n",
              "      display: none;\n",
              "      fill: #1967D2;\n",
              "      height: 32px;\n",
              "      padding: 0 0 0 0;\n",
              "      width: 32px;\n",
              "    }\n",
              "\n",
              "    .colab-df-convert:hover {\n",
              "      background-color: #E2EBFA;\n",
              "      box-shadow: 0px 1px 2px rgba(60, 64, 67, 0.3), 0px 1px 3px 1px rgba(60, 64, 67, 0.15);\n",
              "      fill: #174EA6;\n",
              "    }\n",
              "\n",
              "    [theme=dark] .colab-df-convert {\n",
              "      background-color: #3B4455;\n",
              "      fill: #D2E3FC;\n",
              "    }\n",
              "\n",
              "    [theme=dark] .colab-df-convert:hover {\n",
              "      background-color: #434B5C;\n",
              "      box-shadow: 0px 1px 3px 1px rgba(0, 0, 0, 0.15);\n",
              "      filter: drop-shadow(0px 1px 2px rgba(0, 0, 0, 0.3));\n",
              "      fill: #FFFFFF;\n",
              "    }\n",
              "  </style>\n",
              "\n",
              "      <script>\n",
              "        const buttonEl =\n",
              "          document.querySelector('#df-2cfd83e7-f4c4-41e8-90af-6490c35e7ac8 button.colab-df-convert');\n",
              "        buttonEl.style.display =\n",
              "          google.colab.kernel.accessAllowed ? 'block' : 'none';\n",
              "\n",
              "        async function convertToInteractive(key) {\n",
              "          const element = document.querySelector('#df-2cfd83e7-f4c4-41e8-90af-6490c35e7ac8');\n",
              "          const dataTable =\n",
              "            await google.colab.kernel.invokeFunction('convertToInteractive',\n",
              "                                                     [key], {});\n",
              "          if (!dataTable) return;\n",
              "\n",
              "          const docLinkHtml = 'Like what you see? Visit the ' +\n",
              "            '<a target=\"_blank\" href=https://colab.research.google.com/notebooks/data_table.ipynb>data table notebook</a>'\n",
              "            + ' to learn more about interactive tables.';\n",
              "          element.innerHTML = '';\n",
              "          dataTable['output_type'] = 'display_data';\n",
              "          await google.colab.output.renderOutput(dataTable, element);\n",
              "          const docLink = document.createElement('div');\n",
              "          docLink.innerHTML = docLinkHtml;\n",
              "          element.appendChild(docLink);\n",
              "        }\n",
              "      </script>\n",
              "    </div>\n",
              "  </div>\n",
              "  "
            ]
          },
          "metadata": {},
          "execution_count": 18
        }
      ]
    },
    {
      "cell_type": "code",
      "source": [
        "statistics = df.describe()\n",
        "\n",
        "print(statistics)"
      ],
      "metadata": {
        "colab": {
          "base_uri": "https://localhost:8080/"
        },
        "id": "IQLNOuuDicP4",
        "outputId": "6427ed1d-b792-4c6c-9431-520227320fbe"
      },
      "execution_count": 19,
      "outputs": [
        {
          "output_type": "stream",
          "name": "stdout",
          "text": [
            "        HomeSpread     Pdmargin     Pdspread       Osmarg     Osspread  \\\n",
            "count  3508.000000  3508.000000  3508.000000  3508.000000  3508.000000   \n",
            "mean     -3.512258     9.302367     5.790109     0.355844    -3.156471   \n",
            "std       7.559723     9.803201     5.949606     9.842773     5.501565   \n",
            "min     -39.500000   -29.276972   -29.276972   -28.800000   -26.800000   \n",
            "25%      -8.000000     2.900866     2.125262    -6.400000    -6.400000   \n",
            "50%      -3.500000     9.116699     5.546606     0.100000    -3.300000   \n",
            "75%       2.000000    15.408211     9.342969     7.200000     0.300000   \n",
            "max      21.000000    57.967747    47.272536    39.000000    26.900000   \n",
            "\n",
            "             Kpmar         Kpsp       Tomarg       blocks        steal  ...  \\\n",
            "count  3508.000000  3508.000000  3508.000000  3508.000000  3508.000000  ...   \n",
            "mean      3.842075     0.329818    -0.861759     0.775086     0.417588  ...   \n",
            "std       7.440257     1.779145     1.796320     1.025580     1.324433  ...   \n",
            "min     -20.000000   -12.500000    -8.500000    -3.000000    -6.300000  ...   \n",
            "25%      -1.000000    -0.500000    -2.000000     0.100000    -0.450000  ...   \n",
            "50%       4.000000     0.500000    -0.850000     0.750000     0.400000  ...   \n",
            "75%       9.000000     1.500000     0.300000     1.450000     1.250000  ...   \n",
            "max      37.000000    35.000000     6.200000     6.100000     5.600000  ...   \n",
            "\n",
            "               fta         orbs           NF          BPI           TR  \\\n",
            "count  3508.000000  3508.000000  3508.000000  3508.000000  3508.000000   \n",
            "mean      2.399344     0.395211     0.620311     0.599430     0.503563   \n",
            "std       2.936415     1.644538     7.694964     6.759604     8.591588   \n",
            "min      -8.400000    -5.850000   -25.240000   -23.900000   -27.800000   \n",
            "25%       0.500000    -0.650000    -4.417500    -3.800000    -5.200000   \n",
            "50%       2.350000     0.400000     0.490000     0.500000     0.300000   \n",
            "75%       4.250000     1.500000     5.610000     5.000000     6.000000   \n",
            "max      13.350000     6.500000    37.490000    26.000000    33.800000   \n",
            "\n",
            "               OSP          Nfp         BPIp          Kpp         marg  \n",
            "count  3508.000000  3508.000000  3508.000000  3508.000000  3508.000000  \n",
            "mean      0.139877     0.583580     0.633019    61.240582     4.079532  \n",
            "std      16.352346     0.241156     0.235900    21.334840    13.373160  \n",
            "min     -64.810000     0.054000     0.019000     4.000000   -43.000000  \n",
            "25%     -10.685000     0.389000     0.467000    47.000000    -5.000000  \n",
            "50%      -0.090000     0.597000     0.671000    63.000000     4.000000  \n",
            "75%      11.110000     0.798000     0.830000    78.000000    12.000000  \n",
            "max      66.930000     0.996000     0.997000    99.960000    57.000000  \n",
            "\n",
            "[8 rows x 21 columns]\n"
          ]
        }
      ]
    },
    {
      "cell_type": "markdown",
      "source": [
        "# Splitting into test and train: "
      ],
      "metadata": {
        "id": "7T_qh7-xinfv"
      }
    },
    {
      "cell_type": "code",
      "source": [
        "X = df.drop(['Matchup', 'Pdmargin'], axis=1)\n",
        "y = df['Pdmargin']\n",
        "\n",
        "X_train, X_test, y_train, y_test = train_test_split(X, y, test_size=0.2, random_state=0)"
      ],
      "metadata": {
        "id": "dUmViAZXiqeB"
      },
      "execution_count": 20,
      "outputs": []
    },
    {
      "cell_type": "markdown",
      "source": [
        "# Creating column transformer:"
      ],
      "metadata": {
        "id": "xJI7IhynjAdf"
      }
    },
    {
      "cell_type": "code",
      "source": [
        "num_cols = ['HomeSpread', 'Pdspread', 'Osmarg', 'Osspread', 'Kpmar', 'Kpsp', 'Tomarg', 'blocks', 'steal', 'fgp', 'fta', 'orbs', 'NF', 'BPI', 'TR', 'OSP', 'Nfp', 'BPIp', 'Kpp', 'marg']\n",
        "cat_cols = []\n",
        "\n",
        "col_transf = ColumnTransformer(\n",
        "    transformers=[\n",
        "        ('num', MinMaxScaler(), num_cols),\n",
        "        ('cat', OneHotEncoder(), cat_cols)\n",
        "    ])"
      ],
      "metadata": {
        "id": "G8Yh4ZWXjAOw"
      },
      "execution_count": 21,
      "outputs": []
    },
    {
      "cell_type": "markdown",
      "source": [
        "# Creating pipeline"
      ],
      "metadata": {
        "id": "MwHFzVZJjKSS"
      }
    },
    {
      "cell_type": "code",
      "source": [
        "pipeline = Pipeline([\n",
        "    ('transform', col_transf),\n",
        "    ('mlr_model', LinearRegression())\n",
        "])"
      ],
      "metadata": {
        "id": "gCOMJLgxjM8T"
      },
      "execution_count": 22,
      "outputs": []
    },
    {
      "cell_type": "code",
      "source": [
        "set_config(display = 'diagram')\n",
        "pipeline"
      ],
      "metadata": {
        "colab": {
          "base_uri": "https://localhost:8080/",
          "height": 192
        },
        "id": "Y9hcf8mKjT99",
        "outputId": "a7f92be2-3f9d-4327-9f92-3fcda0ac5980"
      },
      "execution_count": 23,
      "outputs": [
        {
          "output_type": "execute_result",
          "data": {
            "text/plain": [
              "Pipeline(steps=[('transform',\n",
              "                 ColumnTransformer(transformers=[('num', MinMaxScaler(),\n",
              "                                                  ['HomeSpread', 'Pdspread',\n",
              "                                                   'Osmarg', 'Osspread',\n",
              "                                                   'Kpmar', 'Kpsp', 'Tomarg',\n",
              "                                                   'blocks', 'steal', 'fgp',\n",
              "                                                   'fta', 'orbs', 'NF', 'BPI',\n",
              "                                                   'TR', 'OSP', 'Nfp', 'BPIp',\n",
              "                                                   'Kpp', 'marg']),\n",
              "                                                 ('cat', OneHotEncoder(),\n",
              "                                                  [])])),\n",
              "                ('mlr_model', LinearRegression())])"
            ],
            "text/html": [
              "<style>#sk-container-id-2 {color: black;background-color: white;}#sk-container-id-2 pre{padding: 0;}#sk-container-id-2 div.sk-toggleable {background-color: white;}#sk-container-id-2 label.sk-toggleable__label {cursor: pointer;display: block;width: 100%;margin-bottom: 0;padding: 0.3em;box-sizing: border-box;text-align: center;}#sk-container-id-2 label.sk-toggleable__label-arrow:before {content: \"▸\";float: left;margin-right: 0.25em;color: #696969;}#sk-container-id-2 label.sk-toggleable__label-arrow:hover:before {color: black;}#sk-container-id-2 div.sk-estimator:hover label.sk-toggleable__label-arrow:before {color: black;}#sk-container-id-2 div.sk-toggleable__content {max-height: 0;max-width: 0;overflow: hidden;text-align: left;background-color: #f0f8ff;}#sk-container-id-2 div.sk-toggleable__content pre {margin: 0.2em;color: black;border-radius: 0.25em;background-color: #f0f8ff;}#sk-container-id-2 input.sk-toggleable__control:checked~div.sk-toggleable__content {max-height: 200px;max-width: 100%;overflow: auto;}#sk-container-id-2 input.sk-toggleable__control:checked~label.sk-toggleable__label-arrow:before {content: \"▾\";}#sk-container-id-2 div.sk-estimator input.sk-toggleable__control:checked~label.sk-toggleable__label {background-color: #d4ebff;}#sk-container-id-2 div.sk-label input.sk-toggleable__control:checked~label.sk-toggleable__label {background-color: #d4ebff;}#sk-container-id-2 input.sk-hidden--visually {border: 0;clip: rect(1px 1px 1px 1px);clip: rect(1px, 1px, 1px, 1px);height: 1px;margin: -1px;overflow: hidden;padding: 0;position: absolute;width: 1px;}#sk-container-id-2 div.sk-estimator {font-family: monospace;background-color: #f0f8ff;border: 1px dotted black;border-radius: 0.25em;box-sizing: border-box;margin-bottom: 0.5em;}#sk-container-id-2 div.sk-estimator:hover {background-color: #d4ebff;}#sk-container-id-2 div.sk-parallel-item::after {content: \"\";width: 100%;border-bottom: 1px solid gray;flex-grow: 1;}#sk-container-id-2 div.sk-label:hover label.sk-toggleable__label {background-color: #d4ebff;}#sk-container-id-2 div.sk-serial::before {content: \"\";position: absolute;border-left: 1px solid gray;box-sizing: border-box;top: 0;bottom: 0;left: 50%;z-index: 0;}#sk-container-id-2 div.sk-serial {display: flex;flex-direction: column;align-items: center;background-color: white;padding-right: 0.2em;padding-left: 0.2em;position: relative;}#sk-container-id-2 div.sk-item {position: relative;z-index: 1;}#sk-container-id-2 div.sk-parallel {display: flex;align-items: stretch;justify-content: center;background-color: white;position: relative;}#sk-container-id-2 div.sk-item::before, #sk-container-id-2 div.sk-parallel-item::before {content: \"\";position: absolute;border-left: 1px solid gray;box-sizing: border-box;top: 0;bottom: 0;left: 50%;z-index: -1;}#sk-container-id-2 div.sk-parallel-item {display: flex;flex-direction: column;z-index: 1;position: relative;background-color: white;}#sk-container-id-2 div.sk-parallel-item:first-child::after {align-self: flex-end;width: 50%;}#sk-container-id-2 div.sk-parallel-item:last-child::after {align-self: flex-start;width: 50%;}#sk-container-id-2 div.sk-parallel-item:only-child::after {width: 0;}#sk-container-id-2 div.sk-dashed-wrapped {border: 1px dashed gray;margin: 0 0.4em 0.5em 0.4em;box-sizing: border-box;padding-bottom: 0.4em;background-color: white;}#sk-container-id-2 div.sk-label label {font-family: monospace;font-weight: bold;display: inline-block;line-height: 1.2em;}#sk-container-id-2 div.sk-label-container {text-align: center;}#sk-container-id-2 div.sk-container {/* jupyter's `normalize.less` sets `[hidden] { display: none; }` but bootstrap.min.css set `[hidden] { display: none !important; }` so we also need the `!important` here to be able to override the default hidden behavior on the sphinx rendered scikit-learn.org. See: https://github.com/scikit-learn/scikit-learn/issues/21755 */display: inline-block !important;position: relative;}#sk-container-id-2 div.sk-text-repr-fallback {display: none;}</style><div id=\"sk-container-id-2\" class=\"sk-top-container\"><div class=\"sk-text-repr-fallback\"><pre>Pipeline(steps=[(&#x27;transform&#x27;,\n",
              "                 ColumnTransformer(transformers=[(&#x27;num&#x27;, MinMaxScaler(),\n",
              "                                                  [&#x27;HomeSpread&#x27;, &#x27;Pdspread&#x27;,\n",
              "                                                   &#x27;Osmarg&#x27;, &#x27;Osspread&#x27;,\n",
              "                                                   &#x27;Kpmar&#x27;, &#x27;Kpsp&#x27;, &#x27;Tomarg&#x27;,\n",
              "                                                   &#x27;blocks&#x27;, &#x27;steal&#x27;, &#x27;fgp&#x27;,\n",
              "                                                   &#x27;fta&#x27;, &#x27;orbs&#x27;, &#x27;NF&#x27;, &#x27;BPI&#x27;,\n",
              "                                                   &#x27;TR&#x27;, &#x27;OSP&#x27;, &#x27;Nfp&#x27;, &#x27;BPIp&#x27;,\n",
              "                                                   &#x27;Kpp&#x27;, &#x27;marg&#x27;]),\n",
              "                                                 (&#x27;cat&#x27;, OneHotEncoder(),\n",
              "                                                  [])])),\n",
              "                (&#x27;mlr_model&#x27;, LinearRegression())])</pre><b>In a Jupyter environment, please rerun this cell to show the HTML representation or trust the notebook. <br />On GitHub, the HTML representation is unable to render, please try loading this page with nbviewer.org.</b></div><div class=\"sk-container\" hidden><div class=\"sk-item sk-dashed-wrapped\"><div class=\"sk-label-container\"><div class=\"sk-label sk-toggleable\"><input class=\"sk-toggleable__control sk-hidden--visually\" id=\"sk-estimator-id-8\" type=\"checkbox\" ><label for=\"sk-estimator-id-8\" class=\"sk-toggleable__label sk-toggleable__label-arrow\">Pipeline</label><div class=\"sk-toggleable__content\"><pre>Pipeline(steps=[(&#x27;transform&#x27;,\n",
              "                 ColumnTransformer(transformers=[(&#x27;num&#x27;, MinMaxScaler(),\n",
              "                                                  [&#x27;HomeSpread&#x27;, &#x27;Pdspread&#x27;,\n",
              "                                                   &#x27;Osmarg&#x27;, &#x27;Osspread&#x27;,\n",
              "                                                   &#x27;Kpmar&#x27;, &#x27;Kpsp&#x27;, &#x27;Tomarg&#x27;,\n",
              "                                                   &#x27;blocks&#x27;, &#x27;steal&#x27;, &#x27;fgp&#x27;,\n",
              "                                                   &#x27;fta&#x27;, &#x27;orbs&#x27;, &#x27;NF&#x27;, &#x27;BPI&#x27;,\n",
              "                                                   &#x27;TR&#x27;, &#x27;OSP&#x27;, &#x27;Nfp&#x27;, &#x27;BPIp&#x27;,\n",
              "                                                   &#x27;Kpp&#x27;, &#x27;marg&#x27;]),\n",
              "                                                 (&#x27;cat&#x27;, OneHotEncoder(),\n",
              "                                                  [])])),\n",
              "                (&#x27;mlr_model&#x27;, LinearRegression())])</pre></div></div></div><div class=\"sk-serial\"><div class=\"sk-item sk-dashed-wrapped\"><div class=\"sk-label-container\"><div class=\"sk-label sk-toggleable\"><input class=\"sk-toggleable__control sk-hidden--visually\" id=\"sk-estimator-id-9\" type=\"checkbox\" ><label for=\"sk-estimator-id-9\" class=\"sk-toggleable__label sk-toggleable__label-arrow\">transform: ColumnTransformer</label><div class=\"sk-toggleable__content\"><pre>ColumnTransformer(transformers=[(&#x27;num&#x27;, MinMaxScaler(),\n",
              "                                 [&#x27;HomeSpread&#x27;, &#x27;Pdspread&#x27;, &#x27;Osmarg&#x27;,\n",
              "                                  &#x27;Osspread&#x27;, &#x27;Kpmar&#x27;, &#x27;Kpsp&#x27;, &#x27;Tomarg&#x27;,\n",
              "                                  &#x27;blocks&#x27;, &#x27;steal&#x27;, &#x27;fgp&#x27;, &#x27;fta&#x27;, &#x27;orbs&#x27;, &#x27;NF&#x27;,\n",
              "                                  &#x27;BPI&#x27;, &#x27;TR&#x27;, &#x27;OSP&#x27;, &#x27;Nfp&#x27;, &#x27;BPIp&#x27;, &#x27;Kpp&#x27;,\n",
              "                                  &#x27;marg&#x27;]),\n",
              "                                (&#x27;cat&#x27;, OneHotEncoder(), [])])</pre></div></div></div><div class=\"sk-parallel\"><div class=\"sk-parallel-item\"><div class=\"sk-item\"><div class=\"sk-label-container\"><div class=\"sk-label sk-toggleable\"><input class=\"sk-toggleable__control sk-hidden--visually\" id=\"sk-estimator-id-10\" type=\"checkbox\" ><label for=\"sk-estimator-id-10\" class=\"sk-toggleable__label sk-toggleable__label-arrow\">num</label><div class=\"sk-toggleable__content\"><pre>[&#x27;HomeSpread&#x27;, &#x27;Pdspread&#x27;, &#x27;Osmarg&#x27;, &#x27;Osspread&#x27;, &#x27;Kpmar&#x27;, &#x27;Kpsp&#x27;, &#x27;Tomarg&#x27;, &#x27;blocks&#x27;, &#x27;steal&#x27;, &#x27;fgp&#x27;, &#x27;fta&#x27;, &#x27;orbs&#x27;, &#x27;NF&#x27;, &#x27;BPI&#x27;, &#x27;TR&#x27;, &#x27;OSP&#x27;, &#x27;Nfp&#x27;, &#x27;BPIp&#x27;, &#x27;Kpp&#x27;, &#x27;marg&#x27;]</pre></div></div></div><div class=\"sk-serial\"><div class=\"sk-item\"><div class=\"sk-estimator sk-toggleable\"><input class=\"sk-toggleable__control sk-hidden--visually\" id=\"sk-estimator-id-11\" type=\"checkbox\" ><label for=\"sk-estimator-id-11\" class=\"sk-toggleable__label sk-toggleable__label-arrow\">MinMaxScaler</label><div class=\"sk-toggleable__content\"><pre>MinMaxScaler()</pre></div></div></div></div></div></div><div class=\"sk-parallel-item\"><div class=\"sk-item\"><div class=\"sk-label-container\"><div class=\"sk-label sk-toggleable\"><input class=\"sk-toggleable__control sk-hidden--visually\" id=\"sk-estimator-id-12\" type=\"checkbox\" ><label for=\"sk-estimator-id-12\" class=\"sk-toggleable__label sk-toggleable__label-arrow\">cat</label><div class=\"sk-toggleable__content\"><pre>[]</pre></div></div></div><div class=\"sk-serial\"><div class=\"sk-item\"><div class=\"sk-estimator sk-toggleable\"><input class=\"sk-toggleable__control sk-hidden--visually\" id=\"sk-estimator-id-13\" type=\"checkbox\" ><label for=\"sk-estimator-id-13\" class=\"sk-toggleable__label sk-toggleable__label-arrow\">OneHotEncoder</label><div class=\"sk-toggleable__content\"><pre>OneHotEncoder()</pre></div></div></div></div></div></div></div></div><div class=\"sk-item\"><div class=\"sk-estimator sk-toggleable\"><input class=\"sk-toggleable__control sk-hidden--visually\" id=\"sk-estimator-id-14\" type=\"checkbox\" ><label for=\"sk-estimator-id-14\" class=\"sk-toggleable__label sk-toggleable__label-arrow\">LinearRegression</label><div class=\"sk-toggleable__content\"><pre>LinearRegression()</pre></div></div></div></div></div></div></div>"
            ]
          },
          "metadata": {},
          "execution_count": 23
        }
      ]
    },
    {
      "cell_type": "markdown",
      "source": [
        "# Running fit into pipeline"
      ],
      "metadata": {
        "id": "smibeveIjV3I"
      }
    },
    {
      "cell_type": "code",
      "source": [
        "pipeline.fit(X_train, y_train)"
      ],
      "metadata": {
        "colab": {
          "base_uri": "https://localhost:8080/",
          "height": 192
        },
        "id": "ku7AUu5njaz_",
        "outputId": "8892a5b3-22b9-401a-f081-6aa192192caf"
      },
      "execution_count": 24,
      "outputs": [
        {
          "output_type": "execute_result",
          "data": {
            "text/plain": [
              "Pipeline(steps=[('transform',\n",
              "                 ColumnTransformer(transformers=[('num', MinMaxScaler(),\n",
              "                                                  ['HomeSpread', 'Pdspread',\n",
              "                                                   'Osmarg', 'Osspread',\n",
              "                                                   'Kpmar', 'Kpsp', 'Tomarg',\n",
              "                                                   'blocks', 'steal', 'fgp',\n",
              "                                                   'fta', 'orbs', 'NF', 'BPI',\n",
              "                                                   'TR', 'OSP', 'Nfp', 'BPIp',\n",
              "                                                   'Kpp', 'marg']),\n",
              "                                                 ('cat', OneHotEncoder(),\n",
              "                                                  [])])),\n",
              "                ('mlr_model', LinearRegression())])"
            ],
            "text/html": [
              "<style>#sk-container-id-3 {color: black;background-color: white;}#sk-container-id-3 pre{padding: 0;}#sk-container-id-3 div.sk-toggleable {background-color: white;}#sk-container-id-3 label.sk-toggleable__label {cursor: pointer;display: block;width: 100%;margin-bottom: 0;padding: 0.3em;box-sizing: border-box;text-align: center;}#sk-container-id-3 label.sk-toggleable__label-arrow:before {content: \"▸\";float: left;margin-right: 0.25em;color: #696969;}#sk-container-id-3 label.sk-toggleable__label-arrow:hover:before {color: black;}#sk-container-id-3 div.sk-estimator:hover label.sk-toggleable__label-arrow:before {color: black;}#sk-container-id-3 div.sk-toggleable__content {max-height: 0;max-width: 0;overflow: hidden;text-align: left;background-color: #f0f8ff;}#sk-container-id-3 div.sk-toggleable__content pre {margin: 0.2em;color: black;border-radius: 0.25em;background-color: #f0f8ff;}#sk-container-id-3 input.sk-toggleable__control:checked~div.sk-toggleable__content {max-height: 200px;max-width: 100%;overflow: auto;}#sk-container-id-3 input.sk-toggleable__control:checked~label.sk-toggleable__label-arrow:before {content: \"▾\";}#sk-container-id-3 div.sk-estimator input.sk-toggleable__control:checked~label.sk-toggleable__label {background-color: #d4ebff;}#sk-container-id-3 div.sk-label input.sk-toggleable__control:checked~label.sk-toggleable__label {background-color: #d4ebff;}#sk-container-id-3 input.sk-hidden--visually {border: 0;clip: rect(1px 1px 1px 1px);clip: rect(1px, 1px, 1px, 1px);height: 1px;margin: -1px;overflow: hidden;padding: 0;position: absolute;width: 1px;}#sk-container-id-3 div.sk-estimator {font-family: monospace;background-color: #f0f8ff;border: 1px dotted black;border-radius: 0.25em;box-sizing: border-box;margin-bottom: 0.5em;}#sk-container-id-3 div.sk-estimator:hover {background-color: #d4ebff;}#sk-container-id-3 div.sk-parallel-item::after {content: \"\";width: 100%;border-bottom: 1px solid gray;flex-grow: 1;}#sk-container-id-3 div.sk-label:hover label.sk-toggleable__label {background-color: #d4ebff;}#sk-container-id-3 div.sk-serial::before {content: \"\";position: absolute;border-left: 1px solid gray;box-sizing: border-box;top: 0;bottom: 0;left: 50%;z-index: 0;}#sk-container-id-3 div.sk-serial {display: flex;flex-direction: column;align-items: center;background-color: white;padding-right: 0.2em;padding-left: 0.2em;position: relative;}#sk-container-id-3 div.sk-item {position: relative;z-index: 1;}#sk-container-id-3 div.sk-parallel {display: flex;align-items: stretch;justify-content: center;background-color: white;position: relative;}#sk-container-id-3 div.sk-item::before, #sk-container-id-3 div.sk-parallel-item::before {content: \"\";position: absolute;border-left: 1px solid gray;box-sizing: border-box;top: 0;bottom: 0;left: 50%;z-index: -1;}#sk-container-id-3 div.sk-parallel-item {display: flex;flex-direction: column;z-index: 1;position: relative;background-color: white;}#sk-container-id-3 div.sk-parallel-item:first-child::after {align-self: flex-end;width: 50%;}#sk-container-id-3 div.sk-parallel-item:last-child::after {align-self: flex-start;width: 50%;}#sk-container-id-3 div.sk-parallel-item:only-child::after {width: 0;}#sk-container-id-3 div.sk-dashed-wrapped {border: 1px dashed gray;margin: 0 0.4em 0.5em 0.4em;box-sizing: border-box;padding-bottom: 0.4em;background-color: white;}#sk-container-id-3 div.sk-label label {font-family: monospace;font-weight: bold;display: inline-block;line-height: 1.2em;}#sk-container-id-3 div.sk-label-container {text-align: center;}#sk-container-id-3 div.sk-container {/* jupyter's `normalize.less` sets `[hidden] { display: none; }` but bootstrap.min.css set `[hidden] { display: none !important; }` so we also need the `!important` here to be able to override the default hidden behavior on the sphinx rendered scikit-learn.org. See: https://github.com/scikit-learn/scikit-learn/issues/21755 */display: inline-block !important;position: relative;}#sk-container-id-3 div.sk-text-repr-fallback {display: none;}</style><div id=\"sk-container-id-3\" class=\"sk-top-container\"><div class=\"sk-text-repr-fallback\"><pre>Pipeline(steps=[(&#x27;transform&#x27;,\n",
              "                 ColumnTransformer(transformers=[(&#x27;num&#x27;, MinMaxScaler(),\n",
              "                                                  [&#x27;HomeSpread&#x27;, &#x27;Pdspread&#x27;,\n",
              "                                                   &#x27;Osmarg&#x27;, &#x27;Osspread&#x27;,\n",
              "                                                   &#x27;Kpmar&#x27;, &#x27;Kpsp&#x27;, &#x27;Tomarg&#x27;,\n",
              "                                                   &#x27;blocks&#x27;, &#x27;steal&#x27;, &#x27;fgp&#x27;,\n",
              "                                                   &#x27;fta&#x27;, &#x27;orbs&#x27;, &#x27;NF&#x27;, &#x27;BPI&#x27;,\n",
              "                                                   &#x27;TR&#x27;, &#x27;OSP&#x27;, &#x27;Nfp&#x27;, &#x27;BPIp&#x27;,\n",
              "                                                   &#x27;Kpp&#x27;, &#x27;marg&#x27;]),\n",
              "                                                 (&#x27;cat&#x27;, OneHotEncoder(),\n",
              "                                                  [])])),\n",
              "                (&#x27;mlr_model&#x27;, LinearRegression())])</pre><b>In a Jupyter environment, please rerun this cell to show the HTML representation or trust the notebook. <br />On GitHub, the HTML representation is unable to render, please try loading this page with nbviewer.org.</b></div><div class=\"sk-container\" hidden><div class=\"sk-item sk-dashed-wrapped\"><div class=\"sk-label-container\"><div class=\"sk-label sk-toggleable\"><input class=\"sk-toggleable__control sk-hidden--visually\" id=\"sk-estimator-id-15\" type=\"checkbox\" ><label for=\"sk-estimator-id-15\" class=\"sk-toggleable__label sk-toggleable__label-arrow\">Pipeline</label><div class=\"sk-toggleable__content\"><pre>Pipeline(steps=[(&#x27;transform&#x27;,\n",
              "                 ColumnTransformer(transformers=[(&#x27;num&#x27;, MinMaxScaler(),\n",
              "                                                  [&#x27;HomeSpread&#x27;, &#x27;Pdspread&#x27;,\n",
              "                                                   &#x27;Osmarg&#x27;, &#x27;Osspread&#x27;,\n",
              "                                                   &#x27;Kpmar&#x27;, &#x27;Kpsp&#x27;, &#x27;Tomarg&#x27;,\n",
              "                                                   &#x27;blocks&#x27;, &#x27;steal&#x27;, &#x27;fgp&#x27;,\n",
              "                                                   &#x27;fta&#x27;, &#x27;orbs&#x27;, &#x27;NF&#x27;, &#x27;BPI&#x27;,\n",
              "                                                   &#x27;TR&#x27;, &#x27;OSP&#x27;, &#x27;Nfp&#x27;, &#x27;BPIp&#x27;,\n",
              "                                                   &#x27;Kpp&#x27;, &#x27;marg&#x27;]),\n",
              "                                                 (&#x27;cat&#x27;, OneHotEncoder(),\n",
              "                                                  [])])),\n",
              "                (&#x27;mlr_model&#x27;, LinearRegression())])</pre></div></div></div><div class=\"sk-serial\"><div class=\"sk-item sk-dashed-wrapped\"><div class=\"sk-label-container\"><div class=\"sk-label sk-toggleable\"><input class=\"sk-toggleable__control sk-hidden--visually\" id=\"sk-estimator-id-16\" type=\"checkbox\" ><label for=\"sk-estimator-id-16\" class=\"sk-toggleable__label sk-toggleable__label-arrow\">transform: ColumnTransformer</label><div class=\"sk-toggleable__content\"><pre>ColumnTransformer(transformers=[(&#x27;num&#x27;, MinMaxScaler(),\n",
              "                                 [&#x27;HomeSpread&#x27;, &#x27;Pdspread&#x27;, &#x27;Osmarg&#x27;,\n",
              "                                  &#x27;Osspread&#x27;, &#x27;Kpmar&#x27;, &#x27;Kpsp&#x27;, &#x27;Tomarg&#x27;,\n",
              "                                  &#x27;blocks&#x27;, &#x27;steal&#x27;, &#x27;fgp&#x27;, &#x27;fta&#x27;, &#x27;orbs&#x27;, &#x27;NF&#x27;,\n",
              "                                  &#x27;BPI&#x27;, &#x27;TR&#x27;, &#x27;OSP&#x27;, &#x27;Nfp&#x27;, &#x27;BPIp&#x27;, &#x27;Kpp&#x27;,\n",
              "                                  &#x27;marg&#x27;]),\n",
              "                                (&#x27;cat&#x27;, OneHotEncoder(), [])])</pre></div></div></div><div class=\"sk-parallel\"><div class=\"sk-parallel-item\"><div class=\"sk-item\"><div class=\"sk-label-container\"><div class=\"sk-label sk-toggleable\"><input class=\"sk-toggleable__control sk-hidden--visually\" id=\"sk-estimator-id-17\" type=\"checkbox\" ><label for=\"sk-estimator-id-17\" class=\"sk-toggleable__label sk-toggleable__label-arrow\">num</label><div class=\"sk-toggleable__content\"><pre>[&#x27;HomeSpread&#x27;, &#x27;Pdspread&#x27;, &#x27;Osmarg&#x27;, &#x27;Osspread&#x27;, &#x27;Kpmar&#x27;, &#x27;Kpsp&#x27;, &#x27;Tomarg&#x27;, &#x27;blocks&#x27;, &#x27;steal&#x27;, &#x27;fgp&#x27;, &#x27;fta&#x27;, &#x27;orbs&#x27;, &#x27;NF&#x27;, &#x27;BPI&#x27;, &#x27;TR&#x27;, &#x27;OSP&#x27;, &#x27;Nfp&#x27;, &#x27;BPIp&#x27;, &#x27;Kpp&#x27;, &#x27;marg&#x27;]</pre></div></div></div><div class=\"sk-serial\"><div class=\"sk-item\"><div class=\"sk-estimator sk-toggleable\"><input class=\"sk-toggleable__control sk-hidden--visually\" id=\"sk-estimator-id-18\" type=\"checkbox\" ><label for=\"sk-estimator-id-18\" class=\"sk-toggleable__label sk-toggleable__label-arrow\">MinMaxScaler</label><div class=\"sk-toggleable__content\"><pre>MinMaxScaler()</pre></div></div></div></div></div></div><div class=\"sk-parallel-item\"><div class=\"sk-item\"><div class=\"sk-label-container\"><div class=\"sk-label sk-toggleable\"><input class=\"sk-toggleable__control sk-hidden--visually\" id=\"sk-estimator-id-19\" type=\"checkbox\" ><label for=\"sk-estimator-id-19\" class=\"sk-toggleable__label sk-toggleable__label-arrow\">cat</label><div class=\"sk-toggleable__content\"><pre>[]</pre></div></div></div><div class=\"sk-serial\"><div class=\"sk-item\"><div class=\"sk-estimator sk-toggleable\"><input class=\"sk-toggleable__control sk-hidden--visually\" id=\"sk-estimator-id-20\" type=\"checkbox\" ><label for=\"sk-estimator-id-20\" class=\"sk-toggleable__label sk-toggleable__label-arrow\">OneHotEncoder</label><div class=\"sk-toggleable__content\"><pre>OneHotEncoder()</pre></div></div></div></div></div></div></div></div><div class=\"sk-item\"><div class=\"sk-estimator sk-toggleable\"><input class=\"sk-toggleable__control sk-hidden--visually\" id=\"sk-estimator-id-21\" type=\"checkbox\" ><label for=\"sk-estimator-id-21\" class=\"sk-toggleable__label sk-toggleable__label-arrow\">LinearRegression</label><div class=\"sk-toggleable__content\"><pre>LinearRegression()</pre></div></div></div></div></div></div></div>"
            ]
          },
          "metadata": {},
          "execution_count": 24
        }
      ]
    },
    {
      "cell_type": "code",
      "source": [
        "y_pred = pipeline.predict(X_test)"
      ],
      "metadata": {
        "id": "WvqH3FLCjdjy"
      },
      "execution_count": 25,
      "outputs": []
    },
    {
      "cell_type": "markdown",
      "source": [
        "# R2 score:"
      ],
      "metadata": {
        "id": "faIYdMj7jew5"
      }
    },
    {
      "cell_type": "code",
      "source": [
        "r2_score(y_pred, y_test)"
      ],
      "metadata": {
        "colab": {
          "base_uri": "https://localhost:8080/"
        },
        "id": "H2dspX6TjiiS",
        "outputId": "4c04126e-660b-43e2-bce9-867398625f76"
      },
      "execution_count": 26,
      "outputs": [
        {
          "output_type": "execute_result",
          "data": {
            "text/plain": [
              "1.0"
            ]
          },
          "metadata": {},
          "execution_count": 26
        }
      ]
    },
    {
      "cell_type": "markdown",
      "source": [
        "# Interpretation: "
      ],
      "metadata": {
        "id": "zFzQjPXIjjov"
      }
    },
    {
      "cell_type": "markdown",
      "source": [
        "The R2 score of 1.o would suggest that this model is perfectly able to classify the data presented in the dataset.  I would interpret this to mean that the data being tested has not been fitted to the model correctly, or that some overfitting has occured in this model. "
      ],
      "metadata": {
        "id": "8dIr_HcHjnGY"
      }
    },
    {
      "cell_type": "markdown",
      "source": [
        "# SVM Regression"
      ],
      "metadata": {
        "id": "0hj-nVs3g6Hc"
      }
    },
    {
      "cell_type": "markdown",
      "source": [
        "# Accessing drive: "
      ],
      "metadata": {
        "id": "-6Co5a0MgzmX"
      }
    },
    {
      "cell_type": "code",
      "source": [
        "df = pd.read_csv('/content/gdrive/MyDrive/CS-430/regseason2223clean.csv')"
      ],
      "metadata": {
        "id": "w8lk8mY2g5CD"
      },
      "execution_count": 8,
      "outputs": []
    },
    {
      "cell_type": "markdown",
      "source": [
        "# Splitting data into Train/test:"
      ],
      "metadata": {
        "id": "_Cowlv-jhKCg"
      }
    },
    {
      "cell_type": "code",
      "source": [
        "X = df.drop(['Matchup', 'Pdmargin'], axis=1)\n",
        "y = df['Pdmargin']\n",
        "\n",
        "X_train, X_test, y_train, y_test = train_test_split(X, y, test_size=0.2, random_state=0)"
      ],
      "metadata": {
        "id": "WSl3NcqZhGL9"
      },
      "execution_count": 9,
      "outputs": []
    },
    {
      "cell_type": "markdown",
      "source": [
        "# Building the pipeline:"
      ],
      "metadata": {
        "id": "X40f56RBhMsu"
      }
    },
    {
      "cell_type": "code",
      "source": [
        "num_cols = ['HomeSpread', 'Pdspread', 'Osmarg', 'Osspread', 'Kpmar', 'Kpsp', 'Tomarg', 'blocks', 'steal', 'fgp', 'fta', 'orbs', 'NF', 'BPI', 'TR', 'OSP', 'Nfp', 'BPIp', 'Kpp', 'marg']\n",
        "cat_cols = []"
      ],
      "metadata": {
        "id": "ZZ2ajpOchO01"
      },
      "execution_count": 10,
      "outputs": []
    },
    {
      "cell_type": "code",
      "source": [
        "col_transf = ColumnTransformer(\n",
        "    transformers=[\n",
        "        ('num', MinMaxScaler(), num_cols),\n",
        "        ('cat', OneHotEncoder(), cat_cols)\n",
        "    ])"
      ],
      "metadata": {
        "id": "AtCYWhjRhTuN"
      },
      "execution_count": 11,
      "outputs": []
    },
    {
      "cell_type": "code",
      "source": [
        "pipeline = Pipeline(steps=[('col_transf', col_transf),\n",
        "                           ('reg_model', SVR(kernel='rbf'))])\n"
      ],
      "metadata": {
        "id": "MgK_Yg8xhTlE"
      },
      "execution_count": 12,
      "outputs": []
    },
    {
      "cell_type": "markdown",
      "source": [
        "# Fitting pipeline:"
      ],
      "metadata": {
        "id": "sLZ_d0zwhQ0J"
      }
    },
    {
      "cell_type": "code",
      "source": [
        "pipeline.fit(X_train, y_train)"
      ],
      "metadata": {
        "colab": {
          "base_uri": "https://localhost:8080/",
          "height": 192
        },
        "id": "NvM9eMVqhbea",
        "outputId": "04cb7937-7764-439a-e752-f929d185c22f"
      },
      "execution_count": 13,
      "outputs": [
        {
          "output_type": "execute_result",
          "data": {
            "text/plain": [
              "Pipeline(steps=[('col_transf',\n",
              "                 ColumnTransformer(transformers=[('num', MinMaxScaler(),\n",
              "                                                  ['HomeSpread', 'Pdspread',\n",
              "                                                   'Osmarg', 'Osspread',\n",
              "                                                   'Kpmar', 'Kpsp', 'Tomarg',\n",
              "                                                   'blocks', 'steal', 'fgp',\n",
              "                                                   'fta', 'orbs', 'NF', 'BPI',\n",
              "                                                   'TR', 'OSP', 'Nfp', 'BPIp',\n",
              "                                                   'Kpp', 'marg']),\n",
              "                                                 ('cat', OneHotEncoder(),\n",
              "                                                  [])])),\n",
              "                ('reg_model', SVR())])"
            ],
            "text/html": [
              "<style>#sk-container-id-1 {color: black;background-color: white;}#sk-container-id-1 pre{padding: 0;}#sk-container-id-1 div.sk-toggleable {background-color: white;}#sk-container-id-1 label.sk-toggleable__label {cursor: pointer;display: block;width: 100%;margin-bottom: 0;padding: 0.3em;box-sizing: border-box;text-align: center;}#sk-container-id-1 label.sk-toggleable__label-arrow:before {content: \"▸\";float: left;margin-right: 0.25em;color: #696969;}#sk-container-id-1 label.sk-toggleable__label-arrow:hover:before {color: black;}#sk-container-id-1 div.sk-estimator:hover label.sk-toggleable__label-arrow:before {color: black;}#sk-container-id-1 div.sk-toggleable__content {max-height: 0;max-width: 0;overflow: hidden;text-align: left;background-color: #f0f8ff;}#sk-container-id-1 div.sk-toggleable__content pre {margin: 0.2em;color: black;border-radius: 0.25em;background-color: #f0f8ff;}#sk-container-id-1 input.sk-toggleable__control:checked~div.sk-toggleable__content {max-height: 200px;max-width: 100%;overflow: auto;}#sk-container-id-1 input.sk-toggleable__control:checked~label.sk-toggleable__label-arrow:before {content: \"▾\";}#sk-container-id-1 div.sk-estimator input.sk-toggleable__control:checked~label.sk-toggleable__label {background-color: #d4ebff;}#sk-container-id-1 div.sk-label input.sk-toggleable__control:checked~label.sk-toggleable__label {background-color: #d4ebff;}#sk-container-id-1 input.sk-hidden--visually {border: 0;clip: rect(1px 1px 1px 1px);clip: rect(1px, 1px, 1px, 1px);height: 1px;margin: -1px;overflow: hidden;padding: 0;position: absolute;width: 1px;}#sk-container-id-1 div.sk-estimator {font-family: monospace;background-color: #f0f8ff;border: 1px dotted black;border-radius: 0.25em;box-sizing: border-box;margin-bottom: 0.5em;}#sk-container-id-1 div.sk-estimator:hover {background-color: #d4ebff;}#sk-container-id-1 div.sk-parallel-item::after {content: \"\";width: 100%;border-bottom: 1px solid gray;flex-grow: 1;}#sk-container-id-1 div.sk-label:hover label.sk-toggleable__label {background-color: #d4ebff;}#sk-container-id-1 div.sk-serial::before {content: \"\";position: absolute;border-left: 1px solid gray;box-sizing: border-box;top: 0;bottom: 0;left: 50%;z-index: 0;}#sk-container-id-1 div.sk-serial {display: flex;flex-direction: column;align-items: center;background-color: white;padding-right: 0.2em;padding-left: 0.2em;position: relative;}#sk-container-id-1 div.sk-item {position: relative;z-index: 1;}#sk-container-id-1 div.sk-parallel {display: flex;align-items: stretch;justify-content: center;background-color: white;position: relative;}#sk-container-id-1 div.sk-item::before, #sk-container-id-1 div.sk-parallel-item::before {content: \"\";position: absolute;border-left: 1px solid gray;box-sizing: border-box;top: 0;bottom: 0;left: 50%;z-index: -1;}#sk-container-id-1 div.sk-parallel-item {display: flex;flex-direction: column;z-index: 1;position: relative;background-color: white;}#sk-container-id-1 div.sk-parallel-item:first-child::after {align-self: flex-end;width: 50%;}#sk-container-id-1 div.sk-parallel-item:last-child::after {align-self: flex-start;width: 50%;}#sk-container-id-1 div.sk-parallel-item:only-child::after {width: 0;}#sk-container-id-1 div.sk-dashed-wrapped {border: 1px dashed gray;margin: 0 0.4em 0.5em 0.4em;box-sizing: border-box;padding-bottom: 0.4em;background-color: white;}#sk-container-id-1 div.sk-label label {font-family: monospace;font-weight: bold;display: inline-block;line-height: 1.2em;}#sk-container-id-1 div.sk-label-container {text-align: center;}#sk-container-id-1 div.sk-container {/* jupyter's `normalize.less` sets `[hidden] { display: none; }` but bootstrap.min.css set `[hidden] { display: none !important; }` so we also need the `!important` here to be able to override the default hidden behavior on the sphinx rendered scikit-learn.org. See: https://github.com/scikit-learn/scikit-learn/issues/21755 */display: inline-block !important;position: relative;}#sk-container-id-1 div.sk-text-repr-fallback {display: none;}</style><div id=\"sk-container-id-1\" class=\"sk-top-container\"><div class=\"sk-text-repr-fallback\"><pre>Pipeline(steps=[(&#x27;col_transf&#x27;,\n",
              "                 ColumnTransformer(transformers=[(&#x27;num&#x27;, MinMaxScaler(),\n",
              "                                                  [&#x27;HomeSpread&#x27;, &#x27;Pdspread&#x27;,\n",
              "                                                   &#x27;Osmarg&#x27;, &#x27;Osspread&#x27;,\n",
              "                                                   &#x27;Kpmar&#x27;, &#x27;Kpsp&#x27;, &#x27;Tomarg&#x27;,\n",
              "                                                   &#x27;blocks&#x27;, &#x27;steal&#x27;, &#x27;fgp&#x27;,\n",
              "                                                   &#x27;fta&#x27;, &#x27;orbs&#x27;, &#x27;NF&#x27;, &#x27;BPI&#x27;,\n",
              "                                                   &#x27;TR&#x27;, &#x27;OSP&#x27;, &#x27;Nfp&#x27;, &#x27;BPIp&#x27;,\n",
              "                                                   &#x27;Kpp&#x27;, &#x27;marg&#x27;]),\n",
              "                                                 (&#x27;cat&#x27;, OneHotEncoder(),\n",
              "                                                  [])])),\n",
              "                (&#x27;reg_model&#x27;, SVR())])</pre><b>In a Jupyter environment, please rerun this cell to show the HTML representation or trust the notebook. <br />On GitHub, the HTML representation is unable to render, please try loading this page with nbviewer.org.</b></div><div class=\"sk-container\" hidden><div class=\"sk-item sk-dashed-wrapped\"><div class=\"sk-label-container\"><div class=\"sk-label sk-toggleable\"><input class=\"sk-toggleable__control sk-hidden--visually\" id=\"sk-estimator-id-1\" type=\"checkbox\" ><label for=\"sk-estimator-id-1\" class=\"sk-toggleable__label sk-toggleable__label-arrow\">Pipeline</label><div class=\"sk-toggleable__content\"><pre>Pipeline(steps=[(&#x27;col_transf&#x27;,\n",
              "                 ColumnTransformer(transformers=[(&#x27;num&#x27;, MinMaxScaler(),\n",
              "                                                  [&#x27;HomeSpread&#x27;, &#x27;Pdspread&#x27;,\n",
              "                                                   &#x27;Osmarg&#x27;, &#x27;Osspread&#x27;,\n",
              "                                                   &#x27;Kpmar&#x27;, &#x27;Kpsp&#x27;, &#x27;Tomarg&#x27;,\n",
              "                                                   &#x27;blocks&#x27;, &#x27;steal&#x27;, &#x27;fgp&#x27;,\n",
              "                                                   &#x27;fta&#x27;, &#x27;orbs&#x27;, &#x27;NF&#x27;, &#x27;BPI&#x27;,\n",
              "                                                   &#x27;TR&#x27;, &#x27;OSP&#x27;, &#x27;Nfp&#x27;, &#x27;BPIp&#x27;,\n",
              "                                                   &#x27;Kpp&#x27;, &#x27;marg&#x27;]),\n",
              "                                                 (&#x27;cat&#x27;, OneHotEncoder(),\n",
              "                                                  [])])),\n",
              "                (&#x27;reg_model&#x27;, SVR())])</pre></div></div></div><div class=\"sk-serial\"><div class=\"sk-item sk-dashed-wrapped\"><div class=\"sk-label-container\"><div class=\"sk-label sk-toggleable\"><input class=\"sk-toggleable__control sk-hidden--visually\" id=\"sk-estimator-id-2\" type=\"checkbox\" ><label for=\"sk-estimator-id-2\" class=\"sk-toggleable__label sk-toggleable__label-arrow\">col_transf: ColumnTransformer</label><div class=\"sk-toggleable__content\"><pre>ColumnTransformer(transformers=[(&#x27;num&#x27;, MinMaxScaler(),\n",
              "                                 [&#x27;HomeSpread&#x27;, &#x27;Pdspread&#x27;, &#x27;Osmarg&#x27;,\n",
              "                                  &#x27;Osspread&#x27;, &#x27;Kpmar&#x27;, &#x27;Kpsp&#x27;, &#x27;Tomarg&#x27;,\n",
              "                                  &#x27;blocks&#x27;, &#x27;steal&#x27;, &#x27;fgp&#x27;, &#x27;fta&#x27;, &#x27;orbs&#x27;, &#x27;NF&#x27;,\n",
              "                                  &#x27;BPI&#x27;, &#x27;TR&#x27;, &#x27;OSP&#x27;, &#x27;Nfp&#x27;, &#x27;BPIp&#x27;, &#x27;Kpp&#x27;,\n",
              "                                  &#x27;marg&#x27;]),\n",
              "                                (&#x27;cat&#x27;, OneHotEncoder(), [])])</pre></div></div></div><div class=\"sk-parallel\"><div class=\"sk-parallel-item\"><div class=\"sk-item\"><div class=\"sk-label-container\"><div class=\"sk-label sk-toggleable\"><input class=\"sk-toggleable__control sk-hidden--visually\" id=\"sk-estimator-id-3\" type=\"checkbox\" ><label for=\"sk-estimator-id-3\" class=\"sk-toggleable__label sk-toggleable__label-arrow\">num</label><div class=\"sk-toggleable__content\"><pre>[&#x27;HomeSpread&#x27;, &#x27;Pdspread&#x27;, &#x27;Osmarg&#x27;, &#x27;Osspread&#x27;, &#x27;Kpmar&#x27;, &#x27;Kpsp&#x27;, &#x27;Tomarg&#x27;, &#x27;blocks&#x27;, &#x27;steal&#x27;, &#x27;fgp&#x27;, &#x27;fta&#x27;, &#x27;orbs&#x27;, &#x27;NF&#x27;, &#x27;BPI&#x27;, &#x27;TR&#x27;, &#x27;OSP&#x27;, &#x27;Nfp&#x27;, &#x27;BPIp&#x27;, &#x27;Kpp&#x27;, &#x27;marg&#x27;]</pre></div></div></div><div class=\"sk-serial\"><div class=\"sk-item\"><div class=\"sk-estimator sk-toggleable\"><input class=\"sk-toggleable__control sk-hidden--visually\" id=\"sk-estimator-id-4\" type=\"checkbox\" ><label for=\"sk-estimator-id-4\" class=\"sk-toggleable__label sk-toggleable__label-arrow\">MinMaxScaler</label><div class=\"sk-toggleable__content\"><pre>MinMaxScaler()</pre></div></div></div></div></div></div><div class=\"sk-parallel-item\"><div class=\"sk-item\"><div class=\"sk-label-container\"><div class=\"sk-label sk-toggleable\"><input class=\"sk-toggleable__control sk-hidden--visually\" id=\"sk-estimator-id-5\" type=\"checkbox\" ><label for=\"sk-estimator-id-5\" class=\"sk-toggleable__label sk-toggleable__label-arrow\">cat</label><div class=\"sk-toggleable__content\"><pre>[]</pre></div></div></div><div class=\"sk-serial\"><div class=\"sk-item\"><div class=\"sk-estimator sk-toggleable\"><input class=\"sk-toggleable__control sk-hidden--visually\" id=\"sk-estimator-id-6\" type=\"checkbox\" ><label for=\"sk-estimator-id-6\" class=\"sk-toggleable__label sk-toggleable__label-arrow\">OneHotEncoder</label><div class=\"sk-toggleable__content\"><pre>OneHotEncoder()</pre></div></div></div></div></div></div></div></div><div class=\"sk-item\"><div class=\"sk-estimator sk-toggleable\"><input class=\"sk-toggleable__control sk-hidden--visually\" id=\"sk-estimator-id-7\" type=\"checkbox\" ><label for=\"sk-estimator-id-7\" class=\"sk-toggleable__label sk-toggleable__label-arrow\">SVR</label><div class=\"sk-toggleable__content\"><pre>SVR()</pre></div></div></div></div></div></div></div>"
            ]
          },
          "metadata": {},
          "execution_count": 13
        }
      ]
    },
    {
      "cell_type": "markdown",
      "source": [
        "# Evaluating model:"
      ],
      "metadata": {
        "id": "L4S_IsZohfjt"
      }
    },
    {
      "cell_type": "code",
      "source": [
        "y_pred_train = pipeline.predict(X_train)\n",
        "rmse_train = np.sqrt(mean_squared_error(y_train, y_pred_train))\n",
        "\n",
        "y_pred_test = pipeline.predict(X_test)\n",
        "rmse_test = np.sqrt(mean_squared_error(y_test, y_pred_test))"
      ],
      "metadata": {
        "id": "jzDMj0Ewhg31"
      },
      "execution_count": 14,
      "outputs": []
    },
    {
      "cell_type": "code",
      "source": [
        "print(\"RMSE for training set:\", rmse_train)\n",
        "print(\"RMSE for test set:\", rmse_test)"
      ],
      "metadata": {
        "colab": {
          "base_uri": "https://localhost:8080/"
        },
        "id": "bf90h5iVhlqY",
        "outputId": "820b7531-8178-4125-ce8b-e6ce66474c36"
      },
      "execution_count": 15,
      "outputs": [
        {
          "output_type": "stream",
          "name": "stdout",
          "text": [
            "RMSE for training set: 2.0080261997543523\n",
            "RMSE for test set: 2.118220343637086\n"
          ]
        }
      ]
    },
    {
      "cell_type": "markdown",
      "source": [
        "# Interpretation of reults:"
      ],
      "metadata": {
        "id": "WlgzJUEvhnrU"
      }
    },
    {
      "cell_type": "markdown",
      "source": [
        "Using an SVM regression model, the RMSE for the training and test sets are within a range of ~.1 of each other. I interpret this to mean that the model is working as intended. I believe the RMSE is indicative of an average error of around 2.0 for the predicted margin of victory, which would be extremely close for a basketball game. "
      ],
      "metadata": {
        "id": "XPYF7WwXhqIl"
      }
    }
  ]
}