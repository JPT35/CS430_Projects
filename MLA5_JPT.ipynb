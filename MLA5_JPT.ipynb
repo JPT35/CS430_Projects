{
  "nbformat": 4,
  "nbformat_minor": 0,
  "metadata": {
    "colab": {
      "provenance": [],
      "authorship_tag": "ABX9TyNQDZ+BCokSrVwyICDHLZuu",
      "include_colab_link": true
    },
    "kernelspec": {
      "name": "python3",
      "display_name": "Python 3"
    },
    "language_info": {
      "name": "python"
    }
  },
  "cells": [
    {
      "cell_type": "markdown",
      "metadata": {
        "id": "view-in-github",
        "colab_type": "text"
      },
      "source": [
        "<a href=\"https://colab.research.google.com/github/JPT35/CS430_Projects/blob/main/MLA5_JPT.ipynb\" target=\"_parent\"><img src=\"https://colab.research.google.com/assets/colab-badge.svg\" alt=\"Open In Colab\"/></a>"
      ]
    },
    {
      "cell_type": "markdown",
      "source": [
        "# Standard Imports"
      ],
      "metadata": {
        "id": "2XqoZ-pTDGlk"
      }
    },
    {
      "cell_type": "code",
      "source": [
        "import pandas as pd\n",
        "import numpy as np\n",
        "import matplotlib.pyplot as plt\n",
        "import seaborn as sns\n",
        "%matplotlib inline"
      ],
      "metadata": {
        "id": "lY80r9d8DJLU"
      },
      "execution_count": 15,
      "outputs": []
    },
    {
      "cell_type": "markdown",
      "source": [
        "# Mounting to Google Drive"
      ],
      "metadata": {
        "id": "0mPbR9_MHpjg"
      }
    },
    {
      "cell_type": "code",
      "source": [
        "from google.colab import drive\n",
        "drive.mount('/content/gdrive')"
      ],
      "metadata": {
        "colab": {
          "base_uri": "https://localhost:8080/"
        },
        "id": "sbyO-aiEHtae",
        "outputId": "56ee91e5-03d6-4a1c-aba5-5e1bb70f19d4"
      },
      "execution_count": 16,
      "outputs": [
        {
          "output_type": "stream",
          "name": "stdout",
          "text": [
            "Mounted at /content/gdrive\n"
          ]
        }
      ]
    },
    {
      "cell_type": "markdown",
      "source": [
        "# Imports for specific models"
      ],
      "metadata": {
        "id": "ua5JuXg9Cucz"
      }
    },
    {
      "cell_type": "code",
      "execution_count": 17,
      "metadata": {
        "id": "8bWI6fFBCkqZ"
      },
      "outputs": [],
      "source": [
        "from sklearn.ensemble import VotingClassifier\n",
        "from sklearn.ensemble import BaggingClassifier\n",
        "from sklearn.ensemble import RandomForestClassifier\n",
        "from sklearn.ensemble import AdaBoostClassifier"
      ]
    },
    {
      "cell_type": "markdown",
      "source": [
        "# Other Classifiers"
      ],
      "metadata": {
        "id": "dktK7BS5DP2h"
      }
    },
    {
      "cell_type": "code",
      "source": [
        "from sklearn.neighbors import KNeighborsClassifier\n",
        "from sklearn.linear_model import LogisticRegression\n",
        "from sklearn.svm import SVC\n",
        "from sklearn.tree import DecisionTreeClassifier"
      ],
      "metadata": {
        "id": "cF1x4nBhDVG_"
      },
      "execution_count": 18,
      "outputs": []
    },
    {
      "cell_type": "markdown",
      "source": [
        "\n",
        "# Imports for Splitting Data and Building Pipeline"
      ],
      "metadata": {
        "id": "MZHrCJfTDXBc"
      }
    },
    {
      "cell_type": "code",
      "source": [
        "from sklearn.model_selection import train_test_split\n",
        "\n",
        "from sklearn.pipeline import Pipeline\n",
        "from sklearn.compose import ColumnTransformer\n",
        "from sklearn.preprocessing import MinMaxScaler\n",
        "from sklearn.preprocessing import OneHotEncoder"
      ],
      "metadata": {
        "id": "KxQMB8RyDZAN"
      },
      "execution_count": 19,
      "outputs": []
    },
    {
      "cell_type": "code",
      "source": [
        "from sklearn import set_config\n",
        "set_config(display='diagram')"
      ],
      "metadata": {
        "id": "A4tcbAR9Dbgp"
      },
      "execution_count": 20,
      "outputs": []
    },
    {
      "cell_type": "markdown",
      "source": [
        "# Imports for Performance Measures"
      ],
      "metadata": {
        "id": "kUJls4YTDdkY"
      }
    },
    {
      "cell_type": "code",
      "source": [
        "from sklearn.metrics import confusion_matrix\n",
        "from sklearn.metrics import precision_score, recall_score, f1_score\n",
        "from sklearn.metrics import mean_squared_error\n",
        "from sklearn.metrics import classification_report\n",
        "from sklearn.metrics import ConfusionMatrixDisplay"
      ],
      "metadata": {
        "id": "0eB17j78DftH"
      },
      "execution_count": 21,
      "outputs": []
    },
    {
      "cell_type": "markdown",
      "source": [
        "\n",
        "# Confusion Matrix Function"
      ],
      "metadata": {
        "id": "cEL4EBNtDiK7"
      }
    },
    {
      "cell_type": "code",
      "source": [
        "def plot_cm(y_test, y_pred):\n",
        "    cm = confusion_matrix(y_test,y_pred)\n",
        "    fig = plt.figure(figsize=(10,10))\n",
        "    heatmap = sns.heatmap(cm, annot=True, fmt='.2f', cmap='RdYlGn')\n",
        "    plt.ylabel('True label')\n",
        "    plt.xlabel('Predicted Label')"
      ],
      "metadata": {
        "id": "6Brn3g0mDlWX"
      },
      "execution_count": 22,
      "outputs": []
    },
    {
      "cell_type": "markdown",
      "source": [
        "\n",
        "# Acquire Data"
      ],
      "metadata": {
        "id": "NYbxgh0cDnYO"
      }
    },
    {
      "cell_type": "code",
      "source": [
        "landsat_train = pd.read_csv('/content/gdrive/MyDrive/CS-430/landsat_train.csv')"
      ],
      "metadata": {
        "id": "I6KWUhi3DrOV"
      },
      "execution_count": 83,
      "outputs": []
    },
    {
      "cell_type": "code",
      "source": [
        "landsat_train.head()"
      ],
      "metadata": {
        "colab": {
          "base_uri": "https://localhost:8080/",
          "height": 300
        },
        "id": "V2DbciQjH_IP",
        "outputId": "603e2d2d-0a17-4610-d228-94e274cf11bf"
      },
      "execution_count": 25,
      "outputs": [
        {
          "output_type": "execute_result",
          "data": {
            "text/plain": [
              "   top_left_r  top_left_g  top_left_infra1  top_left_infra2  top_middle_r  \\\n",
              "0          92         115              120               94            84   \n",
              "1          84         102              106               79            84   \n",
              "2          84         102              102               83            80   \n",
              "3          80         102              102               79            84   \n",
              "4          84          94              102               79            80   \n",
              "\n",
              "   top_middle_g  top_middle_infra1  top_middle_infra2  top_right_r  \\\n",
              "0           102                106                 79           84   \n",
              "1           102                102                 83           80   \n",
              "2           102                102                 79           84   \n",
              "3            94                102                 79           80   \n",
              "4            94                 98                 76           80   \n",
              "\n",
              "   top_right_g  ...  bottom_left_infra2  bottom_middle_r  bottom_middle_g  \\\n",
              "0          102  ...                 104               88              121   \n",
              "1          102  ...                 100               84              107   \n",
              "2           94  ...                  87               84               99   \n",
              "3           94  ...                  79               84               99   \n",
              "4          102  ...                  79               84              103   \n",
              "\n",
              "   bottom_middle_infra1  bottom_middle_infra2  bottom_right_r  bottom_right_g  \\\n",
              "0                   128                   100              84             107   \n",
              "1                   113                    87              84              99   \n",
              "2                   104                    79              84              99   \n",
              "3                   104                    79              84             103   \n",
              "4                   104                    79              79             107   \n",
              "\n",
              "   bottom_right_infra1  bottom_right_infra2  land_type  \n",
              "0                  113                   87          3  \n",
              "1                  104                   79          3  \n",
              "2                  104                   79          3  \n",
              "3                  104                   79          3  \n",
              "4                  109                   87          3  \n",
              "\n",
              "[5 rows x 37 columns]"
            ],
            "text/html": [
              "\n",
              "  <div id=\"df-e1ce47b8-316e-4778-af68-f4fe2baf459e\">\n",
              "    <div class=\"colab-df-container\">\n",
              "      <div>\n",
              "<style scoped>\n",
              "    .dataframe tbody tr th:only-of-type {\n",
              "        vertical-align: middle;\n",
              "    }\n",
              "\n",
              "    .dataframe tbody tr th {\n",
              "        vertical-align: top;\n",
              "    }\n",
              "\n",
              "    .dataframe thead th {\n",
              "        text-align: right;\n",
              "    }\n",
              "</style>\n",
              "<table border=\"1\" class=\"dataframe\">\n",
              "  <thead>\n",
              "    <tr style=\"text-align: right;\">\n",
              "      <th></th>\n",
              "      <th>top_left_r</th>\n",
              "      <th>top_left_g</th>\n",
              "      <th>top_left_infra1</th>\n",
              "      <th>top_left_infra2</th>\n",
              "      <th>top_middle_r</th>\n",
              "      <th>top_middle_g</th>\n",
              "      <th>top_middle_infra1</th>\n",
              "      <th>top_middle_infra2</th>\n",
              "      <th>top_right_r</th>\n",
              "      <th>top_right_g</th>\n",
              "      <th>...</th>\n",
              "      <th>bottom_left_infra2</th>\n",
              "      <th>bottom_middle_r</th>\n",
              "      <th>bottom_middle_g</th>\n",
              "      <th>bottom_middle_infra1</th>\n",
              "      <th>bottom_middle_infra2</th>\n",
              "      <th>bottom_right_r</th>\n",
              "      <th>bottom_right_g</th>\n",
              "      <th>bottom_right_infra1</th>\n",
              "      <th>bottom_right_infra2</th>\n",
              "      <th>land_type</th>\n",
              "    </tr>\n",
              "  </thead>\n",
              "  <tbody>\n",
              "    <tr>\n",
              "      <th>0</th>\n",
              "      <td>92</td>\n",
              "      <td>115</td>\n",
              "      <td>120</td>\n",
              "      <td>94</td>\n",
              "      <td>84</td>\n",
              "      <td>102</td>\n",
              "      <td>106</td>\n",
              "      <td>79</td>\n",
              "      <td>84</td>\n",
              "      <td>102</td>\n",
              "      <td>...</td>\n",
              "      <td>104</td>\n",
              "      <td>88</td>\n",
              "      <td>121</td>\n",
              "      <td>128</td>\n",
              "      <td>100</td>\n",
              "      <td>84</td>\n",
              "      <td>107</td>\n",
              "      <td>113</td>\n",
              "      <td>87</td>\n",
              "      <td>3</td>\n",
              "    </tr>\n",
              "    <tr>\n",
              "      <th>1</th>\n",
              "      <td>84</td>\n",
              "      <td>102</td>\n",
              "      <td>106</td>\n",
              "      <td>79</td>\n",
              "      <td>84</td>\n",
              "      <td>102</td>\n",
              "      <td>102</td>\n",
              "      <td>83</td>\n",
              "      <td>80</td>\n",
              "      <td>102</td>\n",
              "      <td>...</td>\n",
              "      <td>100</td>\n",
              "      <td>84</td>\n",
              "      <td>107</td>\n",
              "      <td>113</td>\n",
              "      <td>87</td>\n",
              "      <td>84</td>\n",
              "      <td>99</td>\n",
              "      <td>104</td>\n",
              "      <td>79</td>\n",
              "      <td>3</td>\n",
              "    </tr>\n",
              "    <tr>\n",
              "      <th>2</th>\n",
              "      <td>84</td>\n",
              "      <td>102</td>\n",
              "      <td>102</td>\n",
              "      <td>83</td>\n",
              "      <td>80</td>\n",
              "      <td>102</td>\n",
              "      <td>102</td>\n",
              "      <td>79</td>\n",
              "      <td>84</td>\n",
              "      <td>94</td>\n",
              "      <td>...</td>\n",
              "      <td>87</td>\n",
              "      <td>84</td>\n",
              "      <td>99</td>\n",
              "      <td>104</td>\n",
              "      <td>79</td>\n",
              "      <td>84</td>\n",
              "      <td>99</td>\n",
              "      <td>104</td>\n",
              "      <td>79</td>\n",
              "      <td>3</td>\n",
              "    </tr>\n",
              "    <tr>\n",
              "      <th>3</th>\n",
              "      <td>80</td>\n",
              "      <td>102</td>\n",
              "      <td>102</td>\n",
              "      <td>79</td>\n",
              "      <td>84</td>\n",
              "      <td>94</td>\n",
              "      <td>102</td>\n",
              "      <td>79</td>\n",
              "      <td>80</td>\n",
              "      <td>94</td>\n",
              "      <td>...</td>\n",
              "      <td>79</td>\n",
              "      <td>84</td>\n",
              "      <td>99</td>\n",
              "      <td>104</td>\n",
              "      <td>79</td>\n",
              "      <td>84</td>\n",
              "      <td>103</td>\n",
              "      <td>104</td>\n",
              "      <td>79</td>\n",
              "      <td>3</td>\n",
              "    </tr>\n",
              "    <tr>\n",
              "      <th>4</th>\n",
              "      <td>84</td>\n",
              "      <td>94</td>\n",
              "      <td>102</td>\n",
              "      <td>79</td>\n",
              "      <td>80</td>\n",
              "      <td>94</td>\n",
              "      <td>98</td>\n",
              "      <td>76</td>\n",
              "      <td>80</td>\n",
              "      <td>102</td>\n",
              "      <td>...</td>\n",
              "      <td>79</td>\n",
              "      <td>84</td>\n",
              "      <td>103</td>\n",
              "      <td>104</td>\n",
              "      <td>79</td>\n",
              "      <td>79</td>\n",
              "      <td>107</td>\n",
              "      <td>109</td>\n",
              "      <td>87</td>\n",
              "      <td>3</td>\n",
              "    </tr>\n",
              "  </tbody>\n",
              "</table>\n",
              "<p>5 rows × 37 columns</p>\n",
              "</div>\n",
              "      <button class=\"colab-df-convert\" onclick=\"convertToInteractive('df-e1ce47b8-316e-4778-af68-f4fe2baf459e')\"\n",
              "              title=\"Convert this dataframe to an interactive table.\"\n",
              "              style=\"display:none;\">\n",
              "        \n",
              "  <svg xmlns=\"http://www.w3.org/2000/svg\" height=\"24px\"viewBox=\"0 0 24 24\"\n",
              "       width=\"24px\">\n",
              "    <path d=\"M0 0h24v24H0V0z\" fill=\"none\"/>\n",
              "    <path d=\"M18.56 5.44l.94 2.06.94-2.06 2.06-.94-2.06-.94-.94-2.06-.94 2.06-2.06.94zm-11 1L8.5 8.5l.94-2.06 2.06-.94-2.06-.94L8.5 2.5l-.94 2.06-2.06.94zm10 10l.94 2.06.94-2.06 2.06-.94-2.06-.94-.94-2.06-.94 2.06-2.06.94z\"/><path d=\"M17.41 7.96l-1.37-1.37c-.4-.4-.92-.59-1.43-.59-.52 0-1.04.2-1.43.59L10.3 9.45l-7.72 7.72c-.78.78-.78 2.05 0 2.83L4 21.41c.39.39.9.59 1.41.59.51 0 1.02-.2 1.41-.59l7.78-7.78 2.81-2.81c.8-.78.8-2.07 0-2.86zM5.41 20L4 18.59l7.72-7.72 1.47 1.35L5.41 20z\"/>\n",
              "  </svg>\n",
              "      </button>\n",
              "      \n",
              "  <style>\n",
              "    .colab-df-container {\n",
              "      display:flex;\n",
              "      flex-wrap:wrap;\n",
              "      gap: 12px;\n",
              "    }\n",
              "\n",
              "    .colab-df-convert {\n",
              "      background-color: #E8F0FE;\n",
              "      border: none;\n",
              "      border-radius: 50%;\n",
              "      cursor: pointer;\n",
              "      display: none;\n",
              "      fill: #1967D2;\n",
              "      height: 32px;\n",
              "      padding: 0 0 0 0;\n",
              "      width: 32px;\n",
              "    }\n",
              "\n",
              "    .colab-df-convert:hover {\n",
              "      background-color: #E2EBFA;\n",
              "      box-shadow: 0px 1px 2px rgba(60, 64, 67, 0.3), 0px 1px 3px 1px rgba(60, 64, 67, 0.15);\n",
              "      fill: #174EA6;\n",
              "    }\n",
              "\n",
              "    [theme=dark] .colab-df-convert {\n",
              "      background-color: #3B4455;\n",
              "      fill: #D2E3FC;\n",
              "    }\n",
              "\n",
              "    [theme=dark] .colab-df-convert:hover {\n",
              "      background-color: #434B5C;\n",
              "      box-shadow: 0px 1px 3px 1px rgba(0, 0, 0, 0.15);\n",
              "      filter: drop-shadow(0px 1px 2px rgba(0, 0, 0, 0.3));\n",
              "      fill: #FFFFFF;\n",
              "    }\n",
              "  </style>\n",
              "\n",
              "      <script>\n",
              "        const buttonEl =\n",
              "          document.querySelector('#df-e1ce47b8-316e-4778-af68-f4fe2baf459e button.colab-df-convert');\n",
              "        buttonEl.style.display =\n",
              "          google.colab.kernel.accessAllowed ? 'block' : 'none';\n",
              "\n",
              "        async function convertToInteractive(key) {\n",
              "          const element = document.querySelector('#df-e1ce47b8-316e-4778-af68-f4fe2baf459e');\n",
              "          const dataTable =\n",
              "            await google.colab.kernel.invokeFunction('convertToInteractive',\n",
              "                                                     [key], {});\n",
              "          if (!dataTable) return;\n",
              "\n",
              "          const docLinkHtml = 'Like what you see? Visit the ' +\n",
              "            '<a target=\"_blank\" href=https://colab.research.google.com/notebooks/data_table.ipynb>data table notebook</a>'\n",
              "            + ' to learn more about interactive tables.';\n",
              "          element.innerHTML = '';\n",
              "          dataTable['output_type'] = 'display_data';\n",
              "          await google.colab.output.renderOutput(dataTable, element);\n",
              "          const docLink = document.createElement('div');\n",
              "          docLink.innerHTML = docLinkHtml;\n",
              "          element.appendChild(docLink);\n",
              "        }\n",
              "      </script>\n",
              "    </div>\n",
              "  </div>\n",
              "  "
            ]
          },
          "metadata": {},
          "execution_count": 25
        }
      ]
    },
    {
      "cell_type": "code",
      "source": [
        "landsat_test = pd.read_csv('/content/gdrive/MyDrive/CS-430/landsat_test.csv')"
      ],
      "metadata": {
        "id": "nNpqAIhFIDcZ"
      },
      "execution_count": 26,
      "outputs": []
    },
    {
      "cell_type": "code",
      "source": [
        "landsat_test.head()"
      ],
      "metadata": {
        "colab": {
          "base_uri": "https://localhost:8080/",
          "height": 300
        },
        "id": "CKyDEod_IKLD",
        "outputId": "b7344335-03cd-4158-f8c7-712d2ac674d9"
      },
      "execution_count": 27,
      "outputs": [
        {
          "output_type": "execute_result",
          "data": {
            "text/plain": [
              "   top_left_r  top_left_g  top_left_infra1  top_left_infra2  top_middle_r  \\\n",
              "0          80         102              102               79            76   \n",
              "1          76         102              102               79            76   \n",
              "2          80          98              106               79            76   \n",
              "3          76          94              102               76            76   \n",
              "4          76          94              102               76            76   \n",
              "\n",
              "   top_middle_g  top_middle_infra1  top_middle_infra2  top_right_r  \\\n",
              "0           102                102                 79           76   \n",
              "1           102                106                 83           76   \n",
              "2            94                102                 76           76   \n",
              "3            94                102                 76           76   \n",
              "4            94                102                 76           76   \n",
              "\n",
              "   top_right_g  ...  bottom_left_infra2  bottom_middle_r  bottom_middle_g  \\\n",
              "0          102  ...                  87               79              107   \n",
              "1          102  ...                  87               79              107   \n",
              "2           94  ...                  79               79               95   \n",
              "3           94  ...                  79               79               95   \n",
              "4           89  ...                  75               79               95   \n",
              "\n",
              "   bottom_middle_infra1  bottom_middle_infra2  bottom_right_r  bottom_right_g  \\\n",
              "0                   109                    87              79             107   \n",
              "1                   113                    87              79             103   \n",
              "2                   100                    79              79              95   \n",
              "3                    96                    75              79              95   \n",
              "4                   100                    75              75              95   \n",
              "\n",
              "   bottom_right_infra1  bottom_right_infra2  land_type  \n",
              "0                  113                   87          3  \n",
              "1                  104                   83          3  \n",
              "2                   96                   75          4  \n",
              "3                  100                   75          4  \n",
              "4                  100                   79          4  \n",
              "\n",
              "[5 rows x 37 columns]"
            ],
            "text/html": [
              "\n",
              "  <div id=\"df-2651816f-7ee6-4a51-baad-f0d4e6ca9f96\">\n",
              "    <div class=\"colab-df-container\">\n",
              "      <div>\n",
              "<style scoped>\n",
              "    .dataframe tbody tr th:only-of-type {\n",
              "        vertical-align: middle;\n",
              "    }\n",
              "\n",
              "    .dataframe tbody tr th {\n",
              "        vertical-align: top;\n",
              "    }\n",
              "\n",
              "    .dataframe thead th {\n",
              "        text-align: right;\n",
              "    }\n",
              "</style>\n",
              "<table border=\"1\" class=\"dataframe\">\n",
              "  <thead>\n",
              "    <tr style=\"text-align: right;\">\n",
              "      <th></th>\n",
              "      <th>top_left_r</th>\n",
              "      <th>top_left_g</th>\n",
              "      <th>top_left_infra1</th>\n",
              "      <th>top_left_infra2</th>\n",
              "      <th>top_middle_r</th>\n",
              "      <th>top_middle_g</th>\n",
              "      <th>top_middle_infra1</th>\n",
              "      <th>top_middle_infra2</th>\n",
              "      <th>top_right_r</th>\n",
              "      <th>top_right_g</th>\n",
              "      <th>...</th>\n",
              "      <th>bottom_left_infra2</th>\n",
              "      <th>bottom_middle_r</th>\n",
              "      <th>bottom_middle_g</th>\n",
              "      <th>bottom_middle_infra1</th>\n",
              "      <th>bottom_middle_infra2</th>\n",
              "      <th>bottom_right_r</th>\n",
              "      <th>bottom_right_g</th>\n",
              "      <th>bottom_right_infra1</th>\n",
              "      <th>bottom_right_infra2</th>\n",
              "      <th>land_type</th>\n",
              "    </tr>\n",
              "  </thead>\n",
              "  <tbody>\n",
              "    <tr>\n",
              "      <th>0</th>\n",
              "      <td>80</td>\n",
              "      <td>102</td>\n",
              "      <td>102</td>\n",
              "      <td>79</td>\n",
              "      <td>76</td>\n",
              "      <td>102</td>\n",
              "      <td>102</td>\n",
              "      <td>79</td>\n",
              "      <td>76</td>\n",
              "      <td>102</td>\n",
              "      <td>...</td>\n",
              "      <td>87</td>\n",
              "      <td>79</td>\n",
              "      <td>107</td>\n",
              "      <td>109</td>\n",
              "      <td>87</td>\n",
              "      <td>79</td>\n",
              "      <td>107</td>\n",
              "      <td>113</td>\n",
              "      <td>87</td>\n",
              "      <td>3</td>\n",
              "    </tr>\n",
              "    <tr>\n",
              "      <th>1</th>\n",
              "      <td>76</td>\n",
              "      <td>102</td>\n",
              "      <td>102</td>\n",
              "      <td>79</td>\n",
              "      <td>76</td>\n",
              "      <td>102</td>\n",
              "      <td>106</td>\n",
              "      <td>83</td>\n",
              "      <td>76</td>\n",
              "      <td>102</td>\n",
              "      <td>...</td>\n",
              "      <td>87</td>\n",
              "      <td>79</td>\n",
              "      <td>107</td>\n",
              "      <td>113</td>\n",
              "      <td>87</td>\n",
              "      <td>79</td>\n",
              "      <td>103</td>\n",
              "      <td>104</td>\n",
              "      <td>83</td>\n",
              "      <td>3</td>\n",
              "    </tr>\n",
              "    <tr>\n",
              "      <th>2</th>\n",
              "      <td>80</td>\n",
              "      <td>98</td>\n",
              "      <td>106</td>\n",
              "      <td>79</td>\n",
              "      <td>76</td>\n",
              "      <td>94</td>\n",
              "      <td>102</td>\n",
              "      <td>76</td>\n",
              "      <td>76</td>\n",
              "      <td>94</td>\n",
              "      <td>...</td>\n",
              "      <td>79</td>\n",
              "      <td>79</td>\n",
              "      <td>95</td>\n",
              "      <td>100</td>\n",
              "      <td>79</td>\n",
              "      <td>79</td>\n",
              "      <td>95</td>\n",
              "      <td>96</td>\n",
              "      <td>75</td>\n",
              "      <td>4</td>\n",
              "    </tr>\n",
              "    <tr>\n",
              "      <th>3</th>\n",
              "      <td>76</td>\n",
              "      <td>94</td>\n",
              "      <td>102</td>\n",
              "      <td>76</td>\n",
              "      <td>76</td>\n",
              "      <td>94</td>\n",
              "      <td>102</td>\n",
              "      <td>76</td>\n",
              "      <td>76</td>\n",
              "      <td>94</td>\n",
              "      <td>...</td>\n",
              "      <td>79</td>\n",
              "      <td>79</td>\n",
              "      <td>95</td>\n",
              "      <td>96</td>\n",
              "      <td>75</td>\n",
              "      <td>79</td>\n",
              "      <td>95</td>\n",
              "      <td>100</td>\n",
              "      <td>75</td>\n",
              "      <td>4</td>\n",
              "    </tr>\n",
              "    <tr>\n",
              "      <th>4</th>\n",
              "      <td>76</td>\n",
              "      <td>94</td>\n",
              "      <td>102</td>\n",
              "      <td>76</td>\n",
              "      <td>76</td>\n",
              "      <td>94</td>\n",
              "      <td>102</td>\n",
              "      <td>76</td>\n",
              "      <td>76</td>\n",
              "      <td>89</td>\n",
              "      <td>...</td>\n",
              "      <td>75</td>\n",
              "      <td>79</td>\n",
              "      <td>95</td>\n",
              "      <td>100</td>\n",
              "      <td>75</td>\n",
              "      <td>75</td>\n",
              "      <td>95</td>\n",
              "      <td>100</td>\n",
              "      <td>79</td>\n",
              "      <td>4</td>\n",
              "    </tr>\n",
              "  </tbody>\n",
              "</table>\n",
              "<p>5 rows × 37 columns</p>\n",
              "</div>\n",
              "      <button class=\"colab-df-convert\" onclick=\"convertToInteractive('df-2651816f-7ee6-4a51-baad-f0d4e6ca9f96')\"\n",
              "              title=\"Convert this dataframe to an interactive table.\"\n",
              "              style=\"display:none;\">\n",
              "        \n",
              "  <svg xmlns=\"http://www.w3.org/2000/svg\" height=\"24px\"viewBox=\"0 0 24 24\"\n",
              "       width=\"24px\">\n",
              "    <path d=\"M0 0h24v24H0V0z\" fill=\"none\"/>\n",
              "    <path d=\"M18.56 5.44l.94 2.06.94-2.06 2.06-.94-2.06-.94-.94-2.06-.94 2.06-2.06.94zm-11 1L8.5 8.5l.94-2.06 2.06-.94-2.06-.94L8.5 2.5l-.94 2.06-2.06.94zm10 10l.94 2.06.94-2.06 2.06-.94-2.06-.94-.94-2.06-.94 2.06-2.06.94z\"/><path d=\"M17.41 7.96l-1.37-1.37c-.4-.4-.92-.59-1.43-.59-.52 0-1.04.2-1.43.59L10.3 9.45l-7.72 7.72c-.78.78-.78 2.05 0 2.83L4 21.41c.39.39.9.59 1.41.59.51 0 1.02-.2 1.41-.59l7.78-7.78 2.81-2.81c.8-.78.8-2.07 0-2.86zM5.41 20L4 18.59l7.72-7.72 1.47 1.35L5.41 20z\"/>\n",
              "  </svg>\n",
              "      </button>\n",
              "      \n",
              "  <style>\n",
              "    .colab-df-container {\n",
              "      display:flex;\n",
              "      flex-wrap:wrap;\n",
              "      gap: 12px;\n",
              "    }\n",
              "\n",
              "    .colab-df-convert {\n",
              "      background-color: #E8F0FE;\n",
              "      border: none;\n",
              "      border-radius: 50%;\n",
              "      cursor: pointer;\n",
              "      display: none;\n",
              "      fill: #1967D2;\n",
              "      height: 32px;\n",
              "      padding: 0 0 0 0;\n",
              "      width: 32px;\n",
              "    }\n",
              "\n",
              "    .colab-df-convert:hover {\n",
              "      background-color: #E2EBFA;\n",
              "      box-shadow: 0px 1px 2px rgba(60, 64, 67, 0.3), 0px 1px 3px 1px rgba(60, 64, 67, 0.15);\n",
              "      fill: #174EA6;\n",
              "    }\n",
              "\n",
              "    [theme=dark] .colab-df-convert {\n",
              "      background-color: #3B4455;\n",
              "      fill: #D2E3FC;\n",
              "    }\n",
              "\n",
              "    [theme=dark] .colab-df-convert:hover {\n",
              "      background-color: #434B5C;\n",
              "      box-shadow: 0px 1px 3px 1px rgba(0, 0, 0, 0.15);\n",
              "      filter: drop-shadow(0px 1px 2px rgba(0, 0, 0, 0.3));\n",
              "      fill: #FFFFFF;\n",
              "    }\n",
              "  </style>\n",
              "\n",
              "      <script>\n",
              "        const buttonEl =\n",
              "          document.querySelector('#df-2651816f-7ee6-4a51-baad-f0d4e6ca9f96 button.colab-df-convert');\n",
              "        buttonEl.style.display =\n",
              "          google.colab.kernel.accessAllowed ? 'block' : 'none';\n",
              "\n",
              "        async function convertToInteractive(key) {\n",
              "          const element = document.querySelector('#df-2651816f-7ee6-4a51-baad-f0d4e6ca9f96');\n",
              "          const dataTable =\n",
              "            await google.colab.kernel.invokeFunction('convertToInteractive',\n",
              "                                                     [key], {});\n",
              "          if (!dataTable) return;\n",
              "\n",
              "          const docLinkHtml = 'Like what you see? Visit the ' +\n",
              "            '<a target=\"_blank\" href=https://colab.research.google.com/notebooks/data_table.ipynb>data table notebook</a>'\n",
              "            + ' to learn more about interactive tables.';\n",
              "          element.innerHTML = '';\n",
              "          dataTable['output_type'] = 'display_data';\n",
              "          await google.colab.output.renderOutput(dataTable, element);\n",
              "          const docLink = document.createElement('div');\n",
              "          docLink.innerHTML = docLinkHtml;\n",
              "          element.appendChild(docLink);\n",
              "        }\n",
              "      </script>\n",
              "    </div>\n",
              "  </div>\n",
              "  "
            ]
          },
          "metadata": {},
          "execution_count": 27
        }
      ]
    },
    {
      "cell_type": "code",
      "source": [
        "landsat_train.describe()"
      ],
      "metadata": {
        "colab": {
          "base_uri": "https://localhost:8080/",
          "height": 394
        },
        "id": "UJNLUxaZI5Wm",
        "outputId": "6a7fbf60-39b0-4265-c755-b8fdd95bf085"
      },
      "execution_count": 29,
      "outputs": [
        {
          "output_type": "execute_result",
          "data": {
            "text/plain": [
              "        top_left_r   top_left_g  top_left_infra1  top_left_infra2  \\\n",
              "count  4435.000000  4435.000000      4435.000000      4435.000000   \n",
              "mean     69.473957    83.855242        99.322886        82.555581   \n",
              "std      13.649635    22.725079        16.672166        18.695450   \n",
              "min      40.000000    27.000000        56.000000        33.000000   \n",
              "25%      60.000000    71.000000        85.000000        70.000000   \n",
              "50%      68.000000    87.000000       101.000000        83.000000   \n",
              "75%      80.000000   103.000000       113.000000        92.000000   \n",
              "max     104.000000   137.000000       140.000000       154.000000   \n",
              "\n",
              "       top_middle_r  top_middle_g  top_middle_infra1  top_middle_infra2  \\\n",
              "count   4435.000000   4435.000000        4435.000000        4435.000000   \n",
              "mean      69.208794     83.499436          99.174521          82.480496   \n",
              "std       13.552423     22.811809          16.627583          18.714272   \n",
              "min       40.000000     27.000000          50.000000          29.000000   \n",
              "25%       60.000000     71.000000          85.000000          69.000000   \n",
              "50%       68.000000     85.000000         101.000000          81.000000   \n",
              "75%       80.000000    103.000000         113.000000          92.000000   \n",
              "max      102.000000    137.000000         145.000000         157.000000   \n",
              "\n",
              "       top_right_r  top_right_g  ...  bottom_left_infra2  bottom_middle_r  \\\n",
              "count  4435.000000  4435.000000  ...         4435.000000      4435.000000   \n",
              "mean     68.963472    83.131003  ...           82.673957        69.033145   \n",
              "std      13.497858    22.813312  ...           18.884322        13.533934   \n",
              "min      40.000000    27.000000  ...           34.000000        39.000000   \n",
              "25%      60.000000    71.000000  ...           70.000000        60.000000   \n",
              "50%      67.000000    85.000000  ...           81.000000        68.000000   \n",
              "75%      79.000000   103.000000  ...           92.000000        79.500000   \n",
              "max     104.000000   130.000000  ...          154.000000       104.000000   \n",
              "\n",
              "       bottom_middle_g  bottom_middle_infra1  bottom_middle_infra2  \\\n",
              "count      4435.000000           4435.000000           4435.000000   \n",
              "mean         83.434273             99.183766             82.638106   \n",
              "std          22.812090             16.741240             18.939820   \n",
              "min          27.000000             50.000000             29.000000   \n",
              "25%          71.000000             85.000000             69.000000   \n",
              "50%          85.000000            101.000000             81.000000   \n",
              "75%         103.000000            113.000000             92.000000   \n",
              "max         128.000000            145.000000            157.000000   \n",
              "\n",
              "       bottom_right_r  bottom_right_g  bottom_right_infra1  \\\n",
              "count     4435.000000     4435.000000          4435.000000   \n",
              "mean        68.797069       83.153326            99.061556   \n",
              "std         13.437785       22.762684            16.660735   \n",
              "min         40.000000       27.000000            50.000000   \n",
              "25%         60.000000       71.000000            85.000000   \n",
              "50%         67.000000       85.000000           100.000000   \n",
              "75%         79.000000      103.000000           113.000000   \n",
              "max        104.000000      130.000000           145.000000   \n",
              "\n",
              "       bottom_right_infra2    land_type  \n",
              "count          4435.000000  4435.000000  \n",
              "mean             82.584442     3.650282  \n",
              "std              18.895513     2.217055  \n",
              "min              29.000000     1.000000  \n",
              "25%              69.000000     2.000000  \n",
              "50%              81.000000     3.000000  \n",
              "75%              92.000000     5.000000  \n",
              "max             157.000000     7.000000  \n",
              "\n",
              "[8 rows x 37 columns]"
            ],
            "text/html": [
              "\n",
              "  <div id=\"df-ee4a3170-757f-4d43-a8fa-0feca9142c06\">\n",
              "    <div class=\"colab-df-container\">\n",
              "      <div>\n",
              "<style scoped>\n",
              "    .dataframe tbody tr th:only-of-type {\n",
              "        vertical-align: middle;\n",
              "    }\n",
              "\n",
              "    .dataframe tbody tr th {\n",
              "        vertical-align: top;\n",
              "    }\n",
              "\n",
              "    .dataframe thead th {\n",
              "        text-align: right;\n",
              "    }\n",
              "</style>\n",
              "<table border=\"1\" class=\"dataframe\">\n",
              "  <thead>\n",
              "    <tr style=\"text-align: right;\">\n",
              "      <th></th>\n",
              "      <th>top_left_r</th>\n",
              "      <th>top_left_g</th>\n",
              "      <th>top_left_infra1</th>\n",
              "      <th>top_left_infra2</th>\n",
              "      <th>top_middle_r</th>\n",
              "      <th>top_middle_g</th>\n",
              "      <th>top_middle_infra1</th>\n",
              "      <th>top_middle_infra2</th>\n",
              "      <th>top_right_r</th>\n",
              "      <th>top_right_g</th>\n",
              "      <th>...</th>\n",
              "      <th>bottom_left_infra2</th>\n",
              "      <th>bottom_middle_r</th>\n",
              "      <th>bottom_middle_g</th>\n",
              "      <th>bottom_middle_infra1</th>\n",
              "      <th>bottom_middle_infra2</th>\n",
              "      <th>bottom_right_r</th>\n",
              "      <th>bottom_right_g</th>\n",
              "      <th>bottom_right_infra1</th>\n",
              "      <th>bottom_right_infra2</th>\n",
              "      <th>land_type</th>\n",
              "    </tr>\n",
              "  </thead>\n",
              "  <tbody>\n",
              "    <tr>\n",
              "      <th>count</th>\n",
              "      <td>4435.000000</td>\n",
              "      <td>4435.000000</td>\n",
              "      <td>4435.000000</td>\n",
              "      <td>4435.000000</td>\n",
              "      <td>4435.000000</td>\n",
              "      <td>4435.000000</td>\n",
              "      <td>4435.000000</td>\n",
              "      <td>4435.000000</td>\n",
              "      <td>4435.000000</td>\n",
              "      <td>4435.000000</td>\n",
              "      <td>...</td>\n",
              "      <td>4435.000000</td>\n",
              "      <td>4435.000000</td>\n",
              "      <td>4435.000000</td>\n",
              "      <td>4435.000000</td>\n",
              "      <td>4435.000000</td>\n",
              "      <td>4435.000000</td>\n",
              "      <td>4435.000000</td>\n",
              "      <td>4435.000000</td>\n",
              "      <td>4435.000000</td>\n",
              "      <td>4435.000000</td>\n",
              "    </tr>\n",
              "    <tr>\n",
              "      <th>mean</th>\n",
              "      <td>69.473957</td>\n",
              "      <td>83.855242</td>\n",
              "      <td>99.322886</td>\n",
              "      <td>82.555581</td>\n",
              "      <td>69.208794</td>\n",
              "      <td>83.499436</td>\n",
              "      <td>99.174521</td>\n",
              "      <td>82.480496</td>\n",
              "      <td>68.963472</td>\n",
              "      <td>83.131003</td>\n",
              "      <td>...</td>\n",
              "      <td>82.673957</td>\n",
              "      <td>69.033145</td>\n",
              "      <td>83.434273</td>\n",
              "      <td>99.183766</td>\n",
              "      <td>82.638106</td>\n",
              "      <td>68.797069</td>\n",
              "      <td>83.153326</td>\n",
              "      <td>99.061556</td>\n",
              "      <td>82.584442</td>\n",
              "      <td>3.650282</td>\n",
              "    </tr>\n",
              "    <tr>\n",
              "      <th>std</th>\n",
              "      <td>13.649635</td>\n",
              "      <td>22.725079</td>\n",
              "      <td>16.672166</td>\n",
              "      <td>18.695450</td>\n",
              "      <td>13.552423</td>\n",
              "      <td>22.811809</td>\n",
              "      <td>16.627583</td>\n",
              "      <td>18.714272</td>\n",
              "      <td>13.497858</td>\n",
              "      <td>22.813312</td>\n",
              "      <td>...</td>\n",
              "      <td>18.884322</td>\n",
              "      <td>13.533934</td>\n",
              "      <td>22.812090</td>\n",
              "      <td>16.741240</td>\n",
              "      <td>18.939820</td>\n",
              "      <td>13.437785</td>\n",
              "      <td>22.762684</td>\n",
              "      <td>16.660735</td>\n",
              "      <td>18.895513</td>\n",
              "      <td>2.217055</td>\n",
              "    </tr>\n",
              "    <tr>\n",
              "      <th>min</th>\n",
              "      <td>40.000000</td>\n",
              "      <td>27.000000</td>\n",
              "      <td>56.000000</td>\n",
              "      <td>33.000000</td>\n",
              "      <td>40.000000</td>\n",
              "      <td>27.000000</td>\n",
              "      <td>50.000000</td>\n",
              "      <td>29.000000</td>\n",
              "      <td>40.000000</td>\n",
              "      <td>27.000000</td>\n",
              "      <td>...</td>\n",
              "      <td>34.000000</td>\n",
              "      <td>39.000000</td>\n",
              "      <td>27.000000</td>\n",
              "      <td>50.000000</td>\n",
              "      <td>29.000000</td>\n",
              "      <td>40.000000</td>\n",
              "      <td>27.000000</td>\n",
              "      <td>50.000000</td>\n",
              "      <td>29.000000</td>\n",
              "      <td>1.000000</td>\n",
              "    </tr>\n",
              "    <tr>\n",
              "      <th>25%</th>\n",
              "      <td>60.000000</td>\n",
              "      <td>71.000000</td>\n",
              "      <td>85.000000</td>\n",
              "      <td>70.000000</td>\n",
              "      <td>60.000000</td>\n",
              "      <td>71.000000</td>\n",
              "      <td>85.000000</td>\n",
              "      <td>69.000000</td>\n",
              "      <td>60.000000</td>\n",
              "      <td>71.000000</td>\n",
              "      <td>...</td>\n",
              "      <td>70.000000</td>\n",
              "      <td>60.000000</td>\n",
              "      <td>71.000000</td>\n",
              "      <td>85.000000</td>\n",
              "      <td>69.000000</td>\n",
              "      <td>60.000000</td>\n",
              "      <td>71.000000</td>\n",
              "      <td>85.000000</td>\n",
              "      <td>69.000000</td>\n",
              "      <td>2.000000</td>\n",
              "    </tr>\n",
              "    <tr>\n",
              "      <th>50%</th>\n",
              "      <td>68.000000</td>\n",
              "      <td>87.000000</td>\n",
              "      <td>101.000000</td>\n",
              "      <td>83.000000</td>\n",
              "      <td>68.000000</td>\n",
              "      <td>85.000000</td>\n",
              "      <td>101.000000</td>\n",
              "      <td>81.000000</td>\n",
              "      <td>67.000000</td>\n",
              "      <td>85.000000</td>\n",
              "      <td>...</td>\n",
              "      <td>81.000000</td>\n",
              "      <td>68.000000</td>\n",
              "      <td>85.000000</td>\n",
              "      <td>101.000000</td>\n",
              "      <td>81.000000</td>\n",
              "      <td>67.000000</td>\n",
              "      <td>85.000000</td>\n",
              "      <td>100.000000</td>\n",
              "      <td>81.000000</td>\n",
              "      <td>3.000000</td>\n",
              "    </tr>\n",
              "    <tr>\n",
              "      <th>75%</th>\n",
              "      <td>80.000000</td>\n",
              "      <td>103.000000</td>\n",
              "      <td>113.000000</td>\n",
              "      <td>92.000000</td>\n",
              "      <td>80.000000</td>\n",
              "      <td>103.000000</td>\n",
              "      <td>113.000000</td>\n",
              "      <td>92.000000</td>\n",
              "      <td>79.000000</td>\n",
              "      <td>103.000000</td>\n",
              "      <td>...</td>\n",
              "      <td>92.000000</td>\n",
              "      <td>79.500000</td>\n",
              "      <td>103.000000</td>\n",
              "      <td>113.000000</td>\n",
              "      <td>92.000000</td>\n",
              "      <td>79.000000</td>\n",
              "      <td>103.000000</td>\n",
              "      <td>113.000000</td>\n",
              "      <td>92.000000</td>\n",
              "      <td>5.000000</td>\n",
              "    </tr>\n",
              "    <tr>\n",
              "      <th>max</th>\n",
              "      <td>104.000000</td>\n",
              "      <td>137.000000</td>\n",
              "      <td>140.000000</td>\n",
              "      <td>154.000000</td>\n",
              "      <td>102.000000</td>\n",
              "      <td>137.000000</td>\n",
              "      <td>145.000000</td>\n",
              "      <td>157.000000</td>\n",
              "      <td>104.000000</td>\n",
              "      <td>130.000000</td>\n",
              "      <td>...</td>\n",
              "      <td>154.000000</td>\n",
              "      <td>104.000000</td>\n",
              "      <td>128.000000</td>\n",
              "      <td>145.000000</td>\n",
              "      <td>157.000000</td>\n",
              "      <td>104.000000</td>\n",
              "      <td>130.000000</td>\n",
              "      <td>145.000000</td>\n",
              "      <td>157.000000</td>\n",
              "      <td>7.000000</td>\n",
              "    </tr>\n",
              "  </tbody>\n",
              "</table>\n",
              "<p>8 rows × 37 columns</p>\n",
              "</div>\n",
              "      <button class=\"colab-df-convert\" onclick=\"convertToInteractive('df-ee4a3170-757f-4d43-a8fa-0feca9142c06')\"\n",
              "              title=\"Convert this dataframe to an interactive table.\"\n",
              "              style=\"display:none;\">\n",
              "        \n",
              "  <svg xmlns=\"http://www.w3.org/2000/svg\" height=\"24px\"viewBox=\"0 0 24 24\"\n",
              "       width=\"24px\">\n",
              "    <path d=\"M0 0h24v24H0V0z\" fill=\"none\"/>\n",
              "    <path d=\"M18.56 5.44l.94 2.06.94-2.06 2.06-.94-2.06-.94-.94-2.06-.94 2.06-2.06.94zm-11 1L8.5 8.5l.94-2.06 2.06-.94-2.06-.94L8.5 2.5l-.94 2.06-2.06.94zm10 10l.94 2.06.94-2.06 2.06-.94-2.06-.94-.94-2.06-.94 2.06-2.06.94z\"/><path d=\"M17.41 7.96l-1.37-1.37c-.4-.4-.92-.59-1.43-.59-.52 0-1.04.2-1.43.59L10.3 9.45l-7.72 7.72c-.78.78-.78 2.05 0 2.83L4 21.41c.39.39.9.59 1.41.59.51 0 1.02-.2 1.41-.59l7.78-7.78 2.81-2.81c.8-.78.8-2.07 0-2.86zM5.41 20L4 18.59l7.72-7.72 1.47 1.35L5.41 20z\"/>\n",
              "  </svg>\n",
              "      </button>\n",
              "      \n",
              "  <style>\n",
              "    .colab-df-container {\n",
              "      display:flex;\n",
              "      flex-wrap:wrap;\n",
              "      gap: 12px;\n",
              "    }\n",
              "\n",
              "    .colab-df-convert {\n",
              "      background-color: #E8F0FE;\n",
              "      border: none;\n",
              "      border-radius: 50%;\n",
              "      cursor: pointer;\n",
              "      display: none;\n",
              "      fill: #1967D2;\n",
              "      height: 32px;\n",
              "      padding: 0 0 0 0;\n",
              "      width: 32px;\n",
              "    }\n",
              "\n",
              "    .colab-df-convert:hover {\n",
              "      background-color: #E2EBFA;\n",
              "      box-shadow: 0px 1px 2px rgba(60, 64, 67, 0.3), 0px 1px 3px 1px rgba(60, 64, 67, 0.15);\n",
              "      fill: #174EA6;\n",
              "    }\n",
              "\n",
              "    [theme=dark] .colab-df-convert {\n",
              "      background-color: #3B4455;\n",
              "      fill: #D2E3FC;\n",
              "    }\n",
              "\n",
              "    [theme=dark] .colab-df-convert:hover {\n",
              "      background-color: #434B5C;\n",
              "      box-shadow: 0px 1px 3px 1px rgba(0, 0, 0, 0.15);\n",
              "      filter: drop-shadow(0px 1px 2px rgba(0, 0, 0, 0.3));\n",
              "      fill: #FFFFFF;\n",
              "    }\n",
              "  </style>\n",
              "\n",
              "      <script>\n",
              "        const buttonEl =\n",
              "          document.querySelector('#df-ee4a3170-757f-4d43-a8fa-0feca9142c06 button.colab-df-convert');\n",
              "        buttonEl.style.display =\n",
              "          google.colab.kernel.accessAllowed ? 'block' : 'none';\n",
              "\n",
              "        async function convertToInteractive(key) {\n",
              "          const element = document.querySelector('#df-ee4a3170-757f-4d43-a8fa-0feca9142c06');\n",
              "          const dataTable =\n",
              "            await google.colab.kernel.invokeFunction('convertToInteractive',\n",
              "                                                     [key], {});\n",
              "          if (!dataTable) return;\n",
              "\n",
              "          const docLinkHtml = 'Like what you see? Visit the ' +\n",
              "            '<a target=\"_blank\" href=https://colab.research.google.com/notebooks/data_table.ipynb>data table notebook</a>'\n",
              "            + ' to learn more about interactive tables.';\n",
              "          element.innerHTML = '';\n",
              "          dataTable['output_type'] = 'display_data';\n",
              "          await google.colab.output.renderOutput(dataTable, element);\n",
              "          const docLink = document.createElement('div');\n",
              "          docLink.innerHTML = docLinkHtml;\n",
              "          element.appendChild(docLink);\n",
              "        }\n",
              "      </script>\n",
              "    </div>\n",
              "  </div>\n",
              "  "
            ]
          },
          "metadata": {},
          "execution_count": 29
        }
      ]
    },
    {
      "cell_type": "markdown",
      "source": [
        "# Bar plots to display the number of land types for landsat_train and landsat_test"
      ],
      "metadata": {
        "id": "W99uJvlTJnxu"
      }
    },
    {
      "cell_type": "markdown",
      "source": [
        "# landsat_train:"
      ],
      "metadata": {
        "id": "s3M05KWSJtyh"
      }
    },
    {
      "cell_type": "code",
      "source": [
        "landsat_train_count = landsat_train['land_type'].value_counts()"
      ],
      "metadata": {
        "id": "SxWQ90y7JsAl"
      },
      "execution_count": 30,
      "outputs": []
    },
    {
      "cell_type": "code",
      "source": [
        "print(landsat_train_count)"
      ],
      "metadata": {
        "colab": {
          "base_uri": "https://localhost:8080/"
        },
        "id": "UyAustWwJ_5N",
        "outputId": "dd08efbe-bbff-4d41-e570-38b07672d63d"
      },
      "execution_count": 32,
      "outputs": [
        {
          "output_type": "stream",
          "name": "stdout",
          "text": [
            "1    1072\n",
            "7    1038\n",
            "3     961\n",
            "2     479\n",
            "5     470\n",
            "4     415\n",
            "Name: land_type, dtype: int64\n"
          ]
        }
      ]
    },
    {
      "cell_type": "code",
      "source": [
        "landsat_train_count.plot(kind='bar')\n",
        "plt.title('Land Type Counts: Train')\n",
        "plt.xlabel('Land Type')\n",
        "plt.ylabel('Count')\n",
        "plt.show()"
      ],
      "metadata": {
        "colab": {
          "base_uri": "https://localhost:8080/",
          "height": 467
        },
        "id": "WsCdWb20KZLh",
        "outputId": "7ceead34-4db7-4c70-d185-4aeb023c58e9"
      },
      "execution_count": 36,
      "outputs": [
        {
          "output_type": "display_data",
          "data": {
            "text/plain": [
              "<Figure size 640x480 with 1 Axes>"
            ],
            "image/png": "[encoded data removed]"
          },
          "metadata": {}
        }
      ]
    },
    {
      "cell_type": "markdown",
      "source": [
        "# landsat_test:"
      ],
      "metadata": {
        "id": "ruSmy83dKtqR"
      }
    },
    {
      "cell_type": "code",
      "source": [
        "landsat_test_count = landsat_test['land_type'].value_counts()"
      ],
      "metadata": {
        "id": "8xUzvxdgK0XJ"
      },
      "execution_count": 34,
      "outputs": []
    },
    {
      "cell_type": "code",
      "source": [
        "print(landsat_test_count)"
      ],
      "metadata": {
        "colab": {
          "base_uri": "https://localhost:8080/"
        },
        "id": "g0EhjG2kK7J1",
        "outputId": "1320bd1f-c8ae-4179-e029-f1ea6965c606"
      },
      "execution_count": 35,
      "outputs": [
        {
          "output_type": "stream",
          "name": "stdout",
          "text": [
            "7    470\n",
            "1    461\n",
            "3    397\n",
            "5    237\n",
            "2    224\n",
            "4    211\n",
            "Name: land_type, dtype: int64\n"
          ]
        }
      ]
    },
    {
      "cell_type": "code",
      "source": [
        "landsat_test_count.plot(kind='bar')\n",
        "plt.title('Land Type Counts: Test')\n",
        "plt.xlabel('Land Type')\n",
        "plt.ylabel('Count')\n",
        "plt.show()"
      ],
      "metadata": {
        "colab": {
          "base_uri": "https://localhost:8080/",
          "height": 467
        },
        "id": "4wKP3l3dK_SH",
        "outputId": "6897e87d-9c71-46a4-e099-96a7870e345b"
      },
      "execution_count": 39,
      "outputs": [
        {
          "output_type": "display_data",
          "data": {
            "text/plain": [
              "<Figure size 640x480 with 1 Axes>"
            ],
            "image/png": "[encoded data removed]"
          },
          "metadata": {}
        }
      ]
    },
    {
      "cell_type": "markdown",
      "source": [
        "# Splitting Data into Train/Test"
      ],
      "metadata": {
        "id": "zhuAKkmFLedZ"
      }
    },
    {
      "cell_type": "code",
      "source": [
        "X_train = landsat_train.drop('land_type', axis=1)\n",
        "\n",
        "X_test = landsat_test.drop('land_type', axis=1)\n",
        "\n",
        "y_train = landsat_train['land_type']\n",
        "\n",
        "y_test = landsat_test['land_type']"
      ],
      "metadata": {
        "id": "KgxkAFySLiMC"
      },
      "execution_count": 40,
      "outputs": []
    },
    {
      "cell_type": "markdown",
      "source": [
        "# Building the Pipeline"
      ],
      "metadata": {
        "id": "-rN0SjriLtkp"
      }
    },
    {
      "cell_type": "code",
      "source": [
        "drop = ['land_type']"
      ],
      "metadata": {
        "id": "Sp3PhgRDLwI5"
      },
      "execution_count": 42,
      "outputs": []
    },
    {
      "cell_type": "code",
      "source": [
        "ColTrans = ColumnTransformer(\n",
        "    transformers=[\n",
        "        ('num', MinMaxScaler(), landsat_train.drop(drop, axis=1).columns)])\n"
      ],
      "metadata": {
        "id": "-e-fuoqwM3bL"
      },
      "execution_count": 43,
      "outputs": []
    },
    {
      "cell_type": "code",
      "source": [
        "pipeline = Pipeline(steps=[('ColTrans', ColTrans),\n",
        "                              ('classifier', RandomForestClassifier())])"
      ],
      "metadata": {
        "id": "-aZjDvN9NH-x"
      },
      "execution_count": 44,
      "outputs": []
    },
    {
      "cell_type": "markdown",
      "source": [
        "# Executing the model"
      ],
      "metadata": {
        "id": "uoxxzTX2NO6-"
      }
    },
    {
      "cell_type": "code",
      "source": [
        "pipeline.fit(X_train, y_train)"
      ],
      "metadata": {
        "colab": {
          "base_uri": "https://localhost:8080/",
          "height": 192
        },
        "id": "TTeR_nIRNUHw",
        "outputId": "3ab5bd0d-fca3-4da8-e62f-c89c64b47a50"
      },
      "execution_count": 45,
      "outputs": [
        {
          "output_type": "execute_result",
          "data": {
            "text/plain": [
              "Pipeline(steps=[('preprocessor',\n",
              "                 ColumnTransformer(transformers=[('num', MinMaxScaler(),\n",
              "                                                  Index(['top_left_r', 'top_left_g', 'top_left_infra1', 'top_left_infra2',\n",
              "       'top_middle_r', 'top_middle_g', 'top_middle_infra1',\n",
              "       'top_middle_infra2', 'top_right_r', 'top_right_g', 'top_right_infra1',\n",
              "       'top_right_infra2', 'middle_left_r', 'middle_left_g',\n",
              "       'middle_left_infra1', 'middl...\n",
              "       'middle_right_r', 'middle_right_g', 'middle_right_infra1',\n",
              "       'middle_right_infra2', 'bottom_left_r', 'bottom_left_g',\n",
              "       'bottom_left_infra1', 'bottom_left_infra2', 'bottom_middle_r',\n",
              "       'bottom_middle_g', 'bottom_middle_infra1', 'bottom_middle_infra2',\n",
              "       'bottom_right_r', 'bottom_right_g', 'bottom_right_infra1',\n",
              "       'bottom_right_infra2'],\n",
              "      dtype='object'))])),\n",
              "                ('classifier', RandomForestClassifier())])"
            ],
            "text/html": [
              "<style>#sk-container-id-1 {color: black;background-color: white;}#sk-container-id-1 pre{padding: 0;}#sk-container-id-1 div.sk-toggleable {background-color: white;}#sk-container-id-1 label.sk-toggleable__label {cursor: pointer;display: block;width: 100%;margin-bottom: 0;padding: 0.3em;box-sizing: border-box;text-align: center;}#sk-container-id-1 label.sk-toggleable__label-arrow:before {content: \"▸\";float: left;margin-right: 0.25em;color: #696969;}#sk-container-id-1 label.sk-toggleable__label-arrow:hover:before {color: black;}#sk-container-id-1 div.sk-estimator:hover label.sk-toggleable__label-arrow:before {color: black;}#sk-container-id-1 div.sk-toggleable__content {max-height: 0;max-width: 0;overflow: hidden;text-align: left;background-color: #f0f8ff;}#sk-container-id-1 div.sk-toggleable__content pre {margin: 0.2em;color: black;border-radius: 0.25em;background-color: #f0f8ff;}#sk-container-id-1 input.sk-toggleable__control:checked~div.sk-toggleable__content {max-height: 200px;max-width: 100%;overflow: auto;}#sk-container-id-1 input.sk-toggleable__control:checked~label.sk-toggleable__label-arrow:before {content: \"▾\";}#sk-container-id-1 div.sk-estimator input.sk-toggleable__control:checked~label.sk-toggleable__label {background-color: #d4ebff;}#sk-container-id-1 div.sk-label input.sk-toggleable__control:checked~label.sk-toggleable__label {background-color: #d4ebff;}#sk-container-id-1 input.sk-hidden--visually {border: 0;clip: rect(1px 1px 1px 1px);clip: rect(1px, 1px, 1px, 1px);height: 1px;margin: -1px;overflow: hidden;padding: 0;position: absolute;width: 1px;}#sk-container-id-1 div.sk-estimator {font-family: monospace;background-color: #f0f8ff;border: 1px dotted black;border-radius: 0.25em;box-sizing: border-box;margin-bottom: 0.5em;}#sk-container-id-1 div.sk-estimator:hover {background-color: #d4ebff;}#sk-container-id-1 div.sk-parallel-item::after {content: \"\";width: 100%;border-bottom: 1px solid gray;flex-grow: 1;}#sk-container-id-1 div.sk-label:hover label.sk-toggleable__label {background-color: #d4ebff;}#sk-container-id-1 div.sk-serial::before {content: \"\";position: absolute;border-left: 1px solid gray;box-sizing: border-box;top: 0;bottom: 0;left: 50%;z-index: 0;}#sk-container-id-1 div.sk-serial {display: flex;flex-direction: column;align-items: center;background-color: white;padding-right: 0.2em;padding-left: 0.2em;position: relative;}#sk-container-id-1 div.sk-item {position: relative;z-index: 1;}#sk-container-id-1 div.sk-parallel {display: flex;align-items: stretch;justify-content: center;background-color: white;position: relative;}#sk-container-id-1 div.sk-item::before, #sk-container-id-1 div.sk-parallel-item::before {content: \"\";position: absolute;border-left: 1px solid gray;box-sizing: border-box;top: 0;bottom: 0;left: 50%;z-index: -1;}#sk-container-id-1 div.sk-parallel-item {display: flex;flex-direction: column;z-index: 1;position: relative;background-color: white;}#sk-container-id-1 div.sk-parallel-item:first-child::after {align-self: flex-end;width: 50%;}#sk-container-id-1 div.sk-parallel-item:last-child::after {align-self: flex-start;width: 50%;}#sk-container-id-1 div.sk-parallel-item:only-child::after {width: 0;}#sk-container-id-1 div.sk-dashed-wrapped {border: 1px dashed gray;margin: 0 0.4em 0.5em 0.4em;box-sizing: border-box;padding-bottom: 0.4em;background-color: white;}#sk-container-id-1 div.sk-label label {font-family: monospace;font-weight: bold;display: inline-block;line-height: 1.2em;}#sk-container-id-1 div.sk-label-container {text-align: center;}#sk-container-id-1 div.sk-container {/* jupyter's `normalize.less` sets `[hidden] { display: none; }` but bootstrap.min.css set `[hidden] { display: none !important; }` so we also need the `!important` here to be able to override the default hidden behavior on the sphinx rendered scikit-learn.org. See: https://github.com/scikit-learn/scikit-learn/issues/21755 */display: inline-block !important;position: relative;}#sk-container-id-1 div.sk-text-repr-fallback {display: none;}</style><div id=\"sk-container-id-1\" class=\"sk-top-container\"><div class=\"sk-text-repr-fallback\"><pre>Pipeline(steps=[(&#x27;preprocessor&#x27;,\n",
              "                 ColumnTransformer(transformers=[(&#x27;num&#x27;, MinMaxScaler(),\n",
              "                                                  Index([&#x27;top_left_r&#x27;, &#x27;top_left_g&#x27;, &#x27;top_left_infra1&#x27;, &#x27;top_left_infra2&#x27;,\n",
              "       &#x27;top_middle_r&#x27;, &#x27;top_middle_g&#x27;, &#x27;top_middle_infra1&#x27;,\n",
              "       &#x27;top_middle_infra2&#x27;, &#x27;top_right_r&#x27;, &#x27;top_right_g&#x27;, &#x27;top_right_infra1&#x27;,\n",
              "       &#x27;top_right_infra2&#x27;, &#x27;middle_left_r&#x27;, &#x27;middle_left_g&#x27;,\n",
              "       &#x27;middle_left_infra1&#x27;, &#x27;middl...\n",
              "       &#x27;middle_right_r&#x27;, &#x27;middle_right_g&#x27;, &#x27;middle_right_infra1&#x27;,\n",
              "       &#x27;middle_right_infra2&#x27;, &#x27;bottom_left_r&#x27;, &#x27;bottom_left_g&#x27;,\n",
              "       &#x27;bottom_left_infra1&#x27;, &#x27;bottom_left_infra2&#x27;, &#x27;bottom_middle_r&#x27;,\n",
              "       &#x27;bottom_middle_g&#x27;, &#x27;bottom_middle_infra1&#x27;, &#x27;bottom_middle_infra2&#x27;,\n",
              "       &#x27;bottom_right_r&#x27;, &#x27;bottom_right_g&#x27;, &#x27;bottom_right_infra1&#x27;,\n",
              "       &#x27;bottom_right_infra2&#x27;],\n",
              "      dtype=&#x27;object&#x27;))])),\n",
              "                (&#x27;classifier&#x27;, RandomForestClassifier())])</pre><b>In a Jupyter environment, please rerun this cell to show the HTML representation or trust the notebook. <br />On GitHub, the HTML representation is unable to render, please try loading this page with nbviewer.org.</b></div><div class=\"sk-container\" hidden><div class=\"sk-item sk-dashed-wrapped\"><div class=\"sk-label-container\"><div class=\"sk-label sk-toggleable\"><input class=\"sk-toggleable__control sk-hidden--visually\" id=\"sk-estimator-id-1\" type=\"checkbox\" ><label for=\"sk-estimator-id-1\" class=\"sk-toggleable__label sk-toggleable__label-arrow\">Pipeline</label><div class=\"sk-toggleable__content\"><pre>Pipeline(steps=[(&#x27;preprocessor&#x27;,\n",
              "                 ColumnTransformer(transformers=[(&#x27;num&#x27;, MinMaxScaler(),\n",
              "                                                  Index([&#x27;top_left_r&#x27;, &#x27;top_left_g&#x27;, &#x27;top_left_infra1&#x27;, &#x27;top_left_infra2&#x27;,\n",
              "       &#x27;top_middle_r&#x27;, &#x27;top_middle_g&#x27;, &#x27;top_middle_infra1&#x27;,\n",
              "       &#x27;top_middle_infra2&#x27;, &#x27;top_right_r&#x27;, &#x27;top_right_g&#x27;, &#x27;top_right_infra1&#x27;,\n",
              "       &#x27;top_right_infra2&#x27;, &#x27;middle_left_r&#x27;, &#x27;middle_left_g&#x27;,\n",
              "       &#x27;middle_left_infra1&#x27;, &#x27;middl...\n",
              "       &#x27;middle_right_r&#x27;, &#x27;middle_right_g&#x27;, &#x27;middle_right_infra1&#x27;,\n",
              "       &#x27;middle_right_infra2&#x27;, &#x27;bottom_left_r&#x27;, &#x27;bottom_left_g&#x27;,\n",
              "       &#x27;bottom_left_infra1&#x27;, &#x27;bottom_left_infra2&#x27;, &#x27;bottom_middle_r&#x27;,\n",
              "       &#x27;bottom_middle_g&#x27;, &#x27;bottom_middle_infra1&#x27;, &#x27;bottom_middle_infra2&#x27;,\n",
              "       &#x27;bottom_right_r&#x27;, &#x27;bottom_right_g&#x27;, &#x27;bottom_right_infra1&#x27;,\n",
              "       &#x27;bottom_right_infra2&#x27;],\n",
              "      dtype=&#x27;object&#x27;))])),\n",
              "                (&#x27;classifier&#x27;, RandomForestClassifier())])</pre></div></div></div><div class=\"sk-serial\"><div class=\"sk-item sk-dashed-wrapped\"><div class=\"sk-label-container\"><div class=\"sk-label sk-toggleable\"><input class=\"sk-toggleable__control sk-hidden--visually\" id=\"sk-estimator-id-2\" type=\"checkbox\" ><label for=\"sk-estimator-id-2\" class=\"sk-toggleable__label sk-toggleable__label-arrow\">preprocessor: ColumnTransformer</label><div class=\"sk-toggleable__content\"><pre>ColumnTransformer(transformers=[(&#x27;num&#x27;, MinMaxScaler(),\n",
              "                                 Index([&#x27;top_left_r&#x27;, &#x27;top_left_g&#x27;, &#x27;top_left_infra1&#x27;, &#x27;top_left_infra2&#x27;,\n",
              "       &#x27;top_middle_r&#x27;, &#x27;top_middle_g&#x27;, &#x27;top_middle_infra1&#x27;,\n",
              "       &#x27;top_middle_infra2&#x27;, &#x27;top_right_r&#x27;, &#x27;top_right_g&#x27;, &#x27;top_right_infra1&#x27;,\n",
              "       &#x27;top_right_infra2&#x27;, &#x27;middle_left_r&#x27;, &#x27;middle_left_g&#x27;,\n",
              "       &#x27;middle_left_infra1&#x27;, &#x27;middle_left_infra2&#x27;, &#x27;central_pixel_r&#x27;,\n",
              "       &#x27;central_pixel_g&#x27;, &#x27;central_pixel_infra1&#x27;, &#x27;central_pixel_infra2&#x27;,\n",
              "       &#x27;middle_right_r&#x27;, &#x27;middle_right_g&#x27;, &#x27;middle_right_infra1&#x27;,\n",
              "       &#x27;middle_right_infra2&#x27;, &#x27;bottom_left_r&#x27;, &#x27;bottom_left_g&#x27;,\n",
              "       &#x27;bottom_left_infra1&#x27;, &#x27;bottom_left_infra2&#x27;, &#x27;bottom_middle_r&#x27;,\n",
              "       &#x27;bottom_middle_g&#x27;, &#x27;bottom_middle_infra1&#x27;, &#x27;bottom_middle_infra2&#x27;,\n",
              "       &#x27;bottom_right_r&#x27;, &#x27;bottom_right_g&#x27;, &#x27;bottom_right_infra1&#x27;,\n",
              "       &#x27;bottom_right_infra2&#x27;],\n",
              "      dtype=&#x27;object&#x27;))])</pre></div></div></div><div class=\"sk-parallel\"><div class=\"sk-parallel-item\"><div class=\"sk-item\"><div class=\"sk-label-container\"><div class=\"sk-label sk-toggleable\"><input class=\"sk-toggleable__control sk-hidden--visually\" id=\"sk-estimator-id-3\" type=\"checkbox\" ><label for=\"sk-estimator-id-3\" class=\"sk-toggleable__label sk-toggleable__label-arrow\">num</label><div class=\"sk-toggleable__content\"><pre>Index([&#x27;top_left_r&#x27;, &#x27;top_left_g&#x27;, &#x27;top_left_infra1&#x27;, &#x27;top_left_infra2&#x27;,\n",
              "       &#x27;top_middle_r&#x27;, &#x27;top_middle_g&#x27;, &#x27;top_middle_infra1&#x27;,\n",
              "       &#x27;top_middle_infra2&#x27;, &#x27;top_right_r&#x27;, &#x27;top_right_g&#x27;, &#x27;top_right_infra1&#x27;,\n",
              "       &#x27;top_right_infra2&#x27;, &#x27;middle_left_r&#x27;, &#x27;middle_left_g&#x27;,\n",
              "       &#x27;middle_left_infra1&#x27;, &#x27;middle_left_infra2&#x27;, &#x27;central_pixel_r&#x27;,\n",
              "       &#x27;central_pixel_g&#x27;, &#x27;central_pixel_infra1&#x27;, &#x27;central_pixel_infra2&#x27;,\n",
              "       &#x27;middle_right_r&#x27;, &#x27;middle_right_g&#x27;, &#x27;middle_right_infra1&#x27;,\n",
              "       &#x27;middle_right_infra2&#x27;, &#x27;bottom_left_r&#x27;, &#x27;bottom_left_g&#x27;,\n",
              "       &#x27;bottom_left_infra1&#x27;, &#x27;bottom_left_infra2&#x27;, &#x27;bottom_middle_r&#x27;,\n",
              "       &#x27;bottom_middle_g&#x27;, &#x27;bottom_middle_infra1&#x27;, &#x27;bottom_middle_infra2&#x27;,\n",
              "       &#x27;bottom_right_r&#x27;, &#x27;bottom_right_g&#x27;, &#x27;bottom_right_infra1&#x27;,\n",
              "       &#x27;bottom_right_infra2&#x27;],\n",
              "      dtype=&#x27;object&#x27;)</pre></div></div></div><div class=\"sk-serial\"><div class=\"sk-item\"><div class=\"sk-estimator sk-toggleable\"><input class=\"sk-toggleable__control sk-hidden--visually\" id=\"sk-estimator-id-4\" type=\"checkbox\" ><label for=\"sk-estimator-id-4\" class=\"sk-toggleable__label sk-toggleable__label-arrow\">MinMaxScaler</label><div class=\"sk-toggleable__content\"><pre>MinMaxScaler()</pre></div></div></div></div></div></div></div></div><div class=\"sk-item\"><div class=\"sk-estimator sk-toggleable\"><input class=\"sk-toggleable__control sk-hidden--visually\" id=\"sk-estimator-id-5\" type=\"checkbox\" ><label for=\"sk-estimator-id-5\" class=\"sk-toggleable__label sk-toggleable__label-arrow\">RandomForestClassifier</label><div class=\"sk-toggleable__content\"><pre>RandomForestClassifier()</pre></div></div></div></div></div></div></div>"
            ]
          },
          "metadata": {},
          "execution_count": 45
        }
      ]
    },
    {
      "cell_type": "markdown",
      "source": [
        "# Evaluating the Model"
      ],
      "metadata": {
        "id": "0Tf_lEFLNzWY"
      }
    },
    {
      "cell_type": "code",
      "source": [
        "y_pred = pipeline.predict(X_test)"
      ],
      "metadata": {
        "id": "iHDBMZj7N1wW"
      },
      "execution_count": 46,
      "outputs": []
    },
    {
      "cell_type": "markdown",
      "source": [
        "# Precision, Recall, and F1 score:"
      ],
      "metadata": {
        "id": "qzGItUEzN-CA"
      }
    },
    {
      "cell_type": "code",
      "source": [
        "report = classification_report(y_test, y_pred)\n",
        "print(report)"
      ],
      "metadata": {
        "colab": {
          "base_uri": "https://localhost:8080/"
        },
        "id": "xYzSbIn6OBHC",
        "outputId": "b92b8d33-adff-4196-e4c6-a0012888ff1d"
      },
      "execution_count": 47,
      "outputs": [
        {
          "output_type": "stream",
          "name": "stdout",
          "text": [
            "              precision    recall  f1-score   support\n",
            "\n",
            "           1       0.98      1.00      0.99       461\n",
            "           2       0.98      0.98      0.98       224\n",
            "           3       0.88      0.95      0.92       397\n",
            "           4       0.79      0.64      0.71       211\n",
            "           5       0.93      0.89      0.91       237\n",
            "           7       0.88      0.90      0.89       470\n",
            "\n",
            "    accuracy                           0.91      2000\n",
            "   macro avg       0.91      0.89      0.90      2000\n",
            "weighted avg       0.91      0.91      0.91      2000\n",
            "\n"
          ]
        }
      ]
    },
    {
      "cell_type": "markdown",
      "source": [
        "# Confusion Matrix heatmap:"
      ],
      "metadata": {
        "id": "AtXvTTaWOW0e"
      }
    },
    {
      "cell_type": "code",
      "source": [
        "plot_cm(y_test, y_pred)"
      ],
      "metadata": {
        "colab": {
          "base_uri": "https://localhost:8080/",
          "height": 850
        },
        "id": "4hhctW2QOaNT",
        "outputId": "2b24b5f3-3bc1-4c20-aa10-362649736a90"
      },
      "execution_count": 48,
      "outputs": [
        {
          "output_type": "display_data",
          "data": {
            "text/plain": [
              "<Figure size 1000x1000 with 2 Axes>"
            ],
            "image/png": "[encoded data removed]"
          },
          "metadata": {}
        }
      ]
    },
    {
      "cell_type": "markdown",
      "source": [
        "# Conclusion"
      ],
      "metadata": {
        "id": "dgQoQQJsPHjR"
      }
    },
    {
      "cell_type": "markdown",
      "source": [
        "This seems to be a suitable model for classifying the correct land type for all types in the data frame, other than land type 4.  There is also room for improvement in the model in regards to land type 5.  Land type 4 and 5 have the fewest counts in the testing and training data as shown in the bar graph printed above.  This may correlate to the model's struggles to classify these two types. \n",
        "\n",
        "The confusion matrix shows inconsistency for land type 4, and this is also shown in the precision, recall and F1 scores for this land type. I would say this model struggles to classify landtype 4.\n",
        "\n",
        "Land type 5 has suffecient enough scores for precision, recall and f-1 score, but within the confusion matrix shows that the model has a fairly difficult time classying this land type correctly.  \n",
        "\n",
        "Land types 1, 2 and 7 can be accurately clasified by this model.  \n",
        "\n"
      ],
      "metadata": {
        "id": "bGR9OXkEPNS1"
      }
    },
    {
      "cell_type": "markdown",
      "source": [
        "# Boosting Classifier: "
      ],
      "metadata": {
        "id": "hJ_d6-klREo4"
      }
    },
    {
      "cell_type": "markdown",
      "source": [
        "# Splitting Data:"
      ],
      "metadata": {
        "id": "-rC7HvILSMvb"
      }
    },
    {
      "cell_type": "code",
      "source": [
        "X_train = landsat_train.drop('land_type', axis=1)\n",
        "\n",
        "X_test = landsat_test.drop('land_type', axis=1)\n",
        "\n",
        "y_train = landsat_train['land_type']\n",
        "\n",
        "y_test = landsat_test['land_type']"
      ],
      "metadata": {
        "id": "hkDp32zcSRR-"
      },
      "execution_count": 84,
      "outputs": []
    },
    {
      "cell_type": "markdown",
      "source": [
        "# Building the Pipeline:"
      ],
      "metadata": {
        "id": "sYbQ7Of1S1G3"
      }
    },
    {
      "cell_type": "code",
      "source": [
        "drop = ['land_type']"
      ],
      "metadata": {
        "id": "LS-NWbiaS4V7"
      },
      "execution_count": 85,
      "outputs": []
    },
    {
      "cell_type": "code",
      "source": [
        "ColTrans = ColumnTransformer(transformers=[\n",
        "        ('num', MinMaxScaler(), landsat_train.drop(drop, axis=1).columns)])"
      ],
      "metadata": {
        "id": "DAQkTYcQS6W9"
      },
      "execution_count": 86,
      "outputs": []
    },
    {
      "cell_type": "code",
      "source": [
        "pipeline = Pipeline(steps=[('ColTrans', ColTrans),\n",
        "                               ('classifier', AdaBoostClassifier(estimator=DecisionTreeClassifier(),\n",
        "                                                                 n_estimators=200,\n",
        "                                                                 learning_rate=1.0))])"
      ],
      "metadata": {
        "id": "83DQaim7Tf2M"
      },
      "execution_count": 87,
      "outputs": []
    },
    {
      "cell_type": "markdown",
      "source": [
        "# Executing the model"
      ],
      "metadata": {
        "id": "DHV7pzXUT1-1"
      }
    },
    {
      "cell_type": "code",
      "source": [
        "pipeline.fit(X_train, y_train)"
      ],
      "metadata": {
        "colab": {
          "base_uri": "https://localhost:8080/",
          "height": 258
        },
        "id": "abQ0x3AKT3H5",
        "outputId": "a72c5ce0-a8a7-4101-9c78-0b00bdb9a6ec"
      },
      "execution_count": 88,
      "outputs": [
        {
          "output_type": "execute_result",
          "data": {
            "text/plain": [
              "Pipeline(steps=[('ColTrans',\n",
              "                 ColumnTransformer(transformers=[('num', MinMaxScaler(),\n",
              "                                                  Index(['top_left_r', 'top_left_g', 'top_left_infra1', 'top_left_infra2',\n",
              "       'top_middle_r', 'top_middle_g', 'top_middle_infra1',\n",
              "       'top_middle_infra2', 'top_right_r', 'top_right_g', 'top_right_infra1',\n",
              "       'top_right_infra2', 'middle_left_r', 'middle_left_g',\n",
              "       'middle_left_infra1', 'middle_le...\n",
              "       'middle_right_infra2', 'bottom_left_r', 'bottom_left_g',\n",
              "       'bottom_left_infra1', 'bottom_left_infra2', 'bottom_middle_r',\n",
              "       'bottom_middle_g', 'bottom_middle_infra1', 'bottom_middle_infra2',\n",
              "       'bottom_right_r', 'bottom_right_g', 'bottom_right_infra1',\n",
              "       'bottom_right_infra2'],\n",
              "      dtype='object'))])),\n",
              "                ('classifier',\n",
              "                 AdaBoostClassifier(estimator=DecisionTreeClassifier(),\n",
              "                                    n_estimators=200))])"
            ],
            "text/html": [
              "<style>#sk-container-id-5 {color: black;background-color: white;}#sk-container-id-5 pre{padding: 0;}#sk-container-id-5 div.sk-toggleable {background-color: white;}#sk-container-id-5 label.sk-toggleable__label {cursor: pointer;display: block;width: 100%;margin-bottom: 0;padding: 0.3em;box-sizing: border-box;text-align: center;}#sk-container-id-5 label.sk-toggleable__label-arrow:before {content: \"▸\";float: left;margin-right: 0.25em;color: #696969;}#sk-container-id-5 label.sk-toggleable__label-arrow:hover:before {color: black;}#sk-container-id-5 div.sk-estimator:hover label.sk-toggleable__label-arrow:before {color: black;}#sk-container-id-5 div.sk-toggleable__content {max-height: 0;max-width: 0;overflow: hidden;text-align: left;background-color: #f0f8ff;}#sk-container-id-5 div.sk-toggleable__content pre {margin: 0.2em;color: black;border-radius: 0.25em;background-color: #f0f8ff;}#sk-container-id-5 input.sk-toggleable__control:checked~div.sk-toggleable__content {max-height: 200px;max-width: 100%;overflow: auto;}#sk-container-id-5 input.sk-toggleable__control:checked~label.sk-toggleable__label-arrow:before {content: \"▾\";}#sk-container-id-5 div.sk-estimator input.sk-toggleable__control:checked~label.sk-toggleable__label {background-color: #d4ebff;}#sk-container-id-5 div.sk-label input.sk-toggleable__control:checked~label.sk-toggleable__label {background-color: #d4ebff;}#sk-container-id-5 input.sk-hidden--visually {border: 0;clip: rect(1px 1px 1px 1px);clip: rect(1px, 1px, 1px, 1px);height: 1px;margin: -1px;overflow: hidden;padding: 0;position: absolute;width: 1px;}#sk-container-id-5 div.sk-estimator {font-family: monospace;background-color: #f0f8ff;border: 1px dotted black;border-radius: 0.25em;box-sizing: border-box;margin-bottom: 0.5em;}#sk-container-id-5 div.sk-estimator:hover {background-color: #d4ebff;}#sk-container-id-5 div.sk-parallel-item::after {content: \"\";width: 100%;border-bottom: 1px solid gray;flex-grow: 1;}#sk-container-id-5 div.sk-label:hover label.sk-toggleable__label {background-color: #d4ebff;}#sk-container-id-5 div.sk-serial::before {content: \"\";position: absolute;border-left: 1px solid gray;box-sizing: border-box;top: 0;bottom: 0;left: 50%;z-index: 0;}#sk-container-id-5 div.sk-serial {display: flex;flex-direction: column;align-items: center;background-color: white;padding-right: 0.2em;padding-left: 0.2em;position: relative;}#sk-container-id-5 div.sk-item {position: relative;z-index: 1;}#sk-container-id-5 div.sk-parallel {display: flex;align-items: stretch;justify-content: center;background-color: white;position: relative;}#sk-container-id-5 div.sk-item::before, #sk-container-id-5 div.sk-parallel-item::before {content: \"\";position: absolute;border-left: 1px solid gray;box-sizing: border-box;top: 0;bottom: 0;left: 50%;z-index: -1;}#sk-container-id-5 div.sk-parallel-item {display: flex;flex-direction: column;z-index: 1;position: relative;background-color: white;}#sk-container-id-5 div.sk-parallel-item:first-child::after {align-self: flex-end;width: 50%;}#sk-container-id-5 div.sk-parallel-item:last-child::after {align-self: flex-start;width: 50%;}#sk-container-id-5 div.sk-parallel-item:only-child::after {width: 0;}#sk-container-id-5 div.sk-dashed-wrapped {border: 1px dashed gray;margin: 0 0.4em 0.5em 0.4em;box-sizing: border-box;padding-bottom: 0.4em;background-color: white;}#sk-container-id-5 div.sk-label label {font-family: monospace;font-weight: bold;display: inline-block;line-height: 1.2em;}#sk-container-id-5 div.sk-label-container {text-align: center;}#sk-container-id-5 div.sk-container {/* jupyter's `normalize.less` sets `[hidden] { display: none; }` but bootstrap.min.css set `[hidden] { display: none !important; }` so we also need the `!important` here to be able to override the default hidden behavior on the sphinx rendered scikit-learn.org. See: https://github.com/scikit-learn/scikit-learn/issues/21755 */display: inline-block !important;position: relative;}#sk-container-id-5 div.sk-text-repr-fallback {display: none;}</style><div id=\"sk-container-id-5\" class=\"sk-top-container\"><div class=\"sk-text-repr-fallback\"><pre>Pipeline(steps=[(&#x27;ColTrans&#x27;,\n",
              "                 ColumnTransformer(transformers=[(&#x27;num&#x27;, MinMaxScaler(),\n",
              "                                                  Index([&#x27;top_left_r&#x27;, &#x27;top_left_g&#x27;, &#x27;top_left_infra1&#x27;, &#x27;top_left_infra2&#x27;,\n",
              "       &#x27;top_middle_r&#x27;, &#x27;top_middle_g&#x27;, &#x27;top_middle_infra1&#x27;,\n",
              "       &#x27;top_middle_infra2&#x27;, &#x27;top_right_r&#x27;, &#x27;top_right_g&#x27;, &#x27;top_right_infra1&#x27;,\n",
              "       &#x27;top_right_infra2&#x27;, &#x27;middle_left_r&#x27;, &#x27;middle_left_g&#x27;,\n",
              "       &#x27;middle_left_infra1&#x27;, &#x27;middle_le...\n",
              "       &#x27;middle_right_infra2&#x27;, &#x27;bottom_left_r&#x27;, &#x27;bottom_left_g&#x27;,\n",
              "       &#x27;bottom_left_infra1&#x27;, &#x27;bottom_left_infra2&#x27;, &#x27;bottom_middle_r&#x27;,\n",
              "       &#x27;bottom_middle_g&#x27;, &#x27;bottom_middle_infra1&#x27;, &#x27;bottom_middle_infra2&#x27;,\n",
              "       &#x27;bottom_right_r&#x27;, &#x27;bottom_right_g&#x27;, &#x27;bottom_right_infra1&#x27;,\n",
              "       &#x27;bottom_right_infra2&#x27;],\n",
              "      dtype=&#x27;object&#x27;))])),\n",
              "                (&#x27;classifier&#x27;,\n",
              "                 AdaBoostClassifier(estimator=DecisionTreeClassifier(),\n",
              "                                    n_estimators=200))])</pre><b>In a Jupyter environment, please rerun this cell to show the HTML representation or trust the notebook. <br />On GitHub, the HTML representation is unable to render, please try loading this page with nbviewer.org.</b></div><div class=\"sk-container\" hidden><div class=\"sk-item sk-dashed-wrapped\"><div class=\"sk-label-container\"><div class=\"sk-label sk-toggleable\"><input class=\"sk-toggleable__control sk-hidden--visually\" id=\"sk-estimator-id-25\" type=\"checkbox\" ><label for=\"sk-estimator-id-25\" class=\"sk-toggleable__label sk-toggleable__label-arrow\">Pipeline</label><div class=\"sk-toggleable__content\"><pre>Pipeline(steps=[(&#x27;ColTrans&#x27;,\n",
              "                 ColumnTransformer(transformers=[(&#x27;num&#x27;, MinMaxScaler(),\n",
              "                                                  Index([&#x27;top_left_r&#x27;, &#x27;top_left_g&#x27;, &#x27;top_left_infra1&#x27;, &#x27;top_left_infra2&#x27;,\n",
              "       &#x27;top_middle_r&#x27;, &#x27;top_middle_g&#x27;, &#x27;top_middle_infra1&#x27;,\n",
              "       &#x27;top_middle_infra2&#x27;, &#x27;top_right_r&#x27;, &#x27;top_right_g&#x27;, &#x27;top_right_infra1&#x27;,\n",
              "       &#x27;top_right_infra2&#x27;, &#x27;middle_left_r&#x27;, &#x27;middle_left_g&#x27;,\n",
              "       &#x27;middle_left_infra1&#x27;, &#x27;middle_le...\n",
              "       &#x27;middle_right_infra2&#x27;, &#x27;bottom_left_r&#x27;, &#x27;bottom_left_g&#x27;,\n",
              "       &#x27;bottom_left_infra1&#x27;, &#x27;bottom_left_infra2&#x27;, &#x27;bottom_middle_r&#x27;,\n",
              "       &#x27;bottom_middle_g&#x27;, &#x27;bottom_middle_infra1&#x27;, &#x27;bottom_middle_infra2&#x27;,\n",
              "       &#x27;bottom_right_r&#x27;, &#x27;bottom_right_g&#x27;, &#x27;bottom_right_infra1&#x27;,\n",
              "       &#x27;bottom_right_infra2&#x27;],\n",
              "      dtype=&#x27;object&#x27;))])),\n",
              "                (&#x27;classifier&#x27;,\n",
              "                 AdaBoostClassifier(estimator=DecisionTreeClassifier(),\n",
              "                                    n_estimators=200))])</pre></div></div></div><div class=\"sk-serial\"><div class=\"sk-item sk-dashed-wrapped\"><div class=\"sk-label-container\"><div class=\"sk-label sk-toggleable\"><input class=\"sk-toggleable__control sk-hidden--visually\" id=\"sk-estimator-id-26\" type=\"checkbox\" ><label for=\"sk-estimator-id-26\" class=\"sk-toggleable__label sk-toggleable__label-arrow\">ColTrans: ColumnTransformer</label><div class=\"sk-toggleable__content\"><pre>ColumnTransformer(transformers=[(&#x27;num&#x27;, MinMaxScaler(),\n",
              "                                 Index([&#x27;top_left_r&#x27;, &#x27;top_left_g&#x27;, &#x27;top_left_infra1&#x27;, &#x27;top_left_infra2&#x27;,\n",
              "       &#x27;top_middle_r&#x27;, &#x27;top_middle_g&#x27;, &#x27;top_middle_infra1&#x27;,\n",
              "       &#x27;top_middle_infra2&#x27;, &#x27;top_right_r&#x27;, &#x27;top_right_g&#x27;, &#x27;top_right_infra1&#x27;,\n",
              "       &#x27;top_right_infra2&#x27;, &#x27;middle_left_r&#x27;, &#x27;middle_left_g&#x27;,\n",
              "       &#x27;middle_left_infra1&#x27;, &#x27;middle_left_infra2&#x27;, &#x27;central_pixel_r&#x27;,\n",
              "       &#x27;central_pixel_g&#x27;, &#x27;central_pixel_infra1&#x27;, &#x27;central_pixel_infra2&#x27;,\n",
              "       &#x27;middle_right_r&#x27;, &#x27;middle_right_g&#x27;, &#x27;middle_right_infra1&#x27;,\n",
              "       &#x27;middle_right_infra2&#x27;, &#x27;bottom_left_r&#x27;, &#x27;bottom_left_g&#x27;,\n",
              "       &#x27;bottom_left_infra1&#x27;, &#x27;bottom_left_infra2&#x27;, &#x27;bottom_middle_r&#x27;,\n",
              "       &#x27;bottom_middle_g&#x27;, &#x27;bottom_middle_infra1&#x27;, &#x27;bottom_middle_infra2&#x27;,\n",
              "       &#x27;bottom_right_r&#x27;, &#x27;bottom_right_g&#x27;, &#x27;bottom_right_infra1&#x27;,\n",
              "       &#x27;bottom_right_infra2&#x27;],\n",
              "      dtype=&#x27;object&#x27;))])</pre></div></div></div><div class=\"sk-parallel\"><div class=\"sk-parallel-item\"><div class=\"sk-item\"><div class=\"sk-label-container\"><div class=\"sk-label sk-toggleable\"><input class=\"sk-toggleable__control sk-hidden--visually\" id=\"sk-estimator-id-27\" type=\"checkbox\" ><label for=\"sk-estimator-id-27\" class=\"sk-toggleable__label sk-toggleable__label-arrow\">num</label><div class=\"sk-toggleable__content\"><pre>Index([&#x27;top_left_r&#x27;, &#x27;top_left_g&#x27;, &#x27;top_left_infra1&#x27;, &#x27;top_left_infra2&#x27;,\n",
              "       &#x27;top_middle_r&#x27;, &#x27;top_middle_g&#x27;, &#x27;top_middle_infra1&#x27;,\n",
              "       &#x27;top_middle_infra2&#x27;, &#x27;top_right_r&#x27;, &#x27;top_right_g&#x27;, &#x27;top_right_infra1&#x27;,\n",
              "       &#x27;top_right_infra2&#x27;, &#x27;middle_left_r&#x27;, &#x27;middle_left_g&#x27;,\n",
              "       &#x27;middle_left_infra1&#x27;, &#x27;middle_left_infra2&#x27;, &#x27;central_pixel_r&#x27;,\n",
              "       &#x27;central_pixel_g&#x27;, &#x27;central_pixel_infra1&#x27;, &#x27;central_pixel_infra2&#x27;,\n",
              "       &#x27;middle_right_r&#x27;, &#x27;middle_right_g&#x27;, &#x27;middle_right_infra1&#x27;,\n",
              "       &#x27;middle_right_infra2&#x27;, &#x27;bottom_left_r&#x27;, &#x27;bottom_left_g&#x27;,\n",
              "       &#x27;bottom_left_infra1&#x27;, &#x27;bottom_left_infra2&#x27;, &#x27;bottom_middle_r&#x27;,\n",
              "       &#x27;bottom_middle_g&#x27;, &#x27;bottom_middle_infra1&#x27;, &#x27;bottom_middle_infra2&#x27;,\n",
              "       &#x27;bottom_right_r&#x27;, &#x27;bottom_right_g&#x27;, &#x27;bottom_right_infra1&#x27;,\n",
              "       &#x27;bottom_right_infra2&#x27;],\n",
              "      dtype=&#x27;object&#x27;)</pre></div></div></div><div class=\"sk-serial\"><div class=\"sk-item\"><div class=\"sk-estimator sk-toggleable\"><input class=\"sk-toggleable__control sk-hidden--visually\" id=\"sk-estimator-id-28\" type=\"checkbox\" ><label for=\"sk-estimator-id-28\" class=\"sk-toggleable__label sk-toggleable__label-arrow\">MinMaxScaler</label><div class=\"sk-toggleable__content\"><pre>MinMaxScaler()</pre></div></div></div></div></div></div></div></div><div class=\"sk-item sk-dashed-wrapped\"><div class=\"sk-label-container\"><div class=\"sk-label sk-toggleable\"><input class=\"sk-toggleable__control sk-hidden--visually\" id=\"sk-estimator-id-29\" type=\"checkbox\" ><label for=\"sk-estimator-id-29\" class=\"sk-toggleable__label sk-toggleable__label-arrow\">classifier: AdaBoostClassifier</label><div class=\"sk-toggleable__content\"><pre>AdaBoostClassifier(estimator=DecisionTreeClassifier(), n_estimators=200)</pre></div></div></div><div class=\"sk-parallel\"><div class=\"sk-parallel-item\"><div class=\"sk-item\"><div class=\"sk-label-container\"><div class=\"sk-label sk-toggleable\"><input class=\"sk-toggleable__control sk-hidden--visually\" id=\"sk-estimator-id-30\" type=\"checkbox\" ><label for=\"sk-estimator-id-30\" class=\"sk-toggleable__label sk-toggleable__label-arrow\">estimator: DecisionTreeClassifier</label><div class=\"sk-toggleable__content\"><pre>DecisionTreeClassifier()</pre></div></div></div><div class=\"sk-serial\"><div class=\"sk-item\"><div class=\"sk-estimator sk-toggleable\"><input class=\"sk-toggleable__control sk-hidden--visually\" id=\"sk-estimator-id-31\" type=\"checkbox\" ><label for=\"sk-estimator-id-31\" class=\"sk-toggleable__label sk-toggleable__label-arrow\">DecisionTreeClassifier</label><div class=\"sk-toggleable__content\"><pre>DecisionTreeClassifier()</pre></div></div></div></div></div></div></div></div></div></div></div></div>"
            ]
          },
          "metadata": {},
          "execution_count": 88
        }
      ]
    },
    {
      "cell_type": "markdown",
      "source": [
        "# Evaluating the Model"
      ],
      "metadata": {
        "id": "4C56ZrUJUJjk"
      }
    },
    {
      "cell_type": "code",
      "source": [
        "y_pred = pipeline.predict(X_test)"
      ],
      "metadata": {
        "id": "VkiPPicUUKtC"
      },
      "execution_count": 89,
      "outputs": []
    },
    {
      "cell_type": "markdown",
      "source": [
        "# Precision, Recall, and F1 score:"
      ],
      "metadata": {
        "id": "kB7tZooUUN9M"
      }
    },
    {
      "cell_type": "code",
      "source": [
        "report = classification_report(y_test, y_pred)\n",
        "print(report)"
      ],
      "metadata": {
        "colab": {
          "base_uri": "https://localhost:8080/"
        },
        "id": "d8KDfDaVUS-p",
        "outputId": "d3861551-5046-4683-f556-b705c284d78b"
      },
      "execution_count": 90,
      "outputs": [
        {
          "output_type": "stream",
          "name": "stdout",
          "text": [
            "              precision    recall  f1-score   support\n",
            "\n",
            "           1       0.95      0.96      0.96       461\n",
            "           2       0.97      0.97      0.97       224\n",
            "           3       0.88      0.86      0.87       397\n",
            "           4       0.54      0.59      0.56       211\n",
            "           5       0.86      0.83      0.85       237\n",
            "           7       0.84      0.83      0.84       470\n",
            "\n",
            "    accuracy                           0.86      2000\n",
            "   macro avg       0.84      0.84      0.84      2000\n",
            "weighted avg       0.86      0.86      0.86      2000\n",
            "\n"
          ]
        }
      ]
    },
    {
      "cell_type": "markdown",
      "source": [
        "# Confusion Matrix heatmap:"
      ],
      "metadata": {
        "id": "itarCObJUd8q"
      }
    },
    {
      "cell_type": "code",
      "source": [
        "plot_cm(y_test, y_pred)"
      ],
      "metadata": {
        "colab": {
          "base_uri": "https://localhost:8080/",
          "height": 850
        },
        "id": "Q4v4JC_mUfKR",
        "outputId": "5c64d057-ee26-4ba6-82b3-bf659777df62"
      },
      "execution_count": 91,
      "outputs": [
        {
          "output_type": "display_data",
          "data": {
            "text/plain": [
              "<Figure size 1000x1000 with 2 Axes>"
            ],
            "image/png": "[encoded data removed]"
          },
          "metadata": {}
        }
      ]
    },
    {
      "cell_type": "markdown",
      "source": [
        "# Conclusion:"
      ],
      "metadata": {
        "id": "gMGnCqozXjbV"
      }
    },
    {
      "cell_type": "markdown",
      "source": [
        "My conclusion for this model is similar to the model that used the RandomForestClassifer previously.  The results of the two models working with the same dataset are nearly identical.  \n",
        "\n",
        "I would assume that the model is not accurate at predicting land type 4.  I tried setting n_estimators to different values for this model hoping to see a positive effect on the results but did not get a return that was much different.  "
      ],
      "metadata": {
        "id": "6tB6XwNdXlff"
      }
    },
    {
      "cell_type": "markdown",
      "source": [
        "# Acquire Data"
      ],
      "metadata": {
        "id": "jmV-yxlCXppp"
      }
    },
    {
      "cell_type": "code",
      "source": [
        "df = pd.read_csv('/content/gdrive/MyDrive/CS-430/banknote_authentication.csv')"
      ],
      "metadata": {
        "id": "aByP12bKXxC0"
      },
      "execution_count": 67,
      "outputs": []
    },
    {
      "cell_type": "code",
      "source": [
        "df.head()"
      ],
      "metadata": {
        "colab": {
          "base_uri": "https://localhost:8080/",
          "height": 206
        },
        "id": "n4uqpF5lYHtX",
        "outputId": "91707db6-5dc8-4595-b1a2-cdad56a8675d"
      },
      "execution_count": 68,
      "outputs": [
        {
          "output_type": "execute_result",
          "data": {
            "text/plain": [
              "   variance  skewness  curtosis  entropy  forgery\n",
              "0   3.62160    8.6661   -2.8073 -0.44699        0\n",
              "1   4.54590    8.1674   -2.4586 -1.46210        0\n",
              "2   3.86600   -2.6383    1.9242  0.10645        0\n",
              "3   3.45660    9.5228   -4.0112 -3.59440        0\n",
              "4   0.32924   -4.4552    4.5718 -0.98880        0"
            ],
            "text/html": [
              "\n",
              "  <div id=\"df-4d87be74-360e-409d-ad9e-f2a04313fdcd\">\n",
              "    <div class=\"colab-df-container\">\n",
              "      <div>\n",
              "<style scoped>\n",
              "    .dataframe tbody tr th:only-of-type {\n",
              "        vertical-align: middle;\n",
              "    }\n",
              "\n",
              "    .dataframe tbody tr th {\n",
              "        vertical-align: top;\n",
              "    }\n",
              "\n",
              "    .dataframe thead th {\n",
              "        text-align: right;\n",
              "    }\n",
              "</style>\n",
              "<table border=\"1\" class=\"dataframe\">\n",
              "  <thead>\n",
              "    <tr style=\"text-align: right;\">\n",
              "      <th></th>\n",
              "      <th>variance</th>\n",
              "      <th>skewness</th>\n",
              "      <th>curtosis</th>\n",
              "      <th>entropy</th>\n",
              "      <th>forgery</th>\n",
              "    </tr>\n",
              "  </thead>\n",
              "  <tbody>\n",
              "    <tr>\n",
              "      <th>0</th>\n",
              "      <td>3.62160</td>\n",
              "      <td>8.6661</td>\n",
              "      <td>-2.8073</td>\n",
              "      <td>-0.44699</td>\n",
              "      <td>0</td>\n",
              "    </tr>\n",
              "    <tr>\n",
              "      <th>1</th>\n",
              "      <td>4.54590</td>\n",
              "      <td>8.1674</td>\n",
              "      <td>-2.4586</td>\n",
              "      <td>-1.46210</td>\n",
              "      <td>0</td>\n",
              "    </tr>\n",
              "    <tr>\n",
              "      <th>2</th>\n",
              "      <td>3.86600</td>\n",
              "      <td>-2.6383</td>\n",
              "      <td>1.9242</td>\n",
              "      <td>0.10645</td>\n",
              "      <td>0</td>\n",
              "    </tr>\n",
              "    <tr>\n",
              "      <th>3</th>\n",
              "      <td>3.45660</td>\n",
              "      <td>9.5228</td>\n",
              "      <td>-4.0112</td>\n",
              "      <td>-3.59440</td>\n",
              "      <td>0</td>\n",
              "    </tr>\n",
              "    <tr>\n",
              "      <th>4</th>\n",
              "      <td>0.32924</td>\n",
              "      <td>-4.4552</td>\n",
              "      <td>4.5718</td>\n",
              "      <td>-0.98880</td>\n",
              "      <td>0</td>\n",
              "    </tr>\n",
              "  </tbody>\n",
              "</table>\n",
              "</div>\n",
              "      <button class=\"colab-df-convert\" onclick=\"convertToInteractive('df-4d87be74-360e-409d-ad9e-f2a04313fdcd')\"\n",
              "              title=\"Convert this dataframe to an interactive table.\"\n",
              "              style=\"display:none;\">\n",
              "        \n",
              "  <svg xmlns=\"http://www.w3.org/2000/svg\" height=\"24px\"viewBox=\"0 0 24 24\"\n",
              "       width=\"24px\">\n",
              "    <path d=\"M0 0h24v24H0V0z\" fill=\"none\"/>\n",
              "    <path d=\"M18.56 5.44l.94 2.06.94-2.06 2.06-.94-2.06-.94-.94-2.06-.94 2.06-2.06.94zm-11 1L8.5 8.5l.94-2.06 2.06-.94-2.06-.94L8.5 2.5l-.94 2.06-2.06.94zm10 10l.94 2.06.94-2.06 2.06-.94-2.06-.94-.94-2.06-.94 2.06-2.06.94z\"/><path d=\"M17.41 7.96l-1.37-1.37c-.4-.4-.92-.59-1.43-.59-.52 0-1.04.2-1.43.59L10.3 9.45l-7.72 7.72c-.78.78-.78 2.05 0 2.83L4 21.41c.39.39.9.59 1.41.59.51 0 1.02-.2 1.41-.59l7.78-7.78 2.81-2.81c.8-.78.8-2.07 0-2.86zM5.41 20L4 18.59l7.72-7.72 1.47 1.35L5.41 20z\"/>\n",
              "  </svg>\n",
              "      </button>\n",
              "      \n",
              "  <style>\n",
              "    .colab-df-container {\n",
              "      display:flex;\n",
              "      flex-wrap:wrap;\n",
              "      gap: 12px;\n",
              "    }\n",
              "\n",
              "    .colab-df-convert {\n",
              "      background-color: #E8F0FE;\n",
              "      border: none;\n",
              "      border-radius: 50%;\n",
              "      cursor: pointer;\n",
              "      display: none;\n",
              "      fill: #1967D2;\n",
              "      height: 32px;\n",
              "      padding: 0 0 0 0;\n",
              "      width: 32px;\n",
              "    }\n",
              "\n",
              "    .colab-df-convert:hover {\n",
              "      background-color: #E2EBFA;\n",
              "      box-shadow: 0px 1px 2px rgba(60, 64, 67, 0.3), 0px 1px 3px 1px rgba(60, 64, 67, 0.15);\n",
              "      fill: #174EA6;\n",
              "    }\n",
              "\n",
              "    [theme=dark] .colab-df-convert {\n",
              "      background-color: #3B4455;\n",
              "      fill: #D2E3FC;\n",
              "    }\n",
              "\n",
              "    [theme=dark] .colab-df-convert:hover {\n",
              "      background-color: #434B5C;\n",
              "      box-shadow: 0px 1px 3px 1px rgba(0, 0, 0, 0.15);\n",
              "      filter: drop-shadow(0px 1px 2px rgba(0, 0, 0, 0.3));\n",
              "      fill: #FFFFFF;\n",
              "    }\n",
              "  </style>\n",
              "\n",
              "      <script>\n",
              "        const buttonEl =\n",
              "          document.querySelector('#df-4d87be74-360e-409d-ad9e-f2a04313fdcd button.colab-df-convert');\n",
              "        buttonEl.style.display =\n",
              "          google.colab.kernel.accessAllowed ? 'block' : 'none';\n",
              "\n",
              "        async function convertToInteractive(key) {\n",
              "          const element = document.querySelector('#df-4d87be74-360e-409d-ad9e-f2a04313fdcd');\n",
              "          const dataTable =\n",
              "            await google.colab.kernel.invokeFunction('convertToInteractive',\n",
              "                                                     [key], {});\n",
              "          if (!dataTable) return;\n",
              "\n",
              "          const docLinkHtml = 'Like what you see? Visit the ' +\n",
              "            '<a target=\"_blank\" href=https://colab.research.google.com/notebooks/data_table.ipynb>data table notebook</a>'\n",
              "            + ' to learn more about interactive tables.';\n",
              "          element.innerHTML = '';\n",
              "          dataTable['output_type'] = 'display_data';\n",
              "          await google.colab.output.renderOutput(dataTable, element);\n",
              "          const docLink = document.createElement('div');\n",
              "          docLink.innerHTML = docLinkHtml;\n",
              "          element.appendChild(docLink);\n",
              "        }\n",
              "      </script>\n",
              "    </div>\n",
              "  </div>\n",
              "  "
            ]
          },
          "metadata": {},
          "execution_count": 68
        }
      ]
    },
    {
      "cell_type": "markdown",
      "source": [
        "# Bar plots to display the number of forgeries:"
      ],
      "metadata": {
        "id": "LdFKf1fZY-1t"
      }
    },
    {
      "cell_type": "code",
      "source": [
        "counts = df['forgery'].value_counts()\n",
        "\n",
        "counts_df = pd.DataFrame({'Forgery': counts[1], 'No Forgery': counts[0]}, index=[0])"
      ],
      "metadata": {
        "id": "3rM3c3YHZCCf"
      },
      "execution_count": 69,
      "outputs": []
    },
    {
      "cell_type": "code",
      "source": [
        "print(counts_df)"
      ],
      "metadata": {
        "colab": {
          "base_uri": "https://localhost:8080/"
        },
        "id": "h5AdDAJBZVCB",
        "outputId": "fc6f2462-699f-424a-b24e-3e3daf9312b5"
      },
      "execution_count": 70,
      "outputs": [
        {
          "output_type": "stream",
          "name": "stdout",
          "text": [
            "   Forgery  No Forgery\n",
            "0      610         762\n"
          ]
        }
      ]
    },
    {
      "cell_type": "code",
      "source": [
        "plt.figure(figsize=(10,5))\n",
        "plt.bar(['No Forgery', 'Forgery'], counts.values)\n",
        "plt.title('Forgery & No Forgery')\n",
        "plt.ylabel('Count')\n",
        "plt.show()"
      ],
      "metadata": {
        "colab": {
          "base_uri": "https://localhost:8080/",
          "height": 468
        },
        "id": "TOkT45anZZOc",
        "outputId": "bebdf271-16b4-4d65-8cd1-2f5e3459dc58"
      },
      "execution_count": 71,
      "outputs": [
        {
          "output_type": "display_data",
          "data": {
            "text/plain": [
              "<Figure size 1000x500 with 1 Axes>"
            ],
            "image/png": "[encoded data removed]"
          },
          "metadata": {}
        }
      ]
    },
    {
      "cell_type": "markdown",
      "source": [
        "# Splitting Data into Train/Test"
      ],
      "metadata": {
        "id": "RcRoMCNmZiFh"
      }
    },
    {
      "cell_type": "code",
      "source": [
        "X = df.drop(['forgery'], axis=1)\n",
        "\n",
        "y = df['forgery']\n",
        "\n",
        "X_train, X_test, y_train, y_test = train_test_split(X, y, test_size=0.2, random_state=42)"
      ],
      "metadata": {
        "id": "IJW0SlgoZjyd"
      },
      "execution_count": 73,
      "outputs": []
    },
    {
      "cell_type": "markdown",
      "source": [
        "# Building the Pipeline:"
      ],
      "metadata": {
        "id": "lh2HUyQZaKGJ"
      }
    },
    {
      "cell_type": "code",
      "source": [
        "numerical_cols = ['variance', 'skewness', 'curtosis', 'entropy']\n",
        "\n",
        "ColTrans = ColumnTransformer(transformers=[\n",
        "        ('num', MinMaxScaler(), numerical_cols)\n",
        "    ])"
      ],
      "metadata": {
        "id": "KK7UVFedaLEY"
      },
      "execution_count": 77,
      "outputs": []
    },
    {
      "cell_type": "code",
      "source": [
        "pipeline = Pipeline(steps=[('ColTrans', ColTrans),\n",
        "                              ('classifier', RandomForestClassifier())])"
      ],
      "metadata": {
        "id": "sMvhjvjBaRKm"
      },
      "execution_count": 78,
      "outputs": []
    },
    {
      "cell_type": "markdown",
      "source": [
        "# Executing the model"
      ],
      "metadata": {
        "id": "QJEqa4_lat8F"
      }
    },
    {
      "cell_type": "code",
      "source": [
        "pipeline.fit(X_train, y_train)"
      ],
      "metadata": {
        "colab": {
          "base_uri": "https://localhost:8080/",
          "height": 192
        },
        "id": "1otQSSH1au_z",
        "outputId": "8bc3e72b-c3d1-4f65-c6e3-c13f0bc90005"
      },
      "execution_count": 79,
      "outputs": [
        {
          "output_type": "execute_result",
          "data": {
            "text/plain": [
              "Pipeline(steps=[('ColTrans',\n",
              "                 ColumnTransformer(transformers=[('num', MinMaxScaler(),\n",
              "                                                  ['variance', 'skewness',\n",
              "                                                   'curtosis', 'entropy'])])),\n",
              "                ('classifier', RandomForestClassifier())])"
            ],
            "text/html": [
              "<style>#sk-container-id-4 {color: black;background-color: white;}#sk-container-id-4 pre{padding: 0;}#sk-container-id-4 div.sk-toggleable {background-color: white;}#sk-container-id-4 label.sk-toggleable__label {cursor: pointer;display: block;width: 100%;margin-bottom: 0;padding: 0.3em;box-sizing: border-box;text-align: center;}#sk-container-id-4 label.sk-toggleable__label-arrow:before {content: \"▸\";float: left;margin-right: 0.25em;color: #696969;}#sk-container-id-4 label.sk-toggleable__label-arrow:hover:before {color: black;}#sk-container-id-4 div.sk-estimator:hover label.sk-toggleable__label-arrow:before {color: black;}#sk-container-id-4 div.sk-toggleable__content {max-height: 0;max-width: 0;overflow: hidden;text-align: left;background-color: #f0f8ff;}#sk-container-id-4 div.sk-toggleable__content pre {margin: 0.2em;color: black;border-radius: 0.25em;background-color: #f0f8ff;}#sk-container-id-4 input.sk-toggleable__control:checked~div.sk-toggleable__content {max-height: 200px;max-width: 100%;overflow: auto;}#sk-container-id-4 input.sk-toggleable__control:checked~label.sk-toggleable__label-arrow:before {content: \"▾\";}#sk-container-id-4 div.sk-estimator input.sk-toggleable__control:checked~label.sk-toggleable__label {background-color: #d4ebff;}#sk-container-id-4 div.sk-label input.sk-toggleable__control:checked~label.sk-toggleable__label {background-color: #d4ebff;}#sk-container-id-4 input.sk-hidden--visually {border: 0;clip: rect(1px 1px 1px 1px);clip: rect(1px, 1px, 1px, 1px);height: 1px;margin: -1px;overflow: hidden;padding: 0;position: absolute;width: 1px;}#sk-container-id-4 div.sk-estimator {font-family: monospace;background-color: #f0f8ff;border: 1px dotted black;border-radius: 0.25em;box-sizing: border-box;margin-bottom: 0.5em;}#sk-container-id-4 div.sk-estimator:hover {background-color: #d4ebff;}#sk-container-id-4 div.sk-parallel-item::after {content: \"\";width: 100%;border-bottom: 1px solid gray;flex-grow: 1;}#sk-container-id-4 div.sk-label:hover label.sk-toggleable__label {background-color: #d4ebff;}#sk-container-id-4 div.sk-serial::before {content: \"\";position: absolute;border-left: 1px solid gray;box-sizing: border-box;top: 0;bottom: 0;left: 50%;z-index: 0;}#sk-container-id-4 div.sk-serial {display: flex;flex-direction: column;align-items: center;background-color: white;padding-right: 0.2em;padding-left: 0.2em;position: relative;}#sk-container-id-4 div.sk-item {position: relative;z-index: 1;}#sk-container-id-4 div.sk-parallel {display: flex;align-items: stretch;justify-content: center;background-color: white;position: relative;}#sk-container-id-4 div.sk-item::before, #sk-container-id-4 div.sk-parallel-item::before {content: \"\";position: absolute;border-left: 1px solid gray;box-sizing: border-box;top: 0;bottom: 0;left: 50%;z-index: -1;}#sk-container-id-4 div.sk-parallel-item {display: flex;flex-direction: column;z-index: 1;position: relative;background-color: white;}#sk-container-id-4 div.sk-parallel-item:first-child::after {align-self: flex-end;width: 50%;}#sk-container-id-4 div.sk-parallel-item:last-child::after {align-self: flex-start;width: 50%;}#sk-container-id-4 div.sk-parallel-item:only-child::after {width: 0;}#sk-container-id-4 div.sk-dashed-wrapped {border: 1px dashed gray;margin: 0 0.4em 0.5em 0.4em;box-sizing: border-box;padding-bottom: 0.4em;background-color: white;}#sk-container-id-4 div.sk-label label {font-family: monospace;font-weight: bold;display: inline-block;line-height: 1.2em;}#sk-container-id-4 div.sk-label-container {text-align: center;}#sk-container-id-4 div.sk-container {/* jupyter's `normalize.less` sets `[hidden] { display: none; }` but bootstrap.min.css set `[hidden] { display: none !important; }` so we also need the `!important` here to be able to override the default hidden behavior on the sphinx rendered scikit-learn.org. See: https://github.com/scikit-learn/scikit-learn/issues/21755 */display: inline-block !important;position: relative;}#sk-container-id-4 div.sk-text-repr-fallback {display: none;}</style><div id=\"sk-container-id-4\" class=\"sk-top-container\"><div class=\"sk-text-repr-fallback\"><pre>Pipeline(steps=[(&#x27;ColTrans&#x27;,\n",
              "                 ColumnTransformer(transformers=[(&#x27;num&#x27;, MinMaxScaler(),\n",
              "                                                  [&#x27;variance&#x27;, &#x27;skewness&#x27;,\n",
              "                                                   &#x27;curtosis&#x27;, &#x27;entropy&#x27;])])),\n",
              "                (&#x27;classifier&#x27;, RandomForestClassifier())])</pre><b>In a Jupyter environment, please rerun this cell to show the HTML representation or trust the notebook. <br />On GitHub, the HTML representation is unable to render, please try loading this page with nbviewer.org.</b></div><div class=\"sk-container\" hidden><div class=\"sk-item sk-dashed-wrapped\"><div class=\"sk-label-container\"><div class=\"sk-label sk-toggleable\"><input class=\"sk-toggleable__control sk-hidden--visually\" id=\"sk-estimator-id-20\" type=\"checkbox\" ><label for=\"sk-estimator-id-20\" class=\"sk-toggleable__label sk-toggleable__label-arrow\">Pipeline</label><div class=\"sk-toggleable__content\"><pre>Pipeline(steps=[(&#x27;ColTrans&#x27;,\n",
              "                 ColumnTransformer(transformers=[(&#x27;num&#x27;, MinMaxScaler(),\n",
              "                                                  [&#x27;variance&#x27;, &#x27;skewness&#x27;,\n",
              "                                                   &#x27;curtosis&#x27;, &#x27;entropy&#x27;])])),\n",
              "                (&#x27;classifier&#x27;, RandomForestClassifier())])</pre></div></div></div><div class=\"sk-serial\"><div class=\"sk-item sk-dashed-wrapped\"><div class=\"sk-label-container\"><div class=\"sk-label sk-toggleable\"><input class=\"sk-toggleable__control sk-hidden--visually\" id=\"sk-estimator-id-21\" type=\"checkbox\" ><label for=\"sk-estimator-id-21\" class=\"sk-toggleable__label sk-toggleable__label-arrow\">ColTrans: ColumnTransformer</label><div class=\"sk-toggleable__content\"><pre>ColumnTransformer(transformers=[(&#x27;num&#x27;, MinMaxScaler(),\n",
              "                                 [&#x27;variance&#x27;, &#x27;skewness&#x27;, &#x27;curtosis&#x27;,\n",
              "                                  &#x27;entropy&#x27;])])</pre></div></div></div><div class=\"sk-parallel\"><div class=\"sk-parallel-item\"><div class=\"sk-item\"><div class=\"sk-label-container\"><div class=\"sk-label sk-toggleable\"><input class=\"sk-toggleable__control sk-hidden--visually\" id=\"sk-estimator-id-22\" type=\"checkbox\" ><label for=\"sk-estimator-id-22\" class=\"sk-toggleable__label sk-toggleable__label-arrow\">num</label><div class=\"sk-toggleable__content\"><pre>[&#x27;variance&#x27;, &#x27;skewness&#x27;, &#x27;curtosis&#x27;, &#x27;entropy&#x27;]</pre></div></div></div><div class=\"sk-serial\"><div class=\"sk-item\"><div class=\"sk-estimator sk-toggleable\"><input class=\"sk-toggleable__control sk-hidden--visually\" id=\"sk-estimator-id-23\" type=\"checkbox\" ><label for=\"sk-estimator-id-23\" class=\"sk-toggleable__label sk-toggleable__label-arrow\">MinMaxScaler</label><div class=\"sk-toggleable__content\"><pre>MinMaxScaler()</pre></div></div></div></div></div></div></div></div><div class=\"sk-item\"><div class=\"sk-estimator sk-toggleable\"><input class=\"sk-toggleable__control sk-hidden--visually\" id=\"sk-estimator-id-24\" type=\"checkbox\" ><label for=\"sk-estimator-id-24\" class=\"sk-toggleable__label sk-toggleable__label-arrow\">RandomForestClassifier</label><div class=\"sk-toggleable__content\"><pre>RandomForestClassifier()</pre></div></div></div></div></div></div></div>"
            ]
          },
          "metadata": {},
          "execution_count": 79
        }
      ]
    },
    {
      "cell_type": "markdown",
      "source": [
        "# Evaluating the Model"
      ],
      "metadata": {
        "id": "o5HT7UJmbF03"
      }
    },
    {
      "cell_type": "code",
      "source": [
        "y_pred = pipeline.predict(X_test)"
      ],
      "metadata": {
        "id": "vuv-n3hWbG1u"
      },
      "execution_count": 80,
      "outputs": []
    },
    {
      "cell_type": "markdown",
      "source": [
        "# Precision, Recall, and F1 score:"
      ],
      "metadata": {
        "id": "s1AJr4PYbRM_"
      }
    },
    {
      "cell_type": "code",
      "source": [
        "report = classification_report(y_test, y_pred)\n",
        "print(report)"
      ],
      "metadata": {
        "colab": {
          "base_uri": "https://localhost:8080/"
        },
        "id": "GV_Iz8WMbR_O",
        "outputId": "16c6f040-d282-406f-c4ab-b69e722d6751"
      },
      "execution_count": 81,
      "outputs": [
        {
          "output_type": "stream",
          "name": "stdout",
          "text": [
            "              precision    recall  f1-score   support\n",
            "\n",
            "           0       0.99      1.00      0.99       148\n",
            "           1       1.00      0.98      0.99       127\n",
            "\n",
            "    accuracy                           0.99       275\n",
            "   macro avg       0.99      0.99      0.99       275\n",
            "weighted avg       0.99      0.99      0.99       275\n",
            "\n"
          ]
        }
      ]
    },
    {
      "cell_type": "markdown",
      "source": [
        "# Confusion Matrix heatmap:"
      ],
      "metadata": {
        "id": "4n3BqXe9bZlR"
      }
    },
    {
      "cell_type": "code",
      "source": [
        "plot_cm(y_test, y_pred)"
      ],
      "metadata": {
        "colab": {
          "base_uri": "https://localhost:8080/",
          "height": 850
        },
        "id": "ZaJHUfXcbcaT",
        "outputId": "6649d77b-26c3-4955-a5bd-faf28fd8414d"
      },
      "execution_count": 82,
      "outputs": [
        {
          "output_type": "display_data",
          "data": {
            "text/plain": [
              "<Figure size 1000x1000 with 2 Axes>"
            ],
            "image/png": "[encoded data removed]"
          },
          "metadata": {}
        }
      ]
    },
    {
      "cell_type": "markdown",
      "source": [
        "# Conclusion:"
      ],
      "metadata": {
        "id": "vVsFgnOLbo3J"
      }
    },
    {
      "cell_type": "markdown",
      "source": [
        "Using the RandomForestClassifier, the model was extremely accurate in currectly classifying forgeries and non forgery cases from the banknote document.  \n",
        "\n",
        "The precision, recall and F-1 scores all sit comfortably above .90, and the heatmap shows only two false positive and no false negatives.  "
      ],
      "metadata": {
        "id": "Xe5VeZmybqzm"
      }
    }
  ]
}