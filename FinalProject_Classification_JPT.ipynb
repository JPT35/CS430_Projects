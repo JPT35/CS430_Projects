{
  "nbformat": 4,
  "nbformat_minor": 0,
  "metadata": {
    "colab": {
      "provenance": [],
      "authorship_tag": "ABX9TyPm30cqsFM7zf+pqlYzjg+x",
      "include_colab_link": true
    },
    "kernelspec": {
      "name": "python3",
      "display_name": "Python 3"
    },
    "language_info": {
      "name": "python"
    }
  },
  "cells": [
    {
      "cell_type": "markdown",
      "metadata": {
        "id": "view-in-github",
        "colab_type": "text"
      },
      "source": [
        "<a href=\"https://colab.research.google.com/github/JPT35/CS430_Projects/blob/main/FinalProject_Classification_JPT.ipynb\" target=\"_parent\"><img src=\"https://colab.research.google.com/assets/colab-badge.svg\" alt=\"Open In Colab\"/></a>"
      ]
    },
    {
      "cell_type": "markdown",
      "source": [
        "# Logistic Regression and Decision Tree Models:"
      ],
      "metadata": {
        "id": "JvEIoRcOfcAS"
      }
    },
    {
      "cell_type": "markdown",
      "source": [
        "\n",
        "# Imports"
      ],
      "metadata": {
        "id": "jTjW9gAuao9H"
      }
    },
    {
      "cell_type": "code",
      "execution_count": 85,
      "metadata": {
        "id": "OOncRgjMaQti"
      },
      "outputs": [],
      "source": [
        "import pandas as pd\n",
        "import numpy as np\n",
        "import matplotlib.pyplot as plt\n",
        "import seaborn as sns\n",
        "%matplotlib inline"
      ]
    },
    {
      "cell_type": "code",
      "source": [
        "from google.colab import drive\n",
        "drive.mount('/content/gdrive')"
      ],
      "metadata": {
        "colab": {
          "base_uri": "https://localhost:8080/"
        },
        "id": "SO_mov-7arIH",
        "outputId": "77b5df7e-59b9-486b-cc16-59bde10f477a"
      },
      "execution_count": 86,
      "outputs": [
        {
          "output_type": "stream",
          "name": "stdout",
          "text": [
            "Drive already mounted at /content/gdrive; to attempt to forcibly remount, call drive.mount(\"/content/gdrive\", force_remount=True).\n"
          ]
        }
      ]
    },
    {
      "cell_type": "code",
      "source": [
        "from sklearn.linear_model import LogisticRegression"
      ],
      "metadata": {
        "id": "axyB_--Va0ZG"
      },
      "execution_count": 87,
      "outputs": []
    },
    {
      "cell_type": "code",
      "source": [
        "from sklearn.model_selection import train_test_split\n",
        "\n",
        "from sklearn.pipeline import Pipeline\n",
        "from sklearn import set_config\n",
        "set_config(display='diagram')\n",
        "\n",
        "from sklearn.compose import ColumnTransformer\n",
        "from sklearn.preprocessing import MinMaxScaler\n",
        "from sklearn.preprocessing import OneHotEncoder"
      ],
      "metadata": {
        "id": "5spL8Zlza3Dh"
      },
      "execution_count": 88,
      "outputs": []
    },
    {
      "cell_type": "code",
      "source": [
        "from sklearn.metrics import confusion_matrix\n",
        "from sklearn.metrics import precision_score, recall_score, f1_score\n",
        "from sklearn.metrics import roc_curve\n",
        "from sklearn.metrics import roc_auc_score\n",
        "from sklearn.metrics import r2_score\n",
        "from sklearn.metrics import mean_squared_error\n",
        "from sklearn.metrics import precision_recall_curve\n",
        "from sklearn.metrics import auc"
      ],
      "metadata": {
        "id": "42W1VmSJa5i1"
      },
      "execution_count": 89,
      "outputs": []
    },
    {
      "cell_type": "markdown",
      "source": [
        "# Function used to plot the confusion matrix:"
      ],
      "metadata": {
        "id": "LBIQdZRW7_Gh"
      }
    },
    {
      "cell_type": "code",
      "source": [
        "def plot_cm(y_test, y_pred):\n",
        "    cm = confusion_matrix(y_test,y_pred)\n",
        "    fig = plt.figure(figsize=(10,10))\n",
        "    heatmap = sns.heatmap(cm, annot=True, fmt='.2f', cmap='RdYlGn')\n",
        "    plt.ylabel('True label')\n",
        "    plt.xlabel('Predicted Label')"
      ],
      "metadata": {
        "id": "tvSH81Oc7-2s"
      },
      "execution_count": 90,
      "outputs": []
    },
    {
      "cell_type": "markdown",
      "source": [
        "# Function for plotting the roc_curve:"
      ],
      "metadata": {
        "id": "PoNn0D5w8HCW"
      }
    },
    {
      "cell_type": "code",
      "source": [
        "def plot_roc_curve(fpr,tpr):\n",
        "  plt.plot(fpr, tpr, linewidth=2)\n",
        "  plt.plot([0,1],[0,1], 'k--')\n",
        "  plt.xlim([0.0, 1.0])\n",
        "  plt.ylim([0.0, 1.0])"
      ],
      "metadata": {
        "id": "T4WPYuw78KDs"
      },
      "execution_count": 91,
      "outputs": []
    },
    {
      "cell_type": "markdown",
      "source": [
        "# Accessing frive for csv file:"
      ],
      "metadata": {
        "id": "bQAeGCEc8oY9"
      }
    },
    {
      "cell_type": "code",
      "source": [
        "df = pd.read_csv('/content/gdrive/MyDrive/CS-430/regseason2223clean.csv')"
      ],
      "metadata": {
        "id": "5neDTbmIa83t"
      },
      "execution_count": 92,
      "outputs": []
    },
    {
      "cell_type": "markdown",
      "source": [
        "# Printing the head of the dataset:"
      ],
      "metadata": {
        "id": "hElYaRgH8sSm"
      }
    },
    {
      "cell_type": "code",
      "source": [
        "df.head()"
      ],
      "metadata": {
        "colab": {
          "base_uri": "https://localhost:8080/",
          "height": 436
        },
        "id": "v9B49BkMbNxX",
        "outputId": "9d65a75c-c990-4e27-94aa-740aacca3221"
      },
      "execution_count": 93,
      "outputs": [
        {
          "output_type": "execute_result",
          "data": {
            "text/plain": [
              "                                  Matchup  HomeSpread   Pdmargin  Pdspread  \\\n",
              "0             #6 Gonzaga vs. #15 St Marys         3.5  -1.719617  1.780383   \n",
              "1         #127 Notre Dame vs. #56 VA Tech        -6.5   4.992462 -1.507538   \n",
              "2  #158 NC-Wilmgton vs. #71 Col Charlestn       -10.0  11.470956  1.470956   \n",
              "3        #130 GA Tech vs. #154 Florida St         2.0  -6.560043 -4.560043   \n",
              "4           #164 U Mass vs. #145 Richmond        -2.5  -5.439945 -7.939945   \n",
              "\n",
              "   Osmarg  Osspread  Kpmar  Kpsp  Tomarg  blocks  ...   fta  orbs    NF  BPI  \\\n",
              "0    -3.8      -0.3      1   4.5    0.35   -0.55  ... -2.05  0.60 -0.29 -1.7   \n",
              "1    19.1      12.6      7   0.5   -0.75    0.10  ...  2.25  1.10  7.47  7.7   \n",
              "2    11.3       1.3      8  -2.0    0.65    0.00  ...  2.40  1.85  7.76  7.0   \n",
              "3    -2.1      -0.1     -2   0.0    1.75    0.50  ...  3.30 -1.85 -2.60 -0.9   \n",
              "4     4.0       1.5      1  -1.5   -0.50   -1.00  ...  1.45 -1.55  0.72  1.2   \n",
              "\n",
              "    TR    OSP    Nfp   BPIp   Kpp  marg  \n",
              "0 -5.0  -5.29  0.496  0.441  51.0   -26  \n",
              "1  4.8  30.88  0.783  0.827  75.0     3  \n",
              "2  7.2  26.73  0.716  0.794  76.0     5  \n",
              "3  0.6 -33.35  0.418  0.448  42.0    -1  \n",
              "4 -3.5  -9.16  0.552  0.552  53.0    33  \n",
              "\n",
              "[5 rows x 22 columns]"
            ],
            "text/html": [
              "\n",
              "  <div id=\"df-00de6e11-3ac1-4d1f-a082-b18615df3561\">\n",
              "    <div class=\"colab-df-container\">\n",
              "      <div>\n",
              "<style scoped>\n",
              "    .dataframe tbody tr th:only-of-type {\n",
              "        vertical-align: middle;\n",
              "    }\n",
              "\n",
              "    .dataframe tbody tr th {\n",
              "        vertical-align: top;\n",
              "    }\n",
              "\n",
              "    .dataframe thead th {\n",
              "        text-align: right;\n",
              "    }\n",
              "</style>\n",
              "<table border=\"1\" class=\"dataframe\">\n",
              "  <thead>\n",
              "    <tr style=\"text-align: right;\">\n",
              "      <th></th>\n",
              "      <th>Matchup</th>\n",
              "      <th>HomeSpread</th>\n",
              "      <th>Pdmargin</th>\n",
              "      <th>Pdspread</th>\n",
              "      <th>Osmarg</th>\n",
              "      <th>Osspread</th>\n",
              "      <th>Kpmar</th>\n",
              "      <th>Kpsp</th>\n",
              "      <th>Tomarg</th>\n",
              "      <th>blocks</th>\n",
              "      <th>...</th>\n",
              "      <th>fta</th>\n",
              "      <th>orbs</th>\n",
              "      <th>NF</th>\n",
              "      <th>BPI</th>\n",
              "      <th>TR</th>\n",
              "      <th>OSP</th>\n",
              "      <th>Nfp</th>\n",
              "      <th>BPIp</th>\n",
              "      <th>Kpp</th>\n",
              "      <th>marg</th>\n",
              "    </tr>\n",
              "  </thead>\n",
              "  <tbody>\n",
              "    <tr>\n",
              "      <th>0</th>\n",
              "      <td>#6 Gonzaga vs. #15 St Marys</td>\n",
              "      <td>3.5</td>\n",
              "      <td>-1.719617</td>\n",
              "      <td>1.780383</td>\n",
              "      <td>-3.8</td>\n",
              "      <td>-0.3</td>\n",
              "      <td>1</td>\n",
              "      <td>4.5</td>\n",
              "      <td>0.35</td>\n",
              "      <td>-0.55</td>\n",
              "      <td>...</td>\n",
              "      <td>-2.05</td>\n",
              "      <td>0.60</td>\n",
              "      <td>-0.29</td>\n",
              "      <td>-1.7</td>\n",
              "      <td>-5.0</td>\n",
              "      <td>-5.29</td>\n",
              "      <td>0.496</td>\n",
              "      <td>0.441</td>\n",
              "      <td>51.0</td>\n",
              "      <td>-26</td>\n",
              "    </tr>\n",
              "    <tr>\n",
              "      <th>1</th>\n",
              "      <td>#127 Notre Dame vs. #56 VA Tech</td>\n",
              "      <td>-6.5</td>\n",
              "      <td>4.992462</td>\n",
              "      <td>-1.507538</td>\n",
              "      <td>19.1</td>\n",
              "      <td>12.6</td>\n",
              "      <td>7</td>\n",
              "      <td>0.5</td>\n",
              "      <td>-0.75</td>\n",
              "      <td>0.10</td>\n",
              "      <td>...</td>\n",
              "      <td>2.25</td>\n",
              "      <td>1.10</td>\n",
              "      <td>7.47</td>\n",
              "      <td>7.7</td>\n",
              "      <td>4.8</td>\n",
              "      <td>30.88</td>\n",
              "      <td>0.783</td>\n",
              "      <td>0.827</td>\n",
              "      <td>75.0</td>\n",
              "      <td>3</td>\n",
              "    </tr>\n",
              "    <tr>\n",
              "      <th>2</th>\n",
              "      <td>#158 NC-Wilmgton vs. #71 Col Charlestn</td>\n",
              "      <td>-10.0</td>\n",
              "      <td>11.470956</td>\n",
              "      <td>1.470956</td>\n",
              "      <td>11.3</td>\n",
              "      <td>1.3</td>\n",
              "      <td>8</td>\n",
              "      <td>-2.0</td>\n",
              "      <td>0.65</td>\n",
              "      <td>0.00</td>\n",
              "      <td>...</td>\n",
              "      <td>2.40</td>\n",
              "      <td>1.85</td>\n",
              "      <td>7.76</td>\n",
              "      <td>7.0</td>\n",
              "      <td>7.2</td>\n",
              "      <td>26.73</td>\n",
              "      <td>0.716</td>\n",
              "      <td>0.794</td>\n",
              "      <td>76.0</td>\n",
              "      <td>5</td>\n",
              "    </tr>\n",
              "    <tr>\n",
              "      <th>3</th>\n",
              "      <td>#130 GA Tech vs. #154 Florida St</td>\n",
              "      <td>2.0</td>\n",
              "      <td>-6.560043</td>\n",
              "      <td>-4.560043</td>\n",
              "      <td>-2.1</td>\n",
              "      <td>-0.1</td>\n",
              "      <td>-2</td>\n",
              "      <td>0.0</td>\n",
              "      <td>1.75</td>\n",
              "      <td>0.50</td>\n",
              "      <td>...</td>\n",
              "      <td>3.30</td>\n",
              "      <td>-1.85</td>\n",
              "      <td>-2.60</td>\n",
              "      <td>-0.9</td>\n",
              "      <td>0.6</td>\n",
              "      <td>-33.35</td>\n",
              "      <td>0.418</td>\n",
              "      <td>0.448</td>\n",
              "      <td>42.0</td>\n",
              "      <td>-1</td>\n",
              "    </tr>\n",
              "    <tr>\n",
              "      <th>4</th>\n",
              "      <td>#164 U Mass vs. #145 Richmond</td>\n",
              "      <td>-2.5</td>\n",
              "      <td>-5.439945</td>\n",
              "      <td>-7.939945</td>\n",
              "      <td>4.0</td>\n",
              "      <td>1.5</td>\n",
              "      <td>1</td>\n",
              "      <td>-1.5</td>\n",
              "      <td>-0.50</td>\n",
              "      <td>-1.00</td>\n",
              "      <td>...</td>\n",
              "      <td>1.45</td>\n",
              "      <td>-1.55</td>\n",
              "      <td>0.72</td>\n",
              "      <td>1.2</td>\n",
              "      <td>-3.5</td>\n",
              "      <td>-9.16</td>\n",
              "      <td>0.552</td>\n",
              "      <td>0.552</td>\n",
              "      <td>53.0</td>\n",
              "      <td>33</td>\n",
              "    </tr>\n",
              "  </tbody>\n",
              "</table>\n",
              "<p>5 rows × 22 columns</p>\n",
              "</div>\n",
              "      <button class=\"colab-df-convert\" onclick=\"convertToInteractive('df-00de6e11-3ac1-4d1f-a082-b18615df3561')\"\n",
              "              title=\"Convert this dataframe to an interactive table.\"\n",
              "              style=\"display:none;\">\n",
              "        \n",
              "  <svg xmlns=\"http://www.w3.org/2000/svg\" height=\"24px\"viewBox=\"0 0 24 24\"\n",
              "       width=\"24px\">\n",
              "    <path d=\"M0 0h24v24H0V0z\" fill=\"none\"/>\n",
              "    <path d=\"M18.56 5.44l.94 2.06.94-2.06 2.06-.94-2.06-.94-.94-2.06-.94 2.06-2.06.94zm-11 1L8.5 8.5l.94-2.06 2.06-.94-2.06-.94L8.5 2.5l-.94 2.06-2.06.94zm10 10l.94 2.06.94-2.06 2.06-.94-2.06-.94-.94-2.06-.94 2.06-2.06.94z\"/><path d=\"M17.41 7.96l-1.37-1.37c-.4-.4-.92-.59-1.43-.59-.52 0-1.04.2-1.43.59L10.3 9.45l-7.72 7.72c-.78.78-.78 2.05 0 2.83L4 21.41c.39.39.9.59 1.41.59.51 0 1.02-.2 1.41-.59l7.78-7.78 2.81-2.81c.8-.78.8-2.07 0-2.86zM5.41 20L4 18.59l7.72-7.72 1.47 1.35L5.41 20z\"/>\n",
              "  </svg>\n",
              "      </button>\n",
              "      \n",
              "  <style>\n",
              "    .colab-df-container {\n",
              "      display:flex;\n",
              "      flex-wrap:wrap;\n",
              "      gap: 12px;\n",
              "    }\n",
              "\n",
              "    .colab-df-convert {\n",
              "      background-color: #E8F0FE;\n",
              "      border: none;\n",
              "      border-radius: 50%;\n",
              "      cursor: pointer;\n",
              "      display: none;\n",
              "      fill: #1967D2;\n",
              "      height: 32px;\n",
              "      padding: 0 0 0 0;\n",
              "      width: 32px;\n",
              "    }\n",
              "\n",
              "    .colab-df-convert:hover {\n",
              "      background-color: #E2EBFA;\n",
              "      box-shadow: 0px 1px 2px rgba(60, 64, 67, 0.3), 0px 1px 3px 1px rgba(60, 64, 67, 0.15);\n",
              "      fill: #174EA6;\n",
              "    }\n",
              "\n",
              "    [theme=dark] .colab-df-convert {\n",
              "      background-color: #3B4455;\n",
              "      fill: #D2E3FC;\n",
              "    }\n",
              "\n",
              "    [theme=dark] .colab-df-convert:hover {\n",
              "      background-color: #434B5C;\n",
              "      box-shadow: 0px 1px 3px 1px rgba(0, 0, 0, 0.15);\n",
              "      filter: drop-shadow(0px 1px 2px rgba(0, 0, 0, 0.3));\n",
              "      fill: #FFFFFF;\n",
              "    }\n",
              "  </style>\n",
              "\n",
              "      <script>\n",
              "        const buttonEl =\n",
              "          document.querySelector('#df-00de6e11-3ac1-4d1f-a082-b18615df3561 button.colab-df-convert');\n",
              "        buttonEl.style.display =\n",
              "          google.colab.kernel.accessAllowed ? 'block' : 'none';\n",
              "\n",
              "        async function convertToInteractive(key) {\n",
              "          const element = document.querySelector('#df-00de6e11-3ac1-4d1f-a082-b18615df3561');\n",
              "          const dataTable =\n",
              "            await google.colab.kernel.invokeFunction('convertToInteractive',\n",
              "                                                     [key], {});\n",
              "          if (!dataTable) return;\n",
              "\n",
              "          const docLinkHtml = 'Like what you see? Visit the ' +\n",
              "            '<a target=\"_blank\" href=https://colab.research.google.com/notebooks/data_table.ipynb>data table notebook</a>'\n",
              "            + ' to learn more about interactive tables.';\n",
              "          element.innerHTML = '';\n",
              "          dataTable['output_type'] = 'display_data';\n",
              "          await google.colab.output.renderOutput(dataTable, element);\n",
              "          const docLink = document.createElement('div');\n",
              "          docLink.innerHTML = docLinkHtml;\n",
              "          element.appendChild(docLink);\n",
              "        }\n",
              "      </script>\n",
              "    </div>\n",
              "  </div>\n",
              "  "
            ]
          },
          "metadata": {},
          "execution_count": 93
        }
      ]
    },
    {
      "cell_type": "markdown",
      "source": [
        "# Column Descriptions"
      ],
      "metadata": {
        "id": "mbvHZNazcLDK"
      }
    },
    {
      "cell_type": "markdown",
      "source": [
        "    Matchup: The two teams playing against each other.\n",
        "\n",
        "    HomeSpread: The point spread in favor of the home team.\n",
        "\n",
        "    Pdmargin: The margin of victory/defeat for the team playing.\n",
        "\n",
        "    Pdspread: The point spread of the game.\n",
        "\n",
        "    Osmarg: The offensive margin for the visiting team.\n",
        "\n",
        "    Osspread: The offensive point spread for the game.\n",
        "\n",
        "    Kpmar: The margin of victory/defeat adjusted for strength of schedule.\n",
        "\n",
        "    Kpsp: The point spread of the game adjusted for strength of schedule.\n",
        "\n",
        "    Tomarg: The turnover margin for the visiting team.\n",
        "\n",
        "    blocks: The number of blocks made by the team playing.\n",
        "\n",
        "    steal: The number of steals made by the team playing.\n",
        "\n",
        "    fgp: The field goal percentage of the team playing.\n",
        "\n",
        "    fta: The free throw attempts of the team playing.\n",
        "\n",
        "    orbs: The number of offensive rebounds made by the team playing.\n",
        "\n",
        "    NF: The net fouls of the team playing.\n",
        "\n",
        "    BPI: The Basketball Power Index rating of the team playing.\n",
        "\n",
        "    TR: The team rebounds of the team playing.\n",
        "\n",
        "    OSP: The offensive scoring percentage of the team playing.\n",
        "\n",
        "    Nfp: The net fouls per game of the team playing.\n",
        "\n",
        "    BPIp: The Basketball Power Index rating of the opposing team.\n",
        "\n",
        "    Kpp: The point spread adjusted for strength of schedule for the\n",
        "    opposing team.\n",
        "    \n",
        "    marg: The margin of victory/defeat adjusted for strength of schedule\n",
        "    for the opposing team."
      ],
      "metadata": {
        "id": "G9zF9vYncOFj"
      }
    },
    {
      "cell_type": "markdown",
      "source": [
        "# Summarizing statistics of the data"
      ],
      "metadata": {
        "id": "kNN4bgVXbU0S"
      }
    },
    {
      "cell_type": "code",
      "source": [
        "statistics = df.describe()\n",
        "\n",
        "print(statistics)"
      ],
      "metadata": {
        "colab": {
          "base_uri": "https://localhost:8080/"
        },
        "id": "ytINzIi1bV-X",
        "outputId": "f76a486c-110e-447d-97c4-68ea8f1e37ef"
      },
      "execution_count": 94,
      "outputs": [
        {
          "output_type": "stream",
          "name": "stdout",
          "text": [
            "        HomeSpread     Pdmargin     Pdspread       Osmarg     Osspread  \\\n",
            "count  3508.000000  3508.000000  3508.000000  3508.000000  3508.000000   \n",
            "mean     -3.512258     9.302367     5.790109     0.355844    -3.156471   \n",
            "std       7.559723     9.803201     5.949606     9.842773     5.501565   \n",
            "min     -39.500000   -29.276972   -29.276972   -28.800000   -26.800000   \n",
            "25%      -8.000000     2.900866     2.125262    -6.400000    -6.400000   \n",
            "50%      -3.500000     9.116699     5.546606     0.100000    -3.300000   \n",
            "75%       2.000000    15.408211     9.342969     7.200000     0.300000   \n",
            "max      21.000000    57.967747    47.272536    39.000000    26.900000   \n",
            "\n",
            "             Kpmar         Kpsp       Tomarg       blocks        steal  ...  \\\n",
            "count  3508.000000  3508.000000  3508.000000  3508.000000  3508.000000  ...   \n",
            "mean      3.842075     0.329818    -0.861759     0.775086     0.417588  ...   \n",
            "std       7.440257     1.779145     1.796320     1.025580     1.324433  ...   \n",
            "min     -20.000000   -12.500000    -8.500000    -3.000000    -6.300000  ...   \n",
            "25%      -1.000000    -0.500000    -2.000000     0.100000    -0.450000  ...   \n",
            "50%       4.000000     0.500000    -0.850000     0.750000     0.400000  ...   \n",
            "75%       9.000000     1.500000     0.300000     1.450000     1.250000  ...   \n",
            "max      37.000000    35.000000     6.200000     6.100000     5.600000  ...   \n",
            "\n",
            "               fta         orbs           NF          BPI           TR  \\\n",
            "count  3508.000000  3508.000000  3508.000000  3508.000000  3508.000000   \n",
            "mean      2.399344     0.395211     0.620311     0.599430     0.503563   \n",
            "std       2.936415     1.644538     7.694964     6.759604     8.591588   \n",
            "min      -8.400000    -5.850000   -25.240000   -23.900000   -27.800000   \n",
            "25%       0.500000    -0.650000    -4.417500    -3.800000    -5.200000   \n",
            "50%       2.350000     0.400000     0.490000     0.500000     0.300000   \n",
            "75%       4.250000     1.500000     5.610000     5.000000     6.000000   \n",
            "max      13.350000     6.500000    37.490000    26.000000    33.800000   \n",
            "\n",
            "               OSP          Nfp         BPIp          Kpp         marg  \n",
            "count  3508.000000  3508.000000  3508.000000  3508.000000  3508.000000  \n",
            "mean      0.139877     0.583580     0.633019    61.240582     4.079532  \n",
            "std      16.352346     0.241156     0.235900    21.334840    13.373160  \n",
            "min     -64.810000     0.054000     0.019000     4.000000   -43.000000  \n",
            "25%     -10.685000     0.389000     0.467000    47.000000    -5.000000  \n",
            "50%      -0.090000     0.597000     0.671000    63.000000     4.000000  \n",
            "75%      11.110000     0.798000     0.830000    78.000000    12.000000  \n",
            "max      66.930000     0.996000     0.997000    99.960000    57.000000  \n",
            "\n",
            "[8 rows x 21 columns]\n"
          ]
        }
      ]
    },
    {
      "cell_type": "markdown",
      "source": [
        "# Recoding 'Pdmargin' column so 'Win' = 1 and '*Lost*' = 0"
      ],
      "metadata": {
        "id": "5sH-AIEY8MaO"
      }
    },
    {
      "cell_type": "code",
      "source": [
        "df['Pdmargin'] = df['Pdmargin'].apply(lambda x: 1 if x > 0 else 0)"
      ],
      "metadata": {
        "id": "sxVsQtJf8ddD"
      },
      "execution_count": 103,
      "outputs": []
    },
    {
      "cell_type": "markdown",
      "source": [
        "# Dropping unecsessary columns from dataset:"
      ],
      "metadata": {
        "id": "rzfklz6T96sy"
      }
    },
    {
      "cell_type": "code",
      "source": [
        "X = df.drop(columns=['Matchup', 'Pdmargin'])\n",
        "y = df['Pdmargin']"
      ],
      "metadata": {
        "id": "0uWg_JvNeqTz"
      },
      "execution_count": 104,
      "outputs": []
    },
    {
      "cell_type": "markdown",
      "source": [
        "# Splitting the dataset into training and test sets:"
      ],
      "metadata": {
        "id": "3sdq-FtTervN"
      }
    },
    {
      "cell_type": "code",
      "source": [
        "X_train, X_test, y_train, y_test = train_test_split(X, y, test_size=0.2, random_state=0)"
      ],
      "metadata": {
        "id": "7DUg076l-Azu"
      },
      "execution_count": 105,
      "outputs": []
    },
    {
      "cell_type": "markdown",
      "source": [
        "# Creating column transformer:"
      ],
      "metadata": {
        "id": "7fn81HkIfn2N"
      }
    },
    {
      "cell_type": "code",
      "source": [
        "col_transform = ColumnTransformer(transformers=[\n",
        "        ('num', MinMaxScaler(), ['HomeSpread', 'Pdspread', 'Osmarg', 'Osspread', 'Kpmar', 'Kpsp', 'Tomarg', 'blocks', 'steal', 'fgp', 'fta', 'orbs', 'NF', 'BPI', 'TR', 'OSP', 'Nfp', 'BPIp', 'Kpp', 'marg']),\n",
        "    ])\n"
      ],
      "metadata": {
        "id": "iMB90bgefo5V"
      },
      "execution_count": 106,
      "outputs": []
    },
    {
      "cell_type": "markdown",
      "source": [
        "# Creating pipeline:"
      ],
      "metadata": {
        "id": "9Wo2TOFogHoT"
      }
    },
    {
      "cell_type": "code",
      "source": [
        "pipeline = Pipeline([  \n",
        "      ('transform', col_transform),    \n",
        "      ('mlr_model', LogisticRegression(max_iter=1000))])"
      ],
      "metadata": {
        "id": "8ezPsuJogNjc"
      },
      "execution_count": 107,
      "outputs": []
    },
    {
      "cell_type": "markdown",
      "source": [
        "# Checking graphical version of pipeline"
      ],
      "metadata": {
        "id": "FQ9eh2ligXmj"
      }
    },
    {
      "cell_type": "code",
      "source": [
        "set_config(display = 'diagram')\n",
        "pipeline"
      ],
      "metadata": {
        "colab": {
          "base_uri": "https://localhost:8080/",
          "height": 192
        },
        "id": "moXjjCgHgYaD",
        "outputId": "944605c9-b3d2-4819-fef4-598cfc88f851"
      },
      "execution_count": 108,
      "outputs": [
        {
          "output_type": "execute_result",
          "data": {
            "text/plain": [
              "Pipeline(steps=[('transform',\n",
              "                 ColumnTransformer(transformers=[('num', MinMaxScaler(),\n",
              "                                                  ['HomeSpread', 'Pdspread',\n",
              "                                                   'Osmarg', 'Osspread',\n",
              "                                                   'Kpmar', 'Kpsp', 'Tomarg',\n",
              "                                                   'blocks', 'steal', 'fgp',\n",
              "                                                   'fta', 'orbs', 'NF', 'BPI',\n",
              "                                                   'TR', 'OSP', 'Nfp', 'BPIp',\n",
              "                                                   'Kpp', 'marg'])])),\n",
              "                ('mlr_model', LogisticRegression(max_iter=1000))])"
            ],
            "text/html": [
              "<style>#sk-container-id-8 {color: black;background-color: white;}#sk-container-id-8 pre{padding: 0;}#sk-container-id-8 div.sk-toggleable {background-color: white;}#sk-container-id-8 label.sk-toggleable__label {cursor: pointer;display: block;width: 100%;margin-bottom: 0;padding: 0.3em;box-sizing: border-box;text-align: center;}#sk-container-id-8 label.sk-toggleable__label-arrow:before {content: \"▸\";float: left;margin-right: 0.25em;color: #696969;}#sk-container-id-8 label.sk-toggleable__label-arrow:hover:before {color: black;}#sk-container-id-8 div.sk-estimator:hover label.sk-toggleable__label-arrow:before {color: black;}#sk-container-id-8 div.sk-toggleable__content {max-height: 0;max-width: 0;overflow: hidden;text-align: left;background-color: #f0f8ff;}#sk-container-id-8 div.sk-toggleable__content pre {margin: 0.2em;color: black;border-radius: 0.25em;background-color: #f0f8ff;}#sk-container-id-8 input.sk-toggleable__control:checked~div.sk-toggleable__content {max-height: 200px;max-width: 100%;overflow: auto;}#sk-container-id-8 input.sk-toggleable__control:checked~label.sk-toggleable__label-arrow:before {content: \"▾\";}#sk-container-id-8 div.sk-estimator input.sk-toggleable__control:checked~label.sk-toggleable__label {background-color: #d4ebff;}#sk-container-id-8 div.sk-label input.sk-toggleable__control:checked~label.sk-toggleable__label {background-color: #d4ebff;}#sk-container-id-8 input.sk-hidden--visually {border: 0;clip: rect(1px 1px 1px 1px);clip: rect(1px, 1px, 1px, 1px);height: 1px;margin: -1px;overflow: hidden;padding: 0;position: absolute;width: 1px;}#sk-container-id-8 div.sk-estimator {font-family: monospace;background-color: #f0f8ff;border: 1px dotted black;border-radius: 0.25em;box-sizing: border-box;margin-bottom: 0.5em;}#sk-container-id-8 div.sk-estimator:hover {background-color: #d4ebff;}#sk-container-id-8 div.sk-parallel-item::after {content: \"\";width: 100%;border-bottom: 1px solid gray;flex-grow: 1;}#sk-container-id-8 div.sk-label:hover label.sk-toggleable__label {background-color: #d4ebff;}#sk-container-id-8 div.sk-serial::before {content: \"\";position: absolute;border-left: 1px solid gray;box-sizing: border-box;top: 0;bottom: 0;left: 50%;z-index: 0;}#sk-container-id-8 div.sk-serial {display: flex;flex-direction: column;align-items: center;background-color: white;padding-right: 0.2em;padding-left: 0.2em;position: relative;}#sk-container-id-8 div.sk-item {position: relative;z-index: 1;}#sk-container-id-8 div.sk-parallel {display: flex;align-items: stretch;justify-content: center;background-color: white;position: relative;}#sk-container-id-8 div.sk-item::before, #sk-container-id-8 div.sk-parallel-item::before {content: \"\";position: absolute;border-left: 1px solid gray;box-sizing: border-box;top: 0;bottom: 0;left: 50%;z-index: -1;}#sk-container-id-8 div.sk-parallel-item {display: flex;flex-direction: column;z-index: 1;position: relative;background-color: white;}#sk-container-id-8 div.sk-parallel-item:first-child::after {align-self: flex-end;width: 50%;}#sk-container-id-8 div.sk-parallel-item:last-child::after {align-self: flex-start;width: 50%;}#sk-container-id-8 div.sk-parallel-item:only-child::after {width: 0;}#sk-container-id-8 div.sk-dashed-wrapped {border: 1px dashed gray;margin: 0 0.4em 0.5em 0.4em;box-sizing: border-box;padding-bottom: 0.4em;background-color: white;}#sk-container-id-8 div.sk-label label {font-family: monospace;font-weight: bold;display: inline-block;line-height: 1.2em;}#sk-container-id-8 div.sk-label-container {text-align: center;}#sk-container-id-8 div.sk-container {/* jupyter's `normalize.less` sets `[hidden] { display: none; }` but bootstrap.min.css set `[hidden] { display: none !important; }` so we also need the `!important` here to be able to override the default hidden behavior on the sphinx rendered scikit-learn.org. See: https://github.com/scikit-learn/scikit-learn/issues/21755 */display: inline-block !important;position: relative;}#sk-container-id-8 div.sk-text-repr-fallback {display: none;}</style><div id=\"sk-container-id-8\" class=\"sk-top-container\"><div class=\"sk-text-repr-fallback\"><pre>Pipeline(steps=[(&#x27;transform&#x27;,\n",
              "                 ColumnTransformer(transformers=[(&#x27;num&#x27;, MinMaxScaler(),\n",
              "                                                  [&#x27;HomeSpread&#x27;, &#x27;Pdspread&#x27;,\n",
              "                                                   &#x27;Osmarg&#x27;, &#x27;Osspread&#x27;,\n",
              "                                                   &#x27;Kpmar&#x27;, &#x27;Kpsp&#x27;, &#x27;Tomarg&#x27;,\n",
              "                                                   &#x27;blocks&#x27;, &#x27;steal&#x27;, &#x27;fgp&#x27;,\n",
              "                                                   &#x27;fta&#x27;, &#x27;orbs&#x27;, &#x27;NF&#x27;, &#x27;BPI&#x27;,\n",
              "                                                   &#x27;TR&#x27;, &#x27;OSP&#x27;, &#x27;Nfp&#x27;, &#x27;BPIp&#x27;,\n",
              "                                                   &#x27;Kpp&#x27;, &#x27;marg&#x27;])])),\n",
              "                (&#x27;mlr_model&#x27;, LogisticRegression(max_iter=1000))])</pre><b>In a Jupyter environment, please rerun this cell to show the HTML representation or trust the notebook. <br />On GitHub, the HTML representation is unable to render, please try loading this page with nbviewer.org.</b></div><div class=\"sk-container\" hidden><div class=\"sk-item sk-dashed-wrapped\"><div class=\"sk-label-container\"><div class=\"sk-label sk-toggleable\"><input class=\"sk-toggleable__control sk-hidden--visually\" id=\"sk-estimator-id-36\" type=\"checkbox\" ><label for=\"sk-estimator-id-36\" class=\"sk-toggleable__label sk-toggleable__label-arrow\">Pipeline</label><div class=\"sk-toggleable__content\"><pre>Pipeline(steps=[(&#x27;transform&#x27;,\n",
              "                 ColumnTransformer(transformers=[(&#x27;num&#x27;, MinMaxScaler(),\n",
              "                                                  [&#x27;HomeSpread&#x27;, &#x27;Pdspread&#x27;,\n",
              "                                                   &#x27;Osmarg&#x27;, &#x27;Osspread&#x27;,\n",
              "                                                   &#x27;Kpmar&#x27;, &#x27;Kpsp&#x27;, &#x27;Tomarg&#x27;,\n",
              "                                                   &#x27;blocks&#x27;, &#x27;steal&#x27;, &#x27;fgp&#x27;,\n",
              "                                                   &#x27;fta&#x27;, &#x27;orbs&#x27;, &#x27;NF&#x27;, &#x27;BPI&#x27;,\n",
              "                                                   &#x27;TR&#x27;, &#x27;OSP&#x27;, &#x27;Nfp&#x27;, &#x27;BPIp&#x27;,\n",
              "                                                   &#x27;Kpp&#x27;, &#x27;marg&#x27;])])),\n",
              "                (&#x27;mlr_model&#x27;, LogisticRegression(max_iter=1000))])</pre></div></div></div><div class=\"sk-serial\"><div class=\"sk-item sk-dashed-wrapped\"><div class=\"sk-label-container\"><div class=\"sk-label sk-toggleable\"><input class=\"sk-toggleable__control sk-hidden--visually\" id=\"sk-estimator-id-37\" type=\"checkbox\" ><label for=\"sk-estimator-id-37\" class=\"sk-toggleable__label sk-toggleable__label-arrow\">transform: ColumnTransformer</label><div class=\"sk-toggleable__content\"><pre>ColumnTransformer(transformers=[(&#x27;num&#x27;, MinMaxScaler(),\n",
              "                                 [&#x27;HomeSpread&#x27;, &#x27;Pdspread&#x27;, &#x27;Osmarg&#x27;,\n",
              "                                  &#x27;Osspread&#x27;, &#x27;Kpmar&#x27;, &#x27;Kpsp&#x27;, &#x27;Tomarg&#x27;,\n",
              "                                  &#x27;blocks&#x27;, &#x27;steal&#x27;, &#x27;fgp&#x27;, &#x27;fta&#x27;, &#x27;orbs&#x27;, &#x27;NF&#x27;,\n",
              "                                  &#x27;BPI&#x27;, &#x27;TR&#x27;, &#x27;OSP&#x27;, &#x27;Nfp&#x27;, &#x27;BPIp&#x27;, &#x27;Kpp&#x27;,\n",
              "                                  &#x27;marg&#x27;])])</pre></div></div></div><div class=\"sk-parallel\"><div class=\"sk-parallel-item\"><div class=\"sk-item\"><div class=\"sk-label-container\"><div class=\"sk-label sk-toggleable\"><input class=\"sk-toggleable__control sk-hidden--visually\" id=\"sk-estimator-id-38\" type=\"checkbox\" ><label for=\"sk-estimator-id-38\" class=\"sk-toggleable__label sk-toggleable__label-arrow\">num</label><div class=\"sk-toggleable__content\"><pre>[&#x27;HomeSpread&#x27;, &#x27;Pdspread&#x27;, &#x27;Osmarg&#x27;, &#x27;Osspread&#x27;, &#x27;Kpmar&#x27;, &#x27;Kpsp&#x27;, &#x27;Tomarg&#x27;, &#x27;blocks&#x27;, &#x27;steal&#x27;, &#x27;fgp&#x27;, &#x27;fta&#x27;, &#x27;orbs&#x27;, &#x27;NF&#x27;, &#x27;BPI&#x27;, &#x27;TR&#x27;, &#x27;OSP&#x27;, &#x27;Nfp&#x27;, &#x27;BPIp&#x27;, &#x27;Kpp&#x27;, &#x27;marg&#x27;]</pre></div></div></div><div class=\"sk-serial\"><div class=\"sk-item\"><div class=\"sk-estimator sk-toggleable\"><input class=\"sk-toggleable__control sk-hidden--visually\" id=\"sk-estimator-id-39\" type=\"checkbox\" ><label for=\"sk-estimator-id-39\" class=\"sk-toggleable__label sk-toggleable__label-arrow\">MinMaxScaler</label><div class=\"sk-toggleable__content\"><pre>MinMaxScaler()</pre></div></div></div></div></div></div></div></div><div class=\"sk-item\"><div class=\"sk-estimator sk-toggleable\"><input class=\"sk-toggleable__control sk-hidden--visually\" id=\"sk-estimator-id-40\" type=\"checkbox\" ><label for=\"sk-estimator-id-40\" class=\"sk-toggleable__label sk-toggleable__label-arrow\">LogisticRegression</label><div class=\"sk-toggleable__content\"><pre>LogisticRegression(max_iter=1000)</pre></div></div></div></div></div></div></div>"
            ]
          },
          "metadata": {},
          "execution_count": 108
        }
      ]
    },
    {
      "cell_type": "markdown",
      "source": [
        "# Running fit into pipeline:"
      ],
      "metadata": {
        "id": "CumWRY0vgiFy"
      }
    },
    {
      "cell_type": "code",
      "source": [
        "y_train = np.ravel(y_train)"
      ],
      "metadata": {
        "id": "te0_X8kTGOOi"
      },
      "execution_count": 109,
      "outputs": []
    },
    {
      "cell_type": "markdown",
      "source": [
        "# Fitting the pipeline: "
      ],
      "metadata": {
        "id": "S92dPS42G35g"
      }
    },
    {
      "cell_type": "code",
      "source": [
        "pipeline.fit(X_train, y_train)"
      ],
      "metadata": {
        "colab": {
          "base_uri": "https://localhost:8080/",
          "height": 192
        },
        "id": "lL0fIc9QMjAt",
        "outputId": "41b5de73-9b55-4470-d47e-6a3aff3f0fd7"
      },
      "execution_count": 110,
      "outputs": [
        {
          "output_type": "execute_result",
          "data": {
            "text/plain": [
              "Pipeline(steps=[('transform',\n",
              "                 ColumnTransformer(transformers=[('num', MinMaxScaler(),\n",
              "                                                  ['HomeSpread', 'Pdspread',\n",
              "                                                   'Osmarg', 'Osspread',\n",
              "                                                   'Kpmar', 'Kpsp', 'Tomarg',\n",
              "                                                   'blocks', 'steal', 'fgp',\n",
              "                                                   'fta', 'orbs', 'NF', 'BPI',\n",
              "                                                   'TR', 'OSP', 'Nfp', 'BPIp',\n",
              "                                                   'Kpp', 'marg'])])),\n",
              "                ('mlr_model', LogisticRegression(max_iter=1000))])"
            ],
            "text/html": [
              "<style>#sk-container-id-9 {color: black;background-color: white;}#sk-container-id-9 pre{padding: 0;}#sk-container-id-9 div.sk-toggleable {background-color: white;}#sk-container-id-9 label.sk-toggleable__label {cursor: pointer;display: block;width: 100%;margin-bottom: 0;padding: 0.3em;box-sizing: border-box;text-align: center;}#sk-container-id-9 label.sk-toggleable__label-arrow:before {content: \"▸\";float: left;margin-right: 0.25em;color: #696969;}#sk-container-id-9 label.sk-toggleable__label-arrow:hover:before {color: black;}#sk-container-id-9 div.sk-estimator:hover label.sk-toggleable__label-arrow:before {color: black;}#sk-container-id-9 div.sk-toggleable__content {max-height: 0;max-width: 0;overflow: hidden;text-align: left;background-color: #f0f8ff;}#sk-container-id-9 div.sk-toggleable__content pre {margin: 0.2em;color: black;border-radius: 0.25em;background-color: #f0f8ff;}#sk-container-id-9 input.sk-toggleable__control:checked~div.sk-toggleable__content {max-height: 200px;max-width: 100%;overflow: auto;}#sk-container-id-9 input.sk-toggleable__control:checked~label.sk-toggleable__label-arrow:before {content: \"▾\";}#sk-container-id-9 div.sk-estimator input.sk-toggleable__control:checked~label.sk-toggleable__label {background-color: #d4ebff;}#sk-container-id-9 div.sk-label input.sk-toggleable__control:checked~label.sk-toggleable__label {background-color: #d4ebff;}#sk-container-id-9 input.sk-hidden--visually {border: 0;clip: rect(1px 1px 1px 1px);clip: rect(1px, 1px, 1px, 1px);height: 1px;margin: -1px;overflow: hidden;padding: 0;position: absolute;width: 1px;}#sk-container-id-9 div.sk-estimator {font-family: monospace;background-color: #f0f8ff;border: 1px dotted black;border-radius: 0.25em;box-sizing: border-box;margin-bottom: 0.5em;}#sk-container-id-9 div.sk-estimator:hover {background-color: #d4ebff;}#sk-container-id-9 div.sk-parallel-item::after {content: \"\";width: 100%;border-bottom: 1px solid gray;flex-grow: 1;}#sk-container-id-9 div.sk-label:hover label.sk-toggleable__label {background-color: #d4ebff;}#sk-container-id-9 div.sk-serial::before {content: \"\";position: absolute;border-left: 1px solid gray;box-sizing: border-box;top: 0;bottom: 0;left: 50%;z-index: 0;}#sk-container-id-9 div.sk-serial {display: flex;flex-direction: column;align-items: center;background-color: white;padding-right: 0.2em;padding-left: 0.2em;position: relative;}#sk-container-id-9 div.sk-item {position: relative;z-index: 1;}#sk-container-id-9 div.sk-parallel {display: flex;align-items: stretch;justify-content: center;background-color: white;position: relative;}#sk-container-id-9 div.sk-item::before, #sk-container-id-9 div.sk-parallel-item::before {content: \"\";position: absolute;border-left: 1px solid gray;box-sizing: border-box;top: 0;bottom: 0;left: 50%;z-index: -1;}#sk-container-id-9 div.sk-parallel-item {display: flex;flex-direction: column;z-index: 1;position: relative;background-color: white;}#sk-container-id-9 div.sk-parallel-item:first-child::after {align-self: flex-end;width: 50%;}#sk-container-id-9 div.sk-parallel-item:last-child::after {align-self: flex-start;width: 50%;}#sk-container-id-9 div.sk-parallel-item:only-child::after {width: 0;}#sk-container-id-9 div.sk-dashed-wrapped {border: 1px dashed gray;margin: 0 0.4em 0.5em 0.4em;box-sizing: border-box;padding-bottom: 0.4em;background-color: white;}#sk-container-id-9 div.sk-label label {font-family: monospace;font-weight: bold;display: inline-block;line-height: 1.2em;}#sk-container-id-9 div.sk-label-container {text-align: center;}#sk-container-id-9 div.sk-container {/* jupyter's `normalize.less` sets `[hidden] { display: none; }` but bootstrap.min.css set `[hidden] { display: none !important; }` so we also need the `!important` here to be able to override the default hidden behavior on the sphinx rendered scikit-learn.org. See: https://github.com/scikit-learn/scikit-learn/issues/21755 */display: inline-block !important;position: relative;}#sk-container-id-9 div.sk-text-repr-fallback {display: none;}</style><div id=\"sk-container-id-9\" class=\"sk-top-container\"><div class=\"sk-text-repr-fallback\"><pre>Pipeline(steps=[(&#x27;transform&#x27;,\n",
              "                 ColumnTransformer(transformers=[(&#x27;num&#x27;, MinMaxScaler(),\n",
              "                                                  [&#x27;HomeSpread&#x27;, &#x27;Pdspread&#x27;,\n",
              "                                                   &#x27;Osmarg&#x27;, &#x27;Osspread&#x27;,\n",
              "                                                   &#x27;Kpmar&#x27;, &#x27;Kpsp&#x27;, &#x27;Tomarg&#x27;,\n",
              "                                                   &#x27;blocks&#x27;, &#x27;steal&#x27;, &#x27;fgp&#x27;,\n",
              "                                                   &#x27;fta&#x27;, &#x27;orbs&#x27;, &#x27;NF&#x27;, &#x27;BPI&#x27;,\n",
              "                                                   &#x27;TR&#x27;, &#x27;OSP&#x27;, &#x27;Nfp&#x27;, &#x27;BPIp&#x27;,\n",
              "                                                   &#x27;Kpp&#x27;, &#x27;marg&#x27;])])),\n",
              "                (&#x27;mlr_model&#x27;, LogisticRegression(max_iter=1000))])</pre><b>In a Jupyter environment, please rerun this cell to show the HTML representation or trust the notebook. <br />On GitHub, the HTML representation is unable to render, please try loading this page with nbviewer.org.</b></div><div class=\"sk-container\" hidden><div class=\"sk-item sk-dashed-wrapped\"><div class=\"sk-label-container\"><div class=\"sk-label sk-toggleable\"><input class=\"sk-toggleable__control sk-hidden--visually\" id=\"sk-estimator-id-41\" type=\"checkbox\" ><label for=\"sk-estimator-id-41\" class=\"sk-toggleable__label sk-toggleable__label-arrow\">Pipeline</label><div class=\"sk-toggleable__content\"><pre>Pipeline(steps=[(&#x27;transform&#x27;,\n",
              "                 ColumnTransformer(transformers=[(&#x27;num&#x27;, MinMaxScaler(),\n",
              "                                                  [&#x27;HomeSpread&#x27;, &#x27;Pdspread&#x27;,\n",
              "                                                   &#x27;Osmarg&#x27;, &#x27;Osspread&#x27;,\n",
              "                                                   &#x27;Kpmar&#x27;, &#x27;Kpsp&#x27;, &#x27;Tomarg&#x27;,\n",
              "                                                   &#x27;blocks&#x27;, &#x27;steal&#x27;, &#x27;fgp&#x27;,\n",
              "                                                   &#x27;fta&#x27;, &#x27;orbs&#x27;, &#x27;NF&#x27;, &#x27;BPI&#x27;,\n",
              "                                                   &#x27;TR&#x27;, &#x27;OSP&#x27;, &#x27;Nfp&#x27;, &#x27;BPIp&#x27;,\n",
              "                                                   &#x27;Kpp&#x27;, &#x27;marg&#x27;])])),\n",
              "                (&#x27;mlr_model&#x27;, LogisticRegression(max_iter=1000))])</pre></div></div></div><div class=\"sk-serial\"><div class=\"sk-item sk-dashed-wrapped\"><div class=\"sk-label-container\"><div class=\"sk-label sk-toggleable\"><input class=\"sk-toggleable__control sk-hidden--visually\" id=\"sk-estimator-id-42\" type=\"checkbox\" ><label for=\"sk-estimator-id-42\" class=\"sk-toggleable__label sk-toggleable__label-arrow\">transform: ColumnTransformer</label><div class=\"sk-toggleable__content\"><pre>ColumnTransformer(transformers=[(&#x27;num&#x27;, MinMaxScaler(),\n",
              "                                 [&#x27;HomeSpread&#x27;, &#x27;Pdspread&#x27;, &#x27;Osmarg&#x27;,\n",
              "                                  &#x27;Osspread&#x27;, &#x27;Kpmar&#x27;, &#x27;Kpsp&#x27;, &#x27;Tomarg&#x27;,\n",
              "                                  &#x27;blocks&#x27;, &#x27;steal&#x27;, &#x27;fgp&#x27;, &#x27;fta&#x27;, &#x27;orbs&#x27;, &#x27;NF&#x27;,\n",
              "                                  &#x27;BPI&#x27;, &#x27;TR&#x27;, &#x27;OSP&#x27;, &#x27;Nfp&#x27;, &#x27;BPIp&#x27;, &#x27;Kpp&#x27;,\n",
              "                                  &#x27;marg&#x27;])])</pre></div></div></div><div class=\"sk-parallel\"><div class=\"sk-parallel-item\"><div class=\"sk-item\"><div class=\"sk-label-container\"><div class=\"sk-label sk-toggleable\"><input class=\"sk-toggleable__control sk-hidden--visually\" id=\"sk-estimator-id-43\" type=\"checkbox\" ><label for=\"sk-estimator-id-43\" class=\"sk-toggleable__label sk-toggleable__label-arrow\">num</label><div class=\"sk-toggleable__content\"><pre>[&#x27;HomeSpread&#x27;, &#x27;Pdspread&#x27;, &#x27;Osmarg&#x27;, &#x27;Osspread&#x27;, &#x27;Kpmar&#x27;, &#x27;Kpsp&#x27;, &#x27;Tomarg&#x27;, &#x27;blocks&#x27;, &#x27;steal&#x27;, &#x27;fgp&#x27;, &#x27;fta&#x27;, &#x27;orbs&#x27;, &#x27;NF&#x27;, &#x27;BPI&#x27;, &#x27;TR&#x27;, &#x27;OSP&#x27;, &#x27;Nfp&#x27;, &#x27;BPIp&#x27;, &#x27;Kpp&#x27;, &#x27;marg&#x27;]</pre></div></div></div><div class=\"sk-serial\"><div class=\"sk-item\"><div class=\"sk-estimator sk-toggleable\"><input class=\"sk-toggleable__control sk-hidden--visually\" id=\"sk-estimator-id-44\" type=\"checkbox\" ><label for=\"sk-estimator-id-44\" class=\"sk-toggleable__label sk-toggleable__label-arrow\">MinMaxScaler</label><div class=\"sk-toggleable__content\"><pre>MinMaxScaler()</pre></div></div></div></div></div></div></div></div><div class=\"sk-item\"><div class=\"sk-estimator sk-toggleable\"><input class=\"sk-toggleable__control sk-hidden--visually\" id=\"sk-estimator-id-45\" type=\"checkbox\" ><label for=\"sk-estimator-id-45\" class=\"sk-toggleable__label sk-toggleable__label-arrow\">LogisticRegression</label><div class=\"sk-toggleable__content\"><pre>LogisticRegression(max_iter=1000)</pre></div></div></div></div></div></div></div>"
            ]
          },
          "metadata": {},
          "execution_count": 110
        }
      ]
    },
    {
      "cell_type": "markdown",
      "source": [
        "# Running prediction, passing X_test into predict function:"
      ],
      "metadata": {
        "id": "R864IiVKgq4z"
      }
    },
    {
      "cell_type": "code",
      "source": [
        "y_pred = pipeline.predict(X_test)"
      ],
      "metadata": {
        "id": "wikZ3pPDgsSn"
      },
      "execution_count": 111,
      "outputs": []
    },
    {
      "cell_type": "markdown",
      "source": [
        "# Evaluating model:"
      ],
      "metadata": {
        "id": "AF7vAHs2H6MN"
      }
    },
    {
      "cell_type": "markdown",
      "source": [
        "# R2 score:"
      ],
      "metadata": {
        "id": "SSv3wiLYgvy4"
      }
    },
    {
      "cell_type": "code",
      "source": [
        "r2_score(y_pred, y_test)"
      ],
      "metadata": {
        "colab": {
          "base_uri": "https://localhost:8080/"
        },
        "id": "mPP51az6gw8d",
        "outputId": "328535c8-708b-46ae-8d7f-c88924430a6b"
      },
      "execution_count": 112,
      "outputs": [
        {
          "output_type": "execute_result",
          "data": {
            "text/plain": [
              "0.6901318925790562"
            ]
          },
          "metadata": {},
          "execution_count": 112
        }
      ]
    },
    {
      "cell_type": "code",
      "source": [
        "y_pred = pipeline.predict(X_test)\n",
        "\n",
        "plot_cm(y_test, y_pred)\n",
        "\n",
        "precision = precision_score(y_test, y_pred)\n",
        "recall = recall_score(y_test, y_pred)\n",
        "f1 = f1_score(y_test, y_pred)"
      ],
      "metadata": {
        "colab": {
          "base_uri": "https://localhost:8080/",
          "height": 850
        },
        "id": "2R2CWQqDICJ9",
        "outputId": "33549138-70ba-4e03-9b4c-9ce7233a662b"
      },
      "execution_count": 113,
      "outputs": [
        {
          "output_type": "display_data",
          "data": {
            "text/plain": [
              "<Figure size 1000x1000 with 2 Axes>"
            ],
            "image/png": "[encoded data removed]"
          },
          "metadata": {}
        }
      ]
    },
    {
      "cell_type": "code",
      "source": [
        "print(f\"Precision: {precision:.3f}\")\n",
        "print(f\"Recall: {recall:.3f}\")\n",
        "print(f\"F1 score: {f1:.3f}\")"
      ],
      "metadata": {
        "colab": {
          "base_uri": "https://localhost:8080/"
        },
        "id": "YGsCXNU1OeDo",
        "outputId": "a0922bc2-9d37-489d-e1a6-3cb50b11d15f"
      },
      "execution_count": 114,
      "outputs": [
        {
          "output_type": "stream",
          "name": "stdout",
          "text": [
            "Precision: 0.964\n",
            "Recall: 0.995\n",
            "F1 score: 0.979\n"
          ]
        }
      ]
    },
    {
      "cell_type": "markdown",
      "source": [
        "# Interpretation of results: "
      ],
      "metadata": {
        "id": "8jDKC3PyOJRy"
      }
    },
    {
      "cell_type": "markdown",
      "source": [
        "The precision, recall and F1 score are all >.95 suggesting this is an effective model for determining wins and losses for home teams in the 2022-2023 college basketball season.  \n",
        "\n",
        "The confusion matrix shows that the model is much better at predicting the true negatives for this dataset than it is at predicting true positives. For the basketball data, the true positives would be accurately predicted wins, while the true negatives would be accurately predicted losses.  This model is great for predicting a loss but less accurate at predicting a winning outcome based on the data.  "
      ],
      "metadata": {
        "id": "eB0sdG7mOM8g"
      }
    },
    {
      "cell_type": "markdown",
      "source": [
        "# Decision Tree"
      ],
      "metadata": {
        "id": "wbAkONGtTU0z"
      }
    },
    {
      "cell_type": "code",
      "source": [
        "df = pd.read_csv('/content/gdrive/MyDrive/CS-430/Purchase_new.csv')"
      ],
      "metadata": {
        "id": "VoR8pUQkT_2q"
      },
      "execution_count": 198,
      "outputs": []
    },
    {
      "cell_type": "code",
      "source": [
        "from sklearn import tree\n",
        "from sklearn.tree import export_text\n",
        "from sklearn.tree import DecisionTreeClassifier"
      ],
      "metadata": {
        "id": "zZNk0EGwVczD"
      },
      "execution_count": 199,
      "outputs": []
    },
    {
      "cell_type": "code",
      "source": [
        "df.head()"
      ],
      "metadata": {
        "colab": {
          "base_uri": "https://localhost:8080/",
          "height": 206
        },
        "id": "d7ybMaqZlpT2",
        "outputId": "dec831a5-3b02-4dc6-eecc-77869018c494"
      },
      "execution_count": 200,
      "outputs": [
        {
          "output_type": "execute_result",
          "data": {
            "text/plain": [
              "  Holiday Discount Free Delivery Purchase\n",
              "0      No      Yes           Yes      Yes\n",
              "1      No      Yes           Yes      Yes\n",
              "2      No       No            No       No\n",
              "3     yes      Yes           Yes      Yes\n",
              "4     yes      Yes           Yes      Yes"
            ],
            "text/html": [
              "\n",
              "  <div id=\"df-f681db87-cb9e-4fd3-b421-e18ed30e64df\">\n",
              "    <div class=\"colab-df-container\">\n",
              "      <div>\n",
              "<style scoped>\n",
              "    .dataframe tbody tr th:only-of-type {\n",
              "        vertical-align: middle;\n",
              "    }\n",
              "\n",
              "    .dataframe tbody tr th {\n",
              "        vertical-align: top;\n",
              "    }\n",
              "\n",
              "    .dataframe thead th {\n",
              "        text-align: right;\n",
              "    }\n",
              "</style>\n",
              "<table border=\"1\" class=\"dataframe\">\n",
              "  <thead>\n",
              "    <tr style=\"text-align: right;\">\n",
              "      <th></th>\n",
              "      <th>Holiday</th>\n",
              "      <th>Discount</th>\n",
              "      <th>Free Delivery</th>\n",
              "      <th>Purchase</th>\n",
              "    </tr>\n",
              "  </thead>\n",
              "  <tbody>\n",
              "    <tr>\n",
              "      <th>0</th>\n",
              "      <td>No</td>\n",
              "      <td>Yes</td>\n",
              "      <td>Yes</td>\n",
              "      <td>Yes</td>\n",
              "    </tr>\n",
              "    <tr>\n",
              "      <th>1</th>\n",
              "      <td>No</td>\n",
              "      <td>Yes</td>\n",
              "      <td>Yes</td>\n",
              "      <td>Yes</td>\n",
              "    </tr>\n",
              "    <tr>\n",
              "      <th>2</th>\n",
              "      <td>No</td>\n",
              "      <td>No</td>\n",
              "      <td>No</td>\n",
              "      <td>No</td>\n",
              "    </tr>\n",
              "    <tr>\n",
              "      <th>3</th>\n",
              "      <td>yes</td>\n",
              "      <td>Yes</td>\n",
              "      <td>Yes</td>\n",
              "      <td>Yes</td>\n",
              "    </tr>\n",
              "    <tr>\n",
              "      <th>4</th>\n",
              "      <td>yes</td>\n",
              "      <td>Yes</td>\n",
              "      <td>Yes</td>\n",
              "      <td>Yes</td>\n",
              "    </tr>\n",
              "  </tbody>\n",
              "</table>\n",
              "</div>\n",
              "      <button class=\"colab-df-convert\" onclick=\"convertToInteractive('df-f681db87-cb9e-4fd3-b421-e18ed30e64df')\"\n",
              "              title=\"Convert this dataframe to an interactive table.\"\n",
              "              style=\"display:none;\">\n",
              "        \n",
              "  <svg xmlns=\"http://www.w3.org/2000/svg\" height=\"24px\"viewBox=\"0 0 24 24\"\n",
              "       width=\"24px\">\n",
              "    <path d=\"M0 0h24v24H0V0z\" fill=\"none\"/>\n",
              "    <path d=\"M18.56 5.44l.94 2.06.94-2.06 2.06-.94-2.06-.94-.94-2.06-.94 2.06-2.06.94zm-11 1L8.5 8.5l.94-2.06 2.06-.94-2.06-.94L8.5 2.5l-.94 2.06-2.06.94zm10 10l.94 2.06.94-2.06 2.06-.94-2.06-.94-.94-2.06-.94 2.06-2.06.94z\"/><path d=\"M17.41 7.96l-1.37-1.37c-.4-.4-.92-.59-1.43-.59-.52 0-1.04.2-1.43.59L10.3 9.45l-7.72 7.72c-.78.78-.78 2.05 0 2.83L4 21.41c.39.39.9.59 1.41.59.51 0 1.02-.2 1.41-.59l7.78-7.78 2.81-2.81c.8-.78.8-2.07 0-2.86zM5.41 20L4 18.59l7.72-7.72 1.47 1.35L5.41 20z\"/>\n",
              "  </svg>\n",
              "      </button>\n",
              "      \n",
              "  <style>\n",
              "    .colab-df-container {\n",
              "      display:flex;\n",
              "      flex-wrap:wrap;\n",
              "      gap: 12px;\n",
              "    }\n",
              "\n",
              "    .colab-df-convert {\n",
              "      background-color: #E8F0FE;\n",
              "      border: none;\n",
              "      border-radius: 50%;\n",
              "      cursor: pointer;\n",
              "      display: none;\n",
              "      fill: #1967D2;\n",
              "      height: 32px;\n",
              "      padding: 0 0 0 0;\n",
              "      width: 32px;\n",
              "    }\n",
              "\n",
              "    .colab-df-convert:hover {\n",
              "      background-color: #E2EBFA;\n",
              "      box-shadow: 0px 1px 2px rgba(60, 64, 67, 0.3), 0px 1px 3px 1px rgba(60, 64, 67, 0.15);\n",
              "      fill: #174EA6;\n",
              "    }\n",
              "\n",
              "    [theme=dark] .colab-df-convert {\n",
              "      background-color: #3B4455;\n",
              "      fill: #D2E3FC;\n",
              "    }\n",
              "\n",
              "    [theme=dark] .colab-df-convert:hover {\n",
              "      background-color: #434B5C;\n",
              "      box-shadow: 0px 1px 3px 1px rgba(0, 0, 0, 0.15);\n",
              "      filter: drop-shadow(0px 1px 2px rgba(0, 0, 0, 0.3));\n",
              "      fill: #FFFFFF;\n",
              "    }\n",
              "  </style>\n",
              "\n",
              "      <script>\n",
              "        const buttonEl =\n",
              "          document.querySelector('#df-f681db87-cb9e-4fd3-b421-e18ed30e64df button.colab-df-convert');\n",
              "        buttonEl.style.display =\n",
              "          google.colab.kernel.accessAllowed ? 'block' : 'none';\n",
              "\n",
              "        async function convertToInteractive(key) {\n",
              "          const element = document.querySelector('#df-f681db87-cb9e-4fd3-b421-e18ed30e64df');\n",
              "          const dataTable =\n",
              "            await google.colab.kernel.invokeFunction('convertToInteractive',\n",
              "                                                     [key], {});\n",
              "          if (!dataTable) return;\n",
              "\n",
              "          const docLinkHtml = 'Like what you see? Visit the ' +\n",
              "            '<a target=\"_blank\" href=https://colab.research.google.com/notebooks/data_table.ipynb>data table notebook</a>'\n",
              "            + ' to learn more about interactive tables.';\n",
              "          element.innerHTML = '';\n",
              "          dataTable['output_type'] = 'display_data';\n",
              "          await google.colab.output.renderOutput(dataTable, element);\n",
              "          const docLink = document.createElement('div');\n",
              "          docLink.innerHTML = docLinkHtml;\n",
              "          element.appendChild(docLink);\n",
              "        }\n",
              "      </script>\n",
              "    </div>\n",
              "  </div>\n",
              "  "
            ]
          },
          "metadata": {},
          "execution_count": 200
        }
      ]
    },
    {
      "cell_type": "markdown",
      "source": [
        "# Splitting data into Train/test:"
      ],
      "metadata": {
        "id": "qT_ob0plUjQV"
      }
    },
    {
      "cell_type": "code",
      "source": [
        "X = df.drop(['Purchase'], axis=1)\n",
        "y = df['Purchase']"
      ],
      "metadata": {
        "id": "FLGt2mXiUlck"
      },
      "execution_count": 201,
      "outputs": []
    },
    {
      "cell_type": "code",
      "source": [
        "X_train, X_test, y_train, y_test = train_test_split(X, y, test_size=0.2)"
      ],
      "metadata": {
        "id": "3QtZJCEQqE31"
      },
      "execution_count": 202,
      "outputs": []
    },
    {
      "cell_type": "markdown",
      "source": [
        "# Building the pipeline:"
      ],
      "metadata": {
        "id": "Z4SmpwV7UxIq"
      }
    },
    {
      "cell_type": "code",
      "source": [
        "num_attribs = []\n",
        "cat_attribs = ['Holiday', 'Discount', 'Free Delivery']"
      ],
      "metadata": {
        "id": "SJKlWU-8mxIx"
      },
      "execution_count": 203,
      "outputs": []
    },
    {
      "cell_type": "code",
      "source": [
        "columnT = ColumnTransformer(transformers=[('num', MinMaxScaler(), num_attribs), ('cat', OneHotEncoder(), cat_attribs)])"
      ],
      "metadata": {
        "id": "XxoIXFNGmqrI"
      },
      "execution_count": 204,
      "outputs": []
    },
    {
      "cell_type": "code",
      "source": [
        "dtc = DecisionTreeClassifier(max_depth=5, min_samples_leaf=10)"
      ],
      "metadata": {
        "id": "-Syrz_9RUzcy"
      },
      "execution_count": 205,
      "outputs": []
    },
    {
      "cell_type": "code",
      "source": [
        "pipeline = Pipeline(steps=[('columnT', columnT), ('classifier', dtc)])"
      ],
      "metadata": {
        "id": "GCsrMtApWKva"
      },
      "execution_count": 206,
      "outputs": []
    },
    {
      "cell_type": "code",
      "source": [
        "print(df.columns)"
      ],
      "metadata": {
        "colab": {
          "base_uri": "https://localhost:8080/"
        },
        "id": "simRZWsLpvQ5",
        "outputId": "5731d007-85d3-460d-9de5-75d5f90ad5c0"
      },
      "execution_count": 207,
      "outputs": [
        {
          "output_type": "stream",
          "name": "stdout",
          "text": [
            "Index(['Holiday', 'Discount', 'Free Delivery', 'Purchase'], dtype='object')\n"
          ]
        }
      ]
    },
    {
      "cell_type": "markdown",
      "source": [
        "# Fitting pipeline:"
      ],
      "metadata": {
        "id": "jGL-no6RWjOi"
      }
    },
    {
      "cell_type": "code",
      "source": [
        "pipeline.fit(X_train, y_train)"
      ],
      "metadata": {
        "colab": {
          "base_uri": "https://localhost:8080/",
          "height": 192
        },
        "id": "Ftq4RZhsWlcV",
        "outputId": "95487614-8dcb-4385-b78e-8d8a85b006cc"
      },
      "execution_count": 208,
      "outputs": [
        {
          "output_type": "execute_result",
          "data": {
            "text/plain": [
              "Pipeline(steps=[('columnT',\n",
              "                 ColumnTransformer(transformers=[('num', MinMaxScaler(), []),\n",
              "                                                 ('cat', OneHotEncoder(),\n",
              "                                                  ['Holiday', 'Discount',\n",
              "                                                   'Free Delivery'])])),\n",
              "                ('classifier',\n",
              "                 DecisionTreeClassifier(max_depth=5, min_samples_leaf=10))])"
            ],
            "text/html": [
              "<style>#sk-container-id-11 {color: black;background-color: white;}#sk-container-id-11 pre{padding: 0;}#sk-container-id-11 div.sk-toggleable {background-color: white;}#sk-container-id-11 label.sk-toggleable__label {cursor: pointer;display: block;width: 100%;margin-bottom: 0;padding: 0.3em;box-sizing: border-box;text-align: center;}#sk-container-id-11 label.sk-toggleable__label-arrow:before {content: \"▸\";float: left;margin-right: 0.25em;color: #696969;}#sk-container-id-11 label.sk-toggleable__label-arrow:hover:before {color: black;}#sk-container-id-11 div.sk-estimator:hover label.sk-toggleable__label-arrow:before {color: black;}#sk-container-id-11 div.sk-toggleable__content {max-height: 0;max-width: 0;overflow: hidden;text-align: left;background-color: #f0f8ff;}#sk-container-id-11 div.sk-toggleable__content pre {margin: 0.2em;color: black;border-radius: 0.25em;background-color: #f0f8ff;}#sk-container-id-11 input.sk-toggleable__control:checked~div.sk-toggleable__content {max-height: 200px;max-width: 100%;overflow: auto;}#sk-container-id-11 input.sk-toggleable__control:checked~label.sk-toggleable__label-arrow:before {content: \"▾\";}#sk-container-id-11 div.sk-estimator input.sk-toggleable__control:checked~label.sk-toggleable__label {background-color: #d4ebff;}#sk-container-id-11 div.sk-label input.sk-toggleable__control:checked~label.sk-toggleable__label {background-color: #d4ebff;}#sk-container-id-11 input.sk-hidden--visually {border: 0;clip: rect(1px 1px 1px 1px);clip: rect(1px, 1px, 1px, 1px);height: 1px;margin: -1px;overflow: hidden;padding: 0;position: absolute;width: 1px;}#sk-container-id-11 div.sk-estimator {font-family: monospace;background-color: #f0f8ff;border: 1px dotted black;border-radius: 0.25em;box-sizing: border-box;margin-bottom: 0.5em;}#sk-container-id-11 div.sk-estimator:hover {background-color: #d4ebff;}#sk-container-id-11 div.sk-parallel-item::after {content: \"\";width: 100%;border-bottom: 1px solid gray;flex-grow: 1;}#sk-container-id-11 div.sk-label:hover label.sk-toggleable__label {background-color: #d4ebff;}#sk-container-id-11 div.sk-serial::before {content: \"\";position: absolute;border-left: 1px solid gray;box-sizing: border-box;top: 0;bottom: 0;left: 50%;z-index: 0;}#sk-container-id-11 div.sk-serial {display: flex;flex-direction: column;align-items: center;background-color: white;padding-right: 0.2em;padding-left: 0.2em;position: relative;}#sk-container-id-11 div.sk-item {position: relative;z-index: 1;}#sk-container-id-11 div.sk-parallel {display: flex;align-items: stretch;justify-content: center;background-color: white;position: relative;}#sk-container-id-11 div.sk-item::before, #sk-container-id-11 div.sk-parallel-item::before {content: \"\";position: absolute;border-left: 1px solid gray;box-sizing: border-box;top: 0;bottom: 0;left: 50%;z-index: -1;}#sk-container-id-11 div.sk-parallel-item {display: flex;flex-direction: column;z-index: 1;position: relative;background-color: white;}#sk-container-id-11 div.sk-parallel-item:first-child::after {align-self: flex-end;width: 50%;}#sk-container-id-11 div.sk-parallel-item:last-child::after {align-self: flex-start;width: 50%;}#sk-container-id-11 div.sk-parallel-item:only-child::after {width: 0;}#sk-container-id-11 div.sk-dashed-wrapped {border: 1px dashed gray;margin: 0 0.4em 0.5em 0.4em;box-sizing: border-box;padding-bottom: 0.4em;background-color: white;}#sk-container-id-11 div.sk-label label {font-family: monospace;font-weight: bold;display: inline-block;line-height: 1.2em;}#sk-container-id-11 div.sk-label-container {text-align: center;}#sk-container-id-11 div.sk-container {/* jupyter's `normalize.less` sets `[hidden] { display: none; }` but bootstrap.min.css set `[hidden] { display: none !important; }` so we also need the `!important` here to be able to override the default hidden behavior on the sphinx rendered scikit-learn.org. See: https://github.com/scikit-learn/scikit-learn/issues/21755 */display: inline-block !important;position: relative;}#sk-container-id-11 div.sk-text-repr-fallback {display: none;}</style><div id=\"sk-container-id-11\" class=\"sk-top-container\"><div class=\"sk-text-repr-fallback\"><pre>Pipeline(steps=[(&#x27;columnT&#x27;,\n",
              "                 ColumnTransformer(transformers=[(&#x27;num&#x27;, MinMaxScaler(), []),\n",
              "                                                 (&#x27;cat&#x27;, OneHotEncoder(),\n",
              "                                                  [&#x27;Holiday&#x27;, &#x27;Discount&#x27;,\n",
              "                                                   &#x27;Free Delivery&#x27;])])),\n",
              "                (&#x27;classifier&#x27;,\n",
              "                 DecisionTreeClassifier(max_depth=5, min_samples_leaf=10))])</pre><b>In a Jupyter environment, please rerun this cell to show the HTML representation or trust the notebook. <br />On GitHub, the HTML representation is unable to render, please try loading this page with nbviewer.org.</b></div><div class=\"sk-container\" hidden><div class=\"sk-item sk-dashed-wrapped\"><div class=\"sk-label-container\"><div class=\"sk-label sk-toggleable\"><input class=\"sk-toggleable__control sk-hidden--visually\" id=\"sk-estimator-id-53\" type=\"checkbox\" ><label for=\"sk-estimator-id-53\" class=\"sk-toggleable__label sk-toggleable__label-arrow\">Pipeline</label><div class=\"sk-toggleable__content\"><pre>Pipeline(steps=[(&#x27;columnT&#x27;,\n",
              "                 ColumnTransformer(transformers=[(&#x27;num&#x27;, MinMaxScaler(), []),\n",
              "                                                 (&#x27;cat&#x27;, OneHotEncoder(),\n",
              "                                                  [&#x27;Holiday&#x27;, &#x27;Discount&#x27;,\n",
              "                                                   &#x27;Free Delivery&#x27;])])),\n",
              "                (&#x27;classifier&#x27;,\n",
              "                 DecisionTreeClassifier(max_depth=5, min_samples_leaf=10))])</pre></div></div></div><div class=\"sk-serial\"><div class=\"sk-item sk-dashed-wrapped\"><div class=\"sk-label-container\"><div class=\"sk-label sk-toggleable\"><input class=\"sk-toggleable__control sk-hidden--visually\" id=\"sk-estimator-id-54\" type=\"checkbox\" ><label for=\"sk-estimator-id-54\" class=\"sk-toggleable__label sk-toggleable__label-arrow\">columnT: ColumnTransformer</label><div class=\"sk-toggleable__content\"><pre>ColumnTransformer(transformers=[(&#x27;num&#x27;, MinMaxScaler(), []),\n",
              "                                (&#x27;cat&#x27;, OneHotEncoder(),\n",
              "                                 [&#x27;Holiday&#x27;, &#x27;Discount&#x27;, &#x27;Free Delivery&#x27;])])</pre></div></div></div><div class=\"sk-parallel\"><div class=\"sk-parallel-item\"><div class=\"sk-item\"><div class=\"sk-label-container\"><div class=\"sk-label sk-toggleable\"><input class=\"sk-toggleable__control sk-hidden--visually\" id=\"sk-estimator-id-55\" type=\"checkbox\" ><label for=\"sk-estimator-id-55\" class=\"sk-toggleable__label sk-toggleable__label-arrow\">num</label><div class=\"sk-toggleable__content\"><pre>[]</pre></div></div></div><div class=\"sk-serial\"><div class=\"sk-item\"><div class=\"sk-estimator sk-toggleable\"><input class=\"sk-toggleable__control sk-hidden--visually\" id=\"sk-estimator-id-56\" type=\"checkbox\" ><label for=\"sk-estimator-id-56\" class=\"sk-toggleable__label sk-toggleable__label-arrow\">MinMaxScaler</label><div class=\"sk-toggleable__content\"><pre>MinMaxScaler()</pre></div></div></div></div></div></div><div class=\"sk-parallel-item\"><div class=\"sk-item\"><div class=\"sk-label-container\"><div class=\"sk-label sk-toggleable\"><input class=\"sk-toggleable__control sk-hidden--visually\" id=\"sk-estimator-id-57\" type=\"checkbox\" ><label for=\"sk-estimator-id-57\" class=\"sk-toggleable__label sk-toggleable__label-arrow\">cat</label><div class=\"sk-toggleable__content\"><pre>[&#x27;Holiday&#x27;, &#x27;Discount&#x27;, &#x27;Free Delivery&#x27;]</pre></div></div></div><div class=\"sk-serial\"><div class=\"sk-item\"><div class=\"sk-estimator sk-toggleable\"><input class=\"sk-toggleable__control sk-hidden--visually\" id=\"sk-estimator-id-58\" type=\"checkbox\" ><label for=\"sk-estimator-id-58\" class=\"sk-toggleable__label sk-toggleable__label-arrow\">OneHotEncoder</label><div class=\"sk-toggleable__content\"><pre>OneHotEncoder()</pre></div></div></div></div></div></div></div></div><div class=\"sk-item\"><div class=\"sk-estimator sk-toggleable\"><input class=\"sk-toggleable__control sk-hidden--visually\" id=\"sk-estimator-id-59\" type=\"checkbox\" ><label for=\"sk-estimator-id-59\" class=\"sk-toggleable__label sk-toggleable__label-arrow\">DecisionTreeClassifier</label><div class=\"sk-toggleable__content\"><pre>DecisionTreeClassifier(max_depth=5, min_samples_leaf=10)</pre></div></div></div></div></div></div></div>"
            ]
          },
          "metadata": {},
          "execution_count": 208
        }
      ]
    },
    {
      "cell_type": "markdown",
      "source": [
        "# Running pipeline:"
      ],
      "metadata": {
        "id": "e-vpxHSxmLHx"
      }
    },
    {
      "cell_type": "code",
      "source": [
        "y_pred = pipeline.predict(X_test)"
      ],
      "metadata": {
        "id": "W2zBKGiRmNKk"
      },
      "execution_count": 209,
      "outputs": []
    },
    {
      "cell_type": "markdown",
      "source": [
        "# Plotting CM, getting recall, precision and F1"
      ],
      "metadata": {
        "id": "4fHgGK-mmP22"
      }
    },
    {
      "cell_type": "code",
      "source": [
        "plot_cm(y_test, y_pred)\n",
        "\n",
        "precision = precision_score(y_test, y_pred, pos_label='Yes')\n",
        "recall = recall_score(y_test, y_pred, pos_label='Yes')\n",
        "f1 = f1_score(y_test, y_pred, pos_label='Yes')"
      ],
      "metadata": {
        "colab": {
          "base_uri": "https://localhost:8080/",
          "height": 855
        },
        "id": "4iLHzsS3mSK4",
        "outputId": "0a9f47d9-e058-4add-c54e-00fd9dd24974"
      },
      "execution_count": 214,
      "outputs": [
        {
          "output_type": "display_data",
          "data": {
            "text/plain": [
              "<Figure size 1000x1000 with 2 Axes>"
            ],
            "image/png": "[encoded data removed]"
          },
          "metadata": {}
        }
      ]
    },
    {
      "cell_type": "code",
      "source": [
        "print(f\"Precision: {precision:.3f}\")\n",
        "print(f\"Recall: {recall:.3f}\")\n",
        "print(f\"F1 score: {f1:.3f}\")"
      ],
      "metadata": {
        "colab": {
          "base_uri": "https://localhost:8080/"
        },
        "id": "HFhbizktmVGM",
        "outputId": "a7ac30a2-c48c-4901-fc8c-3ad04b07e5ce"
      },
      "execution_count": 211,
      "outputs": [
        {
          "output_type": "stream",
          "name": "stdout",
          "text": [
            "Precision: 0.964\n",
            "Recall: 0.995\n",
            "F1 score: 0.979\n"
          ]
        }
      ]
    },
    {
      "cell_type": "markdown",
      "source": [
        "# Interpretation of reults:"
      ],
      "metadata": {
        "id": "5cHFHx88WwKb"
      }
    },
    {
      "cell_type": "markdown",
      "source": [
        "Using an decision tree classification model seems to work sufficiently for this dataset.  The precision, recall and F1 scores are all above .95.  The confusion matrix shows that this model correctly identified true negatives and had one false positive result.  The size of this dataset is an issue however, and I woulnd't trust interpretations made from a dataset that is this small for any practical use.  "
      ],
      "metadata": {
        "id": "B2aWNs_sWyRm"
      }
    }
  ]
}